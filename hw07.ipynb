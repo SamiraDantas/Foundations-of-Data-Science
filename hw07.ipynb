{
 "cells": [
  {
   "cell_type": "code",
   "execution_count": 1,
   "id": "8ed1de2f",
   "metadata": {
    "deletable": false,
    "editable": false
   },
   "outputs": [],
   "source": [
    "# Initialize Otter\n",
    "import otter\n",
    "grader = otter.Notebook(\"hw07.ipynb\")"
   ]
  },
  {
   "cell_type": "markdown",
   "id": "eada0fca-5307-4b40-bca6-1d47494d025d",
   "metadata": {},
   "source": [
    "<img style=\"display: block; margin-left: auto; margin-right: auto\" src=\"./ccsf-logo.png\" width=\"250rem;\" alt=\"The CCSF black and white logo\">"
   ]
  },
  {
   "cell_type": "markdown",
   "id": "d4bcd983-f617-4238-a3b4-0d421b3bc277",
   "metadata": {},
   "source": [
    "# Homework 7: Testing Hypotheses"
   ]
  },
  {
   "cell_type": "markdown",
   "id": "0e5b798e-887d-46f0-9fc5-33b9e0f8b717",
   "metadata": {},
   "source": [
    "## References\n",
    "\n",
    "* [Testing Hypotheses](https://www.inferentialthinking.com/chapters/11/Testing_Hypotheses.html)\n",
    "* [`datascience` Documentation](https://datascience.readthedocs.io/)\n",
    "* [Python Quick Reference](https://ccsf-math-108.github.io/materials-fa23/resources/quick_reference.html)"
   ]
  },
  {
   "cell_type": "markdown",
   "id": "dfc3344a-d304-4baa-925f-f5bdab76611f",
   "metadata": {},
   "source": [
    "## Assignment Reminders"
   ]
  },
  {
   "cell_type": "markdown",
   "id": "7ba116e3-d165-4a3b-8142-30f5b1904924",
   "metadata": {},
   "source": [
    "- Make sure to run the code cell at the top of this notebook that starts with `# Initialize Otter` to load the auto-grader.\n",
    "- For all tasks indicated with a 🔎 that you must write explanations and sentences for, provide your answer in the designated space.\n",
    "- Throughout this assignment and all future ones, please be sure to not re-assign variables throughout the notebook! _For example, if you use `max_temperature` in your answer to one question, do not reassign it later on. Otherwise, you will fail tests that you thought you were passing previously!_\n",
    "- We encourage you to discuss this assignment with others but make sure to write and submit your own code. Refer to the syllabus to learn more about how to learn cooperatively.\n",
    "- Unless you are asked otherwise, use the non-interactive visualizations when asked to produce a visualization for a task.\n",
    "- View the related <a href=\"https://ccsf.instructure.com\" target=\"_blank\">Canvas</a> Assignment page for additional details.\n",
    "\n",
    "Run the following code cell to import the tools for this assignment."
   ]
  },
  {
   "cell_type": "code",
   "execution_count": 2,
   "id": "5a7f9c09-4f54-4b65-9c85-48eb8172955a",
   "metadata": {
    "tags": []
   },
   "outputs": [],
   "source": [
    "from datascience import *\n",
    "import numpy as np\n",
    "%matplotlib inline\n",
    "import matplotlib.pyplot as plt\n",
    "plt.style.use('fivethirtyeight')"
   ]
  },
  {
   "cell_type": "markdown",
   "id": "68a2cc38-f517-4510-b8a1-aee60e4076cb",
   "metadata": {},
   "source": [
    "## Vaccinations Across The Nation"
   ]
  },
  {
   "cell_type": "markdown",
   "id": "968f5298-39a5-4071-b959-fd3cd9fab2be",
   "metadata": {},
   "source": [
    "A vaccination clinic has two types of vaccines against a disease. Each person who comes in to be vaccinated gets either Vaccine 1 or Vaccine 2. One week, everyone who came in on Monday, Wednesday, and Friday was given Vaccine 1. Everyone who came in on Tuesday and Thursday was given Vaccine 2. The clinic is closed on weekends.\n",
    "\n",
    "Doctor DeNero at the clinic said, \"Oh wow, it's just like tossing a coin that lands heads with chance $\\frac{3}{5}$. Heads you get Vaccine 1 and Tails you get Vaccine 2.\"\n",
    "\n",
    "But Doctor Sahai said, \"No, it's not. We're not doing anything like tossing a coin.\"\n",
    "\n",
    "That week, the clinic gave Vaccine 1 to 211 people and Vaccine 2 to 107 people. Conduct a test of hypotheses to see which doctor's position is better supported by the data."
   ]
  },
  {
   "cell_type": "markdown",
   "id": "713e2f11-5d9a-4be8-8226-1fc073a0ad57",
   "metadata": {
    "tags": []
   },
   "source": [
    "### Task 01 📍"
   ]
  },
  {
   "cell_type": "markdown",
   "id": "24961ebf-a948-49a7-9108-fd092f52b2ee",
   "metadata": {
    "deletable": false,
    "editable": false
   },
   "source": [
    "Given the information above, what was the sample size for the data, and what was the percentage of people who got **Vaccine 1?**\n",
    "\n",
    "*Note*: Your percent should be a number between 0 and 100.\n",
    "\n",
    "_Points:_ 3"
   ]
  },
  {
   "cell_type": "code",
   "execution_count": 3,
   "id": "e76c31c2-1f08-4d88-8640-233e57cb3fcb",
   "metadata": {
    "tags": []
   },
   "outputs": [
    {
     "name": "stdout",
     "output_type": "stream",
     "text": [
      "Sample Size: 318\n",
      "Vaccine 1 Percent: 66.35220125786164\n"
     ]
    }
   ],
   "source": [
    "sample_size = 318\n",
    "percent_V1 = 100 * 211 / 318\n",
    "\n",
    "print(f\"Sample Size: {sample_size}\")\n",
    "print(f\"Vaccine 1 Percent: {percent_V1}\")"
   ]
  },
  {
   "cell_type": "code",
   "execution_count": 4,
   "id": "cd473064",
   "metadata": {
    "deletable": false,
    "editable": false
   },
   "outputs": [
    {
     "data": {
      "text/html": [
       "<p><strong><pre style='display: inline;'>task_01</pre></strong> passed! 🍀</p><p><strong><pre style='display: inline;'>task_01 - 1</pre> message:</strong> ✅ sample_size is an int</p><p><strong><pre style='display: inline;'>task_01 - 2</pre> message:</strong> ✅ percent_V1 is numerical (float or int)</p><p><strong><pre style='display: inline;'>task_01 - 3</pre> message:</strong> ✅ sample_size is within a possible range of values.</p><p><strong><pre style='display: inline;'>task_01 - 4</pre> message:</strong> ✅ percent_V1 is a value betwen 0 and 100.</p>"
      ],
      "text/plain": [
       "task_01 results: All test cases passed!\n",
       "task_01 - 1 message: ✅ sample_size is an int\n",
       "task_01 - 2 message: ✅ percent_V1 is numerical (float or int)\n",
       "task_01 - 3 message: ✅ sample_size is within a possible range of values.\n",
       "task_01 - 4 message: ✅ percent_V1 is a value betwen 0 and 100."
      ]
     },
     "execution_count": 4,
     "metadata": {},
     "output_type": "execute_result"
    }
   ],
   "source": [
    "grader.check(\"task_01\")"
   ]
  },
  {
   "cell_type": "markdown",
   "id": "19ee725e-6fde-4849-8e63-c29a4aef2966",
   "metadata": {},
   "source": [
    "### Task 02 📍🔎"
   ]
  },
  {
   "cell_type": "markdown",
   "id": "086360b2-c517-4aa5-9bfe-724dda380086",
   "metadata": {
    "deletable": false,
    "editable": false
   },
   "source": [
    "<!-- BEGIN QUESTION -->\n",
    "\n",
    "State the null hypothesis. It should reflect the position of either Dr. DeNero or Dr. Sahai.\n",
    "\n",
    "*Note:* Check out [11.3](https://inferentialthinking.com/chapters/11/3/Decisions_and_Uncertainty.html#step-1-the-hypotheses) for a refresher on hypotheses.\n",
    "\n",
    "_Points:_ 2"
   ]
  },
  {
   "cell_type": "markdown",
   "id": "c60de352",
   "metadata": {},
   "source": [
    "The null hypothesis is the probability of receiving vaccine 1 is 0.6, and the probability of receiving vaccine 2 is 0.4."
   ]
  },
  {
   "cell_type": "markdown",
   "id": "98ea7a7f-3c8c-486b-ae0f-25f7c373a852",
   "metadata": {
    "deletable": false,
    "editable": false
   },
   "source": [
    "<!-- END QUESTION -->\n",
    "\n",
    "### Task 03 📍🔎"
   ]
  },
  {
   "cell_type": "markdown",
   "id": "1565da04-8f2e-49df-8441-2ea749a38506",
   "metadata": {
    "deletable": false,
    "editable": false
   },
   "source": [
    "<!-- BEGIN QUESTION -->\n",
    "\n",
    "State the alternative hypothesis. It should reflect the position of the doctor you did not choose to represent in Task 02.\n",
    "\n",
    "*Note:* Check out [11.3](https://inferentialthinking.com/chapters/11/3/Decisions_and_Uncertainty.html#step-1-the-hypotheses) for a refresher on hypotheses.\n",
    "\n",
    "_Points:_ 2"
   ]
  },
  {
   "cell_type": "markdown",
   "id": "8913b752",
   "metadata": {},
   "source": [
    "The alternative hypothesis is the probability of receiving vaccine 1 is different than 0.6."
   ]
  },
  {
   "cell_type": "markdown",
   "id": "f791abd6-61e7-4e45-81f8-898a5f08bd3a",
   "metadata": {
    "deletable": false,
    "editable": false,
    "tags": []
   },
   "source": [
    "<!-- END QUESTION -->\n",
    "\n",
    "### Task 04 📍"
   ]
  },
  {
   "cell_type": "markdown",
   "id": "31273580-72a1-4d7b-ab04-0f07b47d0561",
   "metadata": {
    "deletable": false,
    "editable": false
   },
   "source": [
    "One of the test statistics below is appropriate for testing these hypotheses. Assign the variable `valid_test_stat` to the number corresponding to the correct test statistic.\n",
    "\n",
    "1. percent of heads - 60\n",
    "2. percent of heads - 50\n",
    "3. |percent of heads - 60|\n",
    "4. |percent of heads - 50|\n",
    "\n",
    "_Points:_ 2"
   ]
  },
  {
   "cell_type": "code",
   "execution_count": 5,
   "id": "d7d602d8-5b86-4b99-89d3-31b58b1ee13a",
   "metadata": {
    "tags": []
   },
   "outputs": [
    {
     "data": {
      "text/plain": [
       "3"
      ]
     },
     "execution_count": 5,
     "metadata": {},
     "output_type": "execute_result"
    }
   ],
   "source": [
    "valid_test_stat = 3\n",
    "valid_test_stat"
   ]
  },
  {
   "cell_type": "code",
   "execution_count": 6,
   "id": "e98b127c",
   "metadata": {
    "deletable": false,
    "editable": false
   },
   "outputs": [
    {
     "data": {
      "text/html": [
       "<p><strong><pre style='display: inline;'>task_04</pre></strong> passed! 🌟</p><p><strong><pre style='display: inline;'>task_04 - 1</pre> message:</strong> ✅ valid_test_stat is an integer.</p><p><strong><pre style='display: inline;'>task_04 - 2</pre> message:</strong> ✅ valid_test_stat is a number between 1 and 4.</p>"
      ],
      "text/plain": [
       "task_04 results: All test cases passed!\n",
       "task_04 - 1 message: ✅ valid_test_stat is an integer.\n",
       "task_04 - 2 message: ✅ valid_test_stat is a number between 1 and 4."
      ]
     },
     "execution_count": 6,
     "metadata": {},
     "output_type": "execute_result"
    }
   ],
   "source": [
    "grader.check(\"task_04\")"
   ]
  },
  {
   "cell_type": "markdown",
   "id": "704223d6-b6f3-41d2-8040-53a3a0c8a669",
   "metadata": {
    "tags": []
   },
   "source": [
    "### Task 05 📍"
   ]
  },
  {
   "cell_type": "markdown",
   "id": "0b229fa1-ae0a-4812-a953-df5a75820a22",
   "metadata": {
    "deletable": false,
    "editable": false
   },
   "source": [
    "Using your answer from Task 01 and Task 04, find the observed value of the test statistic and assign it to the variable `observed_statistic`.\n",
    "\n",
    "_Points:_ 2"
   ]
  },
  {
   "cell_type": "code",
   "execution_count": 7,
   "id": "3c2117ea-360b-484a-8769-0fc0f3e464bf",
   "metadata": {
    "tags": []
   },
   "outputs": [
    {
     "data": {
      "text/plain": [
       "6.352201257861637"
      ]
     },
     "execution_count": 7,
     "metadata": {},
     "output_type": "execute_result"
    }
   ],
   "source": [
    "observed_statistic = abs(percent_V1 - 3/5 * 100)\n",
    "observed_statistic"
   ]
  },
  {
   "cell_type": "code",
   "execution_count": 8,
   "id": "794f5302",
   "metadata": {
    "deletable": false,
    "editable": false
   },
   "outputs": [
    {
     "data": {
      "text/html": [
       "<p><strong><pre style='display: inline;'>task_05</pre></strong> passed! 🙌</p><p><strong><pre style='display: inline;'>task_05 - 1</pre> message:</strong> ✅ observed_statistic is a float.</p><p><strong><pre style='display: inline;'>task_05 - 2</pre> message:</strong> ✅ observed_statistic is a number between 0 and 100.</p>"
      ],
      "text/plain": [
       "task_05 results: All test cases passed!\n",
       "task_05 - 1 message: ✅ observed_statistic is a float.\n",
       "task_05 - 2 message: ✅ observed_statistic is a number between 0 and 100."
      ]
     },
     "execution_count": 8,
     "metadata": {},
     "output_type": "execute_result"
    }
   ],
   "source": [
    "grader.check(\"task_05\")"
   ]
  },
  {
   "cell_type": "markdown",
   "id": "e321a783-5c78-4941-8e80-49666ac696ae",
   "metadata": {
    "tags": []
   },
   "source": [
    "### Task 06 📍"
   ]
  },
  {
   "cell_type": "markdown",
   "id": "c6b078ce-7540-4140-9f11-a34c48324b83",
   "metadata": {
    "deletable": false,
    "editable": false
   },
   "source": [
    "In order to perform this hypothesis test, you must simulate the test statistic. From the four options below, pick the assumption that is needed for this simulation. Assign `assumption_needed` to an integer corresponding to the assumption.\n",
    "\n",
    "1. The statistic must be simulated under the null hypothesis.\n",
    "2. The statistic must be simulated under the alternative hypothesis.\n",
    "3. The statistic must be simulated under both hypotheses.\n",
    "4. No assumptions are needed. We can just simulate the statistic.\n",
    "\n",
    "_Points:_ 2"
   ]
  },
  {
   "cell_type": "code",
   "execution_count": 9,
   "id": "84ff632f-55df-4546-bf5d-00bdff69b993",
   "metadata": {
    "tags": []
   },
   "outputs": [
    {
     "data": {
      "text/plain": [
       "1"
      ]
     },
     "execution_count": 9,
     "metadata": {},
     "output_type": "execute_result"
    }
   ],
   "source": [
    "assumption_needed = 1\n",
    "assumption_needed"
   ]
  },
  {
   "cell_type": "code",
   "execution_count": 10,
   "id": "21576c9e",
   "metadata": {
    "deletable": false,
    "editable": false
   },
   "outputs": [
    {
     "data": {
      "text/html": [
       "<p><strong><pre style='display: inline;'>task_06</pre></strong> passed! 🎉</p><p><strong><pre style='display: inline;'>task_06 - 1</pre> message:</strong> ✅ assumption_needed is an int.</p><p><strong><pre style='display: inline;'>task_06 - 2</pre> message:</strong> ✅ assumption_needed is a number between 1 and 4.</p>"
      ],
      "text/plain": [
       "task_06 results: All test cases passed!\n",
       "task_06 - 1 message: ✅ assumption_needed is an int.\n",
       "task_06 - 2 message: ✅ assumption_needed is a number between 1 and 4."
      ]
     },
     "execution_count": 10,
     "metadata": {},
     "output_type": "execute_result"
    }
   ],
   "source": [
    "grader.check(\"task_06\")"
   ]
  },
  {
   "cell_type": "markdown",
   "id": "665ac7b6-2908-4586-a8da-dcf8fc2a2593",
   "metadata": {},
   "source": [
    "### Task 07 📍🔎"
   ]
  },
  {
   "cell_type": "markdown",
   "id": "f2e4b6ce-0078-49c3-857a-f0eeeade0c1e",
   "metadata": {
    "deletable": false,
    "editable": false
   },
   "source": [
    "<!-- BEGIN QUESTION -->\n",
    "\n",
    "Simulate 20,000 values of the test statistic under the assumption you picked in Task 06. \n",
    "\n",
    "As usual, start by defining a function that simulates one value of the statistic. Your function should use `sample_proportions`. (You may find a variable defined in Task 01 useful here!) Then, write a `for` loop to simulate multiple values and collect them in the array `simulated_statistics`.\n",
    "\n",
    "Use as many lines of code as you need. We have included the code that visualizes the distribution of the simulated values. The red dot represents the observed statistic you found in Task 05.\n",
    "\n",
    "_Points:_ 4"
   ]
  },
  {
   "cell_type": "code",
   "execution_count": 11,
   "id": "1f074404-aafe-408c-8805-875f81b51592",
   "metadata": {
    "tags": []
   },
   "outputs": [
    {
     "data": {
      "text/plain": [
       "2.8930817610062887"
      ]
     },
     "execution_count": 11,
     "metadata": {},
     "output_type": "execute_result"
    }
   ],
   "source": [
    "vs_proportions = make_array(0.6, 0.4)\n",
    "vs1_proportions = vs_proportions.item(0)\n",
    "\n",
    "def one_simulated_statistic():\n",
    "    sample_proportion_V1 = sample_proportions(sample_size, vs_proportions).item(0)\n",
    "    return 100 * abs(sample_proportion_V1 - vs1_proportions)\n",
    "    \n",
    "\n",
    "num_simulations = 20000\n",
    "simulated_statistics = make_array() \n",
    "\n",
    "for i in np.arange(num_simulations):\n",
    "    simulated_statistics = np.append(simulated_statistics, one_simulated_statistic())\n",
    "\n",
    "# Run the this cell a few times to see how the simulated statistic changes\n",
    "one_simulated_statistic()"
   ]
  },
  {
   "cell_type": "code",
   "execution_count": 12,
   "id": "22812062-c0aa-48d9-b2a5-d603a707e663",
   "metadata": {
    "tags": []
   },
   "outputs": [
    {
     "data": {
      "image/png": "[encoded data removed]",
      "text/plain": [
       "<Figure size 600x400 with 1 Axes>"
      ]
     },
     "metadata": {},
     "output_type": "display_data"
    }
   ],
   "source": [
    "# Run this cell to produce a histogram of the simulated statistics\n",
    "\n",
    "Table().with_columns('Simulated Statistic', simulated_statistics).hist()\n",
    "plt.scatter(observed_statistic, -0.002, color='red', s=40);"
   ]
  },
  {
   "cell_type": "markdown",
   "id": "88d156c1-b506-4795-982e-e7b35eed5578",
   "metadata": {
    "deletable": false,
    "editable": false,
    "tags": []
   },
   "source": [
    "<!-- END QUESTION -->\n",
    "\n",
    "### Task 08 📍"
   ]
  },
  {
   "cell_type": "markdown",
   "id": "d3047bc2-553a-4966-8e8f-bbe30faf6547",
   "metadata": {
    "deletable": false,
    "editable": false
   },
   "source": [
    "Using `simulated_statistics`, `observed_statistic`, and `num_simulations`, find the empirical p-value based on the simulation.\n",
    "\n",
    "_Points:_ 2"
   ]
  },
  {
   "cell_type": "code",
   "execution_count": 13,
   "id": "8bd438c9-9457-4b8c-a7ca-d9d273cbd98b",
   "metadata": {
    "tags": []
   },
   "outputs": [
    {
     "data": {
      "text/plain": [
       "0.01885"
      ]
     },
     "execution_count": 13,
     "metadata": {},
     "output_type": "execute_result"
    }
   ],
   "source": [
    "p_value = np.count_nonzero(simulated_statistics >= observed_statistic) / num_simulations\n",
    "p_value"
   ]
  },
  {
   "cell_type": "code",
   "execution_count": 14,
   "id": "a1959286",
   "metadata": {
    "deletable": false,
    "editable": false
   },
   "outputs": [
    {
     "data": {
      "text/html": [
       "<p><strong><pre style='display: inline;'>task_08</pre></strong> passed! 🌟</p><p><strong><pre style='display: inline;'>task_08 - 1</pre> message:</strong> ✅ p_value is a float.</p><p><strong><pre style='display: inline;'>task_08 - 2</pre> message:</strong> ✅ p_value is a number between 0 and 1.</p>"
      ],
      "text/plain": [
       "task_08 results: All test cases passed!\n",
       "task_08 - 1 message: ✅ p_value is a float.\n",
       "task_08 - 2 message: ✅ p_value is a number between 0 and 1."
      ]
     },
     "execution_count": 14,
     "metadata": {},
     "output_type": "execute_result"
    }
   ],
   "source": [
    "grader.check(\"task_08\")"
   ]
  },
  {
   "cell_type": "markdown",
   "id": "414ac7af-b96e-4f93-b5c8-29878cab7527",
   "metadata": {
    "tags": []
   },
   "source": [
    "### Task 09 📍"
   ]
  },
  {
   "cell_type": "markdown",
   "id": "252bbc67-698c-45ff-8018-cabacc8be92d",
   "metadata": {
    "deletable": false,
    "editable": false
   },
   "source": [
    "Assign `correct_doctor` to the number corresponding to the correct statement below. Use the 5% cutoff for the p-value.\n",
    "\n",
    "1. The data support Dr. DeNero's position more than they support Dr. Sahai's.\n",
    "2. The data support Dr. Sahai's position more than they support Dr. DeNero's.\n",
    "\n",
    "As a reminder, here are the two claims made by Dr. DeNero and Dr. Sahai:\n",
    "> **Doctor DeNero:** \"Oh wow, it's just like tossing a coin that lands heads with chance $\\frac{3}{5}$. Heads you get Vaccine 1 and Tails you get Vaccine 2.\"\n",
    "\n",
    ">**Doctor Sahai:** \"No, it's not. We're not doing anything like tossing a coin.\"\n",
    "\n",
    "_Points:_ 2"
   ]
  },
  {
   "cell_type": "code",
   "execution_count": 15,
   "id": "9b960ff3-5bdc-4ed1-931e-73ebe75821c5",
   "metadata": {
    "tags": []
   },
   "outputs": [
    {
     "data": {
      "text/plain": [
       "2"
      ]
     },
     "execution_count": 15,
     "metadata": {},
     "output_type": "execute_result"
    }
   ],
   "source": [
    "correct_doctor = 2\n",
    "correct_doctor"
   ]
  },
  {
   "cell_type": "code",
   "execution_count": 16,
   "id": "1145a317",
   "metadata": {
    "deletable": false,
    "editable": false
   },
   "outputs": [
    {
     "data": {
      "text/html": [
       "<p><strong><pre style='display: inline;'>task_09</pre></strong> passed! 🙌</p><p><strong><pre style='display: inline;'>task_09 - 1</pre> message:</strong> ✅ correct_doctor is an int.</p><p><strong><pre style='display: inline;'>task_09 - 2</pre> message:</strong> ✅ correct_doctor is either 1 or 2.</p>"
      ],
      "text/plain": [
       "task_09 results: All test cases passed!\n",
       "task_09 - 1 message: ✅ correct_doctor is an int.\n",
       "task_09 - 2 message: ✅ correct_doctor is either 1 or 2."
      ]
     },
     "execution_count": 16,
     "metadata": {},
     "output_type": "execute_result"
    }
   ],
   "source": [
    "grader.check(\"task_09\")"
   ]
  },
  {
   "cell_type": "markdown",
   "id": "71c1aa75-e0d6-4eca-8e14-c690d176a149",
   "metadata": {},
   "source": [
    "## Using TVD as a Test Statistic"
   ]
  },
  {
   "cell_type": "markdown",
   "id": "ae1317e9-038b-47e3-b6c2-6eb47695e5ee",
   "metadata": {},
   "source": [
    "Before beginning this section, please read [this section](https://inferentialthinking.com/chapters/11/2/Multiple_Categories.html#a-new-statistic-the-distance-between-two-distributions) of the textbook on TVD!"
   ]
  },
  {
   "cell_type": "markdown",
   "id": "dd45b39e-064e-4c41-8eca-0416f32f38bb",
   "metadata": {},
   "source": [
    "**Total variation distance (TVD)** is a special type of test statistic that we use when we want to compare two distributions of *categorical data*. It is often used when we observe that a set of observed proportions/probabilities is different than what we expect under the null model. \n",
    "\n",
    "Consider a six-sided die that we roll 6,000 times. If the die is fair, we would expect that each face comes up $\\frac{1}{6}$ of the time. By random chance, a fair die won't always result in equal proportions (that is, we won't get exactly 1,000 of each face). However, if we suspect that the die might be unfair based on the data, we can conduct a hypothesis test using TVD to compare the expected [$\\frac{1}{6}$, $\\frac{1}{6}$, $\\frac{1}{6}$, $\\frac{1}{6}$, $\\frac{1}{6}$, $\\frac{1}{6}$] distribution to what is actually observed.\n",
    "\n",
    "In this part of the homework, we'll look at how we can use TVD to determine the effect that different factors have on happiness. \n",
    "\n",
    "We will be working with data from the [Gallup World Poll](https://www.gallup.com/analytics/349487/gallup-global-happiness-center.aspx#:~:text=World%20Happiness%20Report&text=Using%20the%20Gallup%20World%20Poll,about%20the%20World%20Happiness%20Report.) that is presented in the World Happiness Report, a survey of the state of global happiness. The survey ranked 155 countries by overall happiness and estimated the influence that economic production, social support, life expectancy, freedom, absence of corruption, and generosity had on population happiness. The study has been repeated for several years, but we'll be looking at data from the 2016 survey.\n",
    "\n",
    "Run the cell below to load in the `happiness_scores` table."
   ]
  },
  {
   "cell_type": "code",
   "execution_count": 17,
   "id": "16a8d575-365b-472e-adfd-ad56fd061d43",
   "metadata": {},
   "outputs": [
    {
     "data": {
      "text/html": [
       "<table border=\"1\" class=\"dataframe\">\n",
       "    <thead>\n",
       "        <tr>\n",
       "            <th>Country</th> <th>Region</th> <th>Happiness Rank</th> <th>Happiness Score</th> <th>Lower Confidence Interval</th> <th>Upper Confidence Interval</th> <th>Economy (GDP per Capita)</th> <th>Family</th> <th>Health (Life Expectancy)</th> <th>Freedom</th> <th>Trust (Government Corruption)</th> <th>Generosity</th>\n",
       "        </tr>\n",
       "    </thead>\n",
       "    <tbody>\n",
       "        <tr>\n",
       "            <td>Denmark    </td> <td>Western Europe</td> <td>1             </td> <td>7.526          </td> <td>7.46                     </td> <td>7.592                    </td> <td>1.44178                 </td> <td>1.16374</td> <td>0.79504                 </td> <td>0.57941</td> <td>0.44453                      </td> <td>0.36171   </td>\n",
       "        </tr>\n",
       "        <tr>\n",
       "            <td>Switzerland</td> <td>Western Europe</td> <td>2             </td> <td>7.509          </td> <td>7.428                    </td> <td>7.59                     </td> <td>1.52733                 </td> <td>1.14524</td> <td>0.86303                 </td> <td>0.58557</td> <td>0.41203                      </td> <td>0.28083   </td>\n",
       "        </tr>\n",
       "        <tr>\n",
       "            <td>Iceland    </td> <td>Western Europe</td> <td>3             </td> <td>7.501          </td> <td>7.333                    </td> <td>7.669                    </td> <td>1.42666                 </td> <td>1.18326</td> <td>0.86733                 </td> <td>0.56624</td> <td>0.14975                      </td> <td>0.47678   </td>\n",
       "        </tr>\n",
       "        <tr>\n",
       "            <td>Norway     </td> <td>Western Europe</td> <td>4             </td> <td>7.498          </td> <td>7.421                    </td> <td>7.575                    </td> <td>1.57744                 </td> <td>1.1269 </td> <td>0.79579                 </td> <td>0.59609</td> <td>0.35776                      </td> <td>0.37895   </td>\n",
       "        </tr>\n",
       "        <tr>\n",
       "            <td>Finland    </td> <td>Western Europe</td> <td>5             </td> <td>7.413          </td> <td>7.351                    </td> <td>7.475                    </td> <td>1.40598                 </td> <td>1.13464</td> <td>0.81091                 </td> <td>0.57104</td> <td>0.41004                      </td> <td>0.25492   </td>\n",
       "        </tr>\n",
       "    </tbody>\n",
       "</table>\n",
       "<p>... (152 rows omitted)</p>"
      ],
      "text/plain": [
       "<IPython.core.display.HTML object>"
      ]
     },
     "metadata": {},
     "output_type": "display_data"
    }
   ],
   "source": [
    "happiness_scores = Table.read_table(\"happiness_scores.csv\")\n",
    "happiness_scores.show(5)"
   ]
  },
  {
   "cell_type": "markdown",
   "id": "03f23820-6ced-4f97-a5f1-42b80fd8ab70",
   "metadata": {},
   "source": [
    "Participants in the study were asked to evaluate their life satisfaction from a scale of 0 (worst possible life) to 10 (best possible life). The responses for each country were averaged to create the `Happiness Score`.\n",
    "\n",
    "The columns `Economy (GDP per Capita)`, `Family`, `Health (Life Expectancy)`, `Freedom`, `Trust (Government Corruption)`, and `Generosity` estimate the extent to which each factor influences happiness, both for better or for worse. The happiness score is the sum of these factors; the larger a factor is, the more it contributes to overall happiness. [In other words, if you add up all the factors (in addition to a \"Difference from Dystopia\" value we excluded in the dataset), you get the happiness score.]\n",
    "\n",
    "Let's look at the different factors that affect happiness in the United States. Run the cell below to view the row in `us_happiness` that contains data for the United States."
   ]
  },
  {
   "cell_type": "code",
   "execution_count": 18,
   "id": "b35d91a6-016d-40a5-87ac-244b79064cb0",
   "metadata": {},
   "outputs": [
    {
     "data": {
      "text/html": [
       "<table border=\"1\" class=\"dataframe\">\n",
       "    <thead>\n",
       "        <tr>\n",
       "            <th>Country</th> <th>Region</th> <th>Happiness Rank</th> <th>Happiness Score</th> <th>Lower Confidence Interval</th> <th>Upper Confidence Interval</th> <th>Economy (GDP per Capita)</th> <th>Family</th> <th>Health (Life Expectancy)</th> <th>Freedom</th> <th>Trust (Government Corruption)</th> <th>Generosity</th>\n",
       "        </tr>\n",
       "    </thead>\n",
       "    <tbody>\n",
       "        <tr>\n",
       "            <td>United States</td> <td>North America</td> <td>13            </td> <td>7.104          </td> <td>7.02                     </td> <td>7.188                    </td> <td>1.50796                 </td> <td>1.04782</td> <td>0.779                   </td> <td>0.48163</td> <td>0.14868                      </td> <td>0.41077   </td>\n",
       "        </tr>\n",
       "    </tbody>\n",
       "</table>"
      ],
      "text/plain": [
       "Country       | Region        | Happiness Rank | Happiness Score | Lower Confidence Interval | Upper Confidence Interval | Economy (GDP per Capita) | Family  | Health (Life Expectancy) | Freedom | Trust (Government Corruption) | Generosity\n",
       "United States | North America | 13             | 7.104           | 7.02                      | 7.188                     | 1.50796                  | 1.04782 | 0.779                    | 0.48163 | 0.14868                       | 0.41077"
      ]
     },
     "execution_count": 18,
     "metadata": {},
     "output_type": "execute_result"
    }
   ],
   "source": [
    "us_happiness = happiness_scores.where(\"Country\", \"United States\")\n",
    "us_happiness"
   ]
  },
  {
   "cell_type": "markdown",
   "id": "1e34ab51-6d7f-4b4c-b6b3-42e85c043d92",
   "metadata": {},
   "source": [
    "**To compare the different factors, we'll look at the proportion of the happiness score that is attributed to each variable. \n",
    "You can find these proportions in the table `us_happiness_factors` after running the cell below.**\n",
    "\n",
    "*Note:* The factors shown in `us_happiness` don't add up exactly to the happiness score, so we adjusted the proportions to  only account for the data we have access to. The proportions were found by dividing each Happiness Factor value by the sum of all Happiness Factor values in `us_happiness`."
   ]
  },
  {
   "cell_type": "code",
   "execution_count": 19,
   "id": "5f3e78b4-1676-4f14-aaa1-05e651c981a1",
   "metadata": {},
   "outputs": [
    {
     "data": {
      "text/html": [
       "<table border=\"1\" class=\"dataframe\">\n",
       "    <thead>\n",
       "        <tr>\n",
       "            <th>Happiness Factor</th> <th>Proportion of Happiness Score</th>\n",
       "        </tr>\n",
       "    </thead>\n",
       "    <tbody>\n",
       "        <tr>\n",
       "            <td>Economy (GDP per Capita)     </td> <td>0.344609                     </td>\n",
       "        </tr>\n",
       "        <tr>\n",
       "            <td>Family                       </td> <td>0.239455                     </td>\n",
       "        </tr>\n",
       "        <tr>\n",
       "            <td>Health (Life Expectancy)     </td> <td>0.178022                     </td>\n",
       "        </tr>\n",
       "        <tr>\n",
       "            <td>Freedom                      </td> <td>0.110065                     </td>\n",
       "        </tr>\n",
       "        <tr>\n",
       "            <td>Trust (Government Corruption)</td> <td>0.0339773                    </td>\n",
       "        </tr>\n",
       "        <tr>\n",
       "            <td>Generosity                   </td> <td>0.0938718                    </td>\n",
       "        </tr>\n",
       "    </tbody>\n",
       "</table>"
      ],
      "text/plain": [
       "Happiness Factor              | Proportion of Happiness Score\n",
       "Economy (GDP per Capita)      | 0.344609\n",
       "Family                        | 0.239455\n",
       "Health (Life Expectancy)      | 0.178022\n",
       "Freedom                       | 0.110065\n",
       "Trust (Government Corruption) | 0.0339773\n",
       "Generosity                    | 0.0938718"
      ]
     },
     "execution_count": 19,
     "metadata": {},
     "output_type": "execute_result"
    }
   ],
   "source": [
    "us_happiness_factors = Table().read_table(\"us_happiness_factors.csv\")\n",
    "us_happiness_factors"
   ]
  },
  {
   "cell_type": "markdown",
   "id": "394f57e3-08ff-493f-ac30-10796f1ba5b6",
   "metadata": {},
   "source": [
    "### Task 10 📍🔎"
   ]
  },
  {
   "cell_type": "markdown",
   "id": "be7387f1-c7aa-4ceb-9cfe-156e5e8314ae",
   "metadata": {
    "deletable": false,
    "editable": false
   },
   "source": [
    "<!-- BEGIN QUESTION -->\n",
    "\n",
    "Suppose we want to test whether or not each factor contributes the same amount to the overall Happiness Score. Define the null hypothesis, alternative hypothesis, and test statistic in the cell below. Feel free to check your work with another student or course staff.\n",
    "\n",
    "*Note:* Please format your answer as follows:\n",
    "- Null Hypothesis: ...  \n",
    "- Alternative Hypothesis: ...  \n",
    "- Test Statistic: ...  \n",
    "\n",
    "_Points:_ 3"
   ]
  },
  {
   "cell_type": "markdown",
   "id": "11502e80",
   "metadata": {},
   "source": [
    "The null hypothesis is that all the happiness factors are equally important for a happy mood; each attribute contributes to 1/6 of the overall happiness score. \n",
    "The alternative hypothesis is that the happiness factor influences differences in happiness moods.\n",
    "Test Statistic the total variation distance of our proportion is 1/6 in our six happiness factors. "
   ]
  },
  {
   "cell_type": "markdown",
   "id": "17ab4f76-4db3-499d-8ab9-dbd500f37bdf",
   "metadata": {
    "deletable": false,
    "editable": false,
    "tags": []
   },
   "source": [
    "<!-- END QUESTION -->\n",
    "\n",
    "### Task 11 📍"
   ]
  },
  {
   "cell_type": "markdown",
   "id": "8d69279b-25ac-45ce-9c49-f310777ffc02",
   "metadata": {
    "deletable": false,
    "editable": false
   },
   "source": [
    "Write a function `calculate_tvd` that takes in the observed distribution (`obs_dist`) and expected distribution under the null hypothesis (`null_dist`) and calculates the total variation distance. Use this function to set `observed_tvd` to be equal to the observed test statistic.\n",
    "\n",
    "_Points:_ 2"
   ]
  },
  {
   "cell_type": "code",
   "execution_count": 32,
   "id": "cb86417e-d377-43fc-ac4b-aa4790a5b61d",
   "metadata": {
    "tags": []
   },
   "outputs": [
    {
     "data": {
      "text/plain": [
       "0.26208562431156396"
      ]
     },
     "execution_count": 32,
     "metadata": {},
     "output_type": "execute_result"
    }
   ],
   "source": [
    "null_distribution = np.ones(6) * (1/6)\n",
    "\n",
    "def calculate_tvd(obs_dist, null_dist):\n",
    "    return sum(np.abs(obs_dist - null_dist)) / 2\n",
    "    \n",
    "observed_tvd = calculate_tvd(us_happiness_factors.column('Proportion of Happiness Score'), null_distribution)\n",
    "observed_tvd"
   ]
  },
  {
   "cell_type": "code",
   "execution_count": 33,
   "id": "88dd61c6",
   "metadata": {
    "deletable": false,
    "editable": false
   },
   "outputs": [
    {
     "data": {
      "text/html": [
       "<p><strong><pre style='display: inline;'>task_11</pre></strong> passed! 🎉</p><p><strong><pre style='display: inline;'>task_11 - 1</pre> message:</strong> ✅ observed_tvd is a float.</p><p><strong><pre style='display: inline;'>task_11 - 2</pre> message:</strong> ✅ observed_tvd seems correct.</p>"
      ],
      "text/plain": [
       "task_11 results: All test cases passed!\n",
       "task_11 - 1 message: ✅ observed_tvd is a float.\n",
       "task_11 - 2 message: ✅ observed_tvd seems correct."
      ]
     },
     "execution_count": 33,
     "metadata": {},
     "output_type": "execute_result"
    }
   ],
   "source": [
    "grader.check(\"task_11\")"
   ]
  },
  {
   "cell_type": "markdown",
   "id": "5065d1d1-be9d-4478-ae2f-58fb46f770d6",
   "metadata": {
    "tags": []
   },
   "source": [
    "### Task 12 📍"
   ]
  },
  {
   "cell_type": "markdown",
   "id": "ad47c9ac-57ae-4c26-81e9-f99d14f69a97",
   "metadata": {
    "deletable": false,
    "editable": false
   },
   "source": [
    "Create an array called `simulated_tvds` that contains 10,000 simulated values under the null hypothesis. Assume that the original sample consisted of 1,000 individuals.\n",
    "\n",
    "*Hint:* The `sample_proportions` function may be helpful to you. Refer to the Python Reference Guide in Canvas."
   ]
  },
  {
   "cell_type": "code",
   "execution_count": 39,
   "id": "d595a270-cf58-4d82-8f5e-74946d83e837",
   "metadata": {
    "tags": []
   },
   "outputs": [],
   "source": [
    "simulated_tvds = make_array()\n",
    "distances = 10_000\n",
    "\n",
    "def happy_simulated_tvds():\n",
    "    happy_sample_distribution = sample_proportions(1000, null_distribution)\n",
    "    return calculate_tvd(happy_sample_distribution, null_distribution)\n",
    "\n",
    "for i in np.arange(distances): \n",
    "    simulated_tvds = np.append(simulated_tvds, happy_simulated_tvds())"
   ]
  },
  {
   "cell_type": "markdown",
   "id": "3c709976-2b8a-4cb5-b6e4-485dfad6be7f",
   "metadata": {
    "deletable": false,
    "editable": false
   },
   "source": [
    "Run the cell below to plot a histogram of your simulated test statistics, as well as a red dot representing the observed value of the test statistic.\n",
    "\n",
    "_Points:_ 4"
   ]
  },
  {
   "cell_type": "code",
   "execution_count": 40,
   "id": "a17d5737-4003-4a79-a7d7-30a7971c875e",
   "metadata": {
    "deletable": false,
    "editable": false
   },
   "outputs": [
    {
     "data": {
      "image/png": "[encoded data removed]",
      "text/plain": [
       "<Figure size 600x400 with 1 Axes>"
      ]
     },
     "metadata": {},
     "output_type": "display_data"
    }
   ],
   "source": [
    "Table().with_column(\"Simulated TVDs\", simulated_tvds).hist()\n",
    "plt.scatter(observed_tvd, 0, color='red', s=70, zorder=2);\n",
    "plt.show();"
   ]
  },
  {
   "cell_type": "code",
   "execution_count": 41,
   "id": "5a1ffa22",
   "metadata": {
    "deletable": false,
    "editable": false
   },
   "outputs": [
    {
     "data": {
      "text/html": [
       "<p><strong><pre style='display: inline;'>task_12</pre></strong> passed! 🌟</p><p><strong><pre style='display: inline;'>task_12 - 1</pre> message:</strong> ✅ simulated_tvds has 10,000 items in it.</p><p><strong><pre style='display: inline;'>task_12 - 2</pre> message:</strong> ✅ Each value in simulated_tvds is 0 or larger.</p><p><strong><pre style='display: inline;'>task_12 - 3</pre> message:</strong> ✅ None of the values in simulated_tvds are the same.</p><p><strong><pre style='display: inline;'>task_12 - 4</pre> message:</strong> ✅ It seems like you are simulating under the null hypothesis.</p>"
      ],
      "text/plain": [
       "task_12 results: All test cases passed!\n",
       "task_12 - 1 message: ✅ simulated_tvds has 10,000 items in it.\n",
       "task_12 - 2 message: ✅ Each value in simulated_tvds is 0 or larger.\n",
       "task_12 - 3 message: ✅ None of the values in simulated_tvds are the same.\n",
       "task_12 - 4 message: ✅ It seems like you are simulating under the null hypothesis."
      ]
     },
     "execution_count": 41,
     "metadata": {},
     "output_type": "execute_result"
    }
   ],
   "source": [
    "grader.check(\"task_12\")"
   ]
  },
  {
   "cell_type": "markdown",
   "id": "cd80ec2b-7b9b-4118-90ca-48375fe5be9f",
   "metadata": {
    "tags": []
   },
   "source": [
    "### Task 13 📍"
   ]
  },
  {
   "cell_type": "markdown",
   "id": "f1ea710a-9be5-4a65-b096-53bddb985e05",
   "metadata": {
    "deletable": false,
    "editable": false
   },
   "source": [
    "Use your simulated statistics to calculate the p-value of your test. Make sure that this number is consistent with what you observed in the histogram above.\n",
    "\n",
    "_Points:_ 1"
   ]
  },
  {
   "cell_type": "code",
   "execution_count": 42,
   "id": "d98a08b3-9e8b-485a-9e6c-7226c2dbead4",
   "metadata": {
    "tags": []
   },
   "outputs": [
    {
     "data": {
      "text/plain": [
       "0.0"
      ]
     },
     "execution_count": 42,
     "metadata": {},
     "output_type": "execute_result"
    }
   ],
   "source": [
    "p_value_tvd = np.count_nonzero(simulated_tvds >= observed_tvd) / distances\n",
    "p_value_tvd"
   ]
  },
  {
   "cell_type": "code",
   "execution_count": 43,
   "id": "be94360b",
   "metadata": {
    "deletable": false,
    "editable": false
   },
   "outputs": [
    {
     "data": {
      "text/html": [
       "<p><strong><pre style='display: inline;'>task_13</pre></strong> passed! 🌟</p><p><strong><pre style='display: inline;'>task_13 - 1</pre> message:</strong> ✅ p_value_tvd is a number between 0 and 1.</p>"
      ],
      "text/plain": [
       "task_13 results: All test cases passed!\n",
       "task_13 - 1 message: ✅ p_value_tvd is a number between 0 and 1."
      ]
     },
     "execution_count": 43,
     "metadata": {},
     "output_type": "execute_result"
    }
   ],
   "source": [
    "grader.check(\"task_13\")"
   ]
  },
  {
   "cell_type": "markdown",
   "id": "08bf5141-4400-4aa9-a87d-df3906ab07c9",
   "metadata": {
    "toc-hr-collapsed": true
   },
   "source": [
    "### Task 14 📍🔎"
   ]
  },
  {
   "cell_type": "markdown",
   "id": "8701b00f-6c45-4843-895d-f2ed7fc550f6",
   "metadata": {
    "deletable": false,
    "editable": false
   },
   "source": [
    "<!-- BEGIN QUESTION -->\n",
    "\n",
    "What can you conclude about how each factor contributes to the overall happiness score in the US? Explain your answer using the results of your hypothesis test. Assume a p-value cutoff of 5%.\n",
    "\n",
    "_Points:_ 2"
   ]
  },
  {
   "cell_type": "markdown",
   "id": "a8fc375b",
   "metadata": {},
   "source": [
    "We have strong evidence to reject the null hypothesis as the P-value is less than 1%. This mean the each factor doesn't contribute the same to the overall happiness score in the US. "
   ]
  },
  {
   "cell_type": "markdown",
   "id": "a73a1830-8ebd-40aa-8919-59d7a89a6a6c",
   "metadata": {
    "deletable": false,
    "editable": false
   },
   "source": [
    "<!-- END QUESTION -->\n",
    "\n",
    "## Submit your Homework to Canvas\n",
    "\n",
    "Once you have finished working on the homework tasks, prepare to submit your work in Canvas by completing the following steps.\n",
    "\n",
    "1. In the related Canvas Assignment page, check the rubric to know how you will be scored for this assignment.\n",
    "2. Double-check that you have run the code cell near the end of the notebook that contains the command `\"grader.check_all()\"`. This command will run all of the run tests on all your responses to the auto-graded tasks marked with 📍.\n",
    "3. Double-check your responses to the manually graded tasks marked with 📍🔎.\n",
    "3. Select the menu item \"File\" and \"Save Notebook\" in the notebook's Toolbar to save your work and create a specific checkpoint in the notebook's work history.\n",
    "4. Select the menu items \"File\", \"Download\" in the notebook's Toolbar to download the notebook (.ipynb) file. \n",
    "5. In the related Canvas Assignment page, click Start Assignment or New Attempt to upload the downloaded .ipynb file.\n",
    "\n",
    "**Keep in mind that the autograder does not always check for correctness. Sometimes it just checks for the format of your answer, so passing the autograder for a question does not mean you got the answer correct for that question.**"
   ]
  },
  {
   "cell_type": "markdown",
   "id": "7d82a56f",
   "metadata": {
    "deletable": false,
    "editable": false
   },
   "source": [
    "---\n",
    "\n",
    "To double-check your work, the cell below will rerun all of the autograder tests."
   ]
  },
  {
   "cell_type": "code",
   "execution_count": 44,
   "id": "074b2ea8",
   "metadata": {
    "deletable": false,
    "editable": false
   },
   "outputs": [
    {
     "data": {
      "text/plain": [
       "task_01 results: All test cases passed!\n",
       "task_01 - 1 message: ✅ sample_size is an int\n",
       "task_01 - 2 message: ✅ percent_V1 is numerical (float or int)\n",
       "task_01 - 3 message: ✅ sample_size is within a possible range of values.\n",
       "task_01 - 4 message: ✅ percent_V1 is a value betwen 0 and 100.\n",
       "\n",
       "task_04 results: All test cases passed!\n",
       "task_04 - 1 message: ✅ valid_test_stat is an integer.\n",
       "task_04 - 2 message: ✅ valid_test_stat is a number between 1 and 4.\n",
       "\n",
       "task_05 results: All test cases passed!\n",
       "task_05 - 1 message: ✅ observed_statistic is a float.\n",
       "task_05 - 2 message: ✅ observed_statistic is a number between 0 and 100.\n",
       "\n",
       "task_06 results: All test cases passed!\n",
       "task_06 - 1 message: ✅ assumption_needed is an int.\n",
       "task_06 - 2 message: ✅ assumption_needed is a number between 1 and 4.\n",
       "\n",
       "task_08 results: All test cases passed!\n",
       "task_08 - 1 message: ✅ p_value is a float.\n",
       "task_08 - 2 message: ✅ p_value is a number between 0 and 1.\n",
       "\n",
       "task_09 results: All test cases passed!\n",
       "task_09 - 1 message: ✅ correct_doctor is an int.\n",
       "task_09 - 2 message: ✅ correct_doctor is either 1 or 2.\n",
       "\n",
       "task_11 results: All test cases passed!\n",
       "task_11 - 1 message: ✅ observed_tvd is a float.\n",
       "task_11 - 2 message: ✅ observed_tvd seems correct.\n",
       "\n",
       "task_12 results: All test cases passed!\n",
       "task_12 - 1 message: ✅ simulated_tvds has 10,000 items in it.\n",
       "task_12 - 2 message: ✅ Each value in simulated_tvds is 0 or larger.\n",
       "task_12 - 3 message: ✅ None of the values in simulated_tvds are the same.\n",
       "task_12 - 4 message: ✅ It seems like you are simulating under the null hypothesis.\n",
       "\n",
       "task_13 results: All test cases passed!\n",
       "task_13 - 1 message: ✅ p_value_tvd is a number between 0 and 1."
      ]
     },
     "execution_count": 44,
     "metadata": {},
     "output_type": "execute_result"
    }
   ],
   "source": [
    "grader.check_all()"
   ]
  },
  {
   "cell_type": "code",
   "execution_count": null,
   "id": "ea6e241a-d4c3-4e15-a540-355c96d63e72",
   "metadata": {},
   "outputs": [],
   "source": []
  }
 ],
 "metadata": {
  "kernelspec": {
   "display_name": "Python 3 (ipykernel)",
   "language": "python",
   "name": "python3"
  },
  "language_info": {
   "codemirror_mode": {
    "name": "ipython",
    "version": 3
   },
   "file_extension": ".py",
   "mimetype": "text/x-python",
   "name": "python",
   "nbconvert_exporter": "python",
   "pygments_lexer": "ipython3",
   "version": "3.10.12"
  },
  "otter": {
   "OK_FORMAT": true,
   "assignment_name": "hw07_sp24",
   "tests": {
    "task_01": {
     "name": "task_01",
     "points": 3,
     "suites": [
      {
       "cases": [
        {
         "code": ">>> isinstance(sample_size, (int, np.integer))\nTrue",
         "failure_message": "❌ sample_size should be an int",
         "hidden": false,
         "locked": false,
         "points": 0.25,
         "success_message": "✅ sample_size is an int"
        },
        {
         "code": ">>> isinstance(percent_V1, (float, np.float_)) or isinstance(percent_V1, (int, np.integer))\nTrue",
         "failure_message": "❌ percent_V1 should be numerical (float or int)",
         "hidden": false,
         "locked": false,
         "points": 0.25,
         "success_message": "✅ percent_V1 is numerical (float or int)"
        },
        {
         "code": ">>> 100 <= sample_size <= 500\nTrue",
         "failure_message": "❌ sample_size is not within a possible range of values.",
         "hidden": false,
         "locked": false,
         "points": 0.25,
         "success_message": "✅ sample_size is within a possible range of values."
        },
        {
         "code": ">>> 0 <= percent_V1 <= 100\nTrue",
         "failure_message": "❌ percent_V1 should be a value betwen 0 and 100.",
         "hidden": false,
         "locked": false,
         "points": 0.25,
         "success_message": "✅ percent_V1 is a value betwen 0 and 100."
        }
       ],
       "scored": true,
       "setup": "",
       "teardown": "",
       "type": "doctest"
      }
     ]
    },
    "task_04": {
     "name": "task_04",
     "points": 2,
     "suites": [
      {
       "cases": [
        {
         "code": ">>> isinstance(valid_test_stat, (int, np.integer))\nTrue",
         "failure_message": "❌ valid_test_stat should be an integer.",
         "hidden": false,
         "locked": false,
         "points": 0.5,
         "success_message": "✅ valid_test_stat is an integer."
        },
        {
         "code": ">>> any((valid_test_stat == x for x in np.arange(1, 5)))\nTrue",
         "failure_message": "❌ valid_test_stat should be a number between 1 and 4.",
         "hidden": false,
         "locked": false,
         "points": 0.5,
         "success_message": "✅ valid_test_stat is a number between 1 and 4."
        }
       ],
       "scored": true,
       "setup": "",
       "teardown": "",
       "type": "doctest"
      }
     ]
    },
    "task_05": {
     "name": "task_05",
     "points": 2,
     "suites": [
      {
       "cases": [
        {
         "code": ">>> isinstance(observed_statistic, (float, np.float_))\nTrue",
         "failure_message": "❌ observed_statistic should be a float.",
         "hidden": false,
         "locked": false,
         "points": 0.5,
         "success_message": "✅ observed_statistic is a float."
        },
        {
         "code": ">>> 0 <= observed_statistic <= 100\nTrue",
         "failure_message": "❌ observed_statistic should be a number between 0 and 100.",
         "hidden": false,
         "locked": false,
         "points": 0.5,
         "success_message": "✅ observed_statistic is a number between 0 and 100."
        }
       ],
       "scored": true,
       "setup": "",
       "teardown": "",
       "type": "doctest"
      }
     ]
    },
    "task_06": {
     "name": "task_06",
     "points": 2,
     "suites": [
      {
       "cases": [
        {
         "code": ">>> isinstance(assumption_needed, (int, np.integer))\nTrue",
         "failure_message": "❌ assumption_needed should be an int.",
         "hidden": false,
         "locked": false,
         "points": 0.5,
         "success_message": "✅ assumption_needed is an int."
        },
        {
         "code": ">>> 1 <= assumption_needed <= 4\nTrue",
         "failure_message": "❌ assumption_needed should be a number between 1 and 4.",
         "hidden": false,
         "locked": false,
         "points": 0.5,
         "success_message": "✅ assumption_needed is a number between 1 and 4."
        }
       ],
       "scored": true,
       "setup": "",
       "teardown": "",
       "type": "doctest"
      }
     ]
    },
    "task_08": {
     "name": "task_08",
     "points": 2,
     "suites": [
      {
       "cases": [
        {
         "code": ">>> isinstance(p_value, (float, np.float_))\nTrue",
         "failure_message": "❌ p_value should be a float.",
         "hidden": false,
         "locked": false,
         "points": 0.5,
         "success_message": "✅ p_value is a float."
        },
        {
         "code": ">>> 0 <= p_value <= 1\nTrue",
         "failure_message": "❌ p_value should be a number between 0 and 1.",
         "hidden": false,
         "locked": false,
         "points": 0.5,
         "success_message": "✅ p_value is a number between 0 and 1."
        }
       ],
       "scored": true,
       "setup": "",
       "teardown": "",
       "type": "doctest"
      }
     ]
    },
    "task_09": {
     "name": "task_09",
     "points": 2,
     "suites": [
      {
       "cases": [
        {
         "code": ">>> isinstance(correct_doctor, (int, np.integer))\nTrue",
         "failure_message": "❌ correct_doctor should be an int.",
         "hidden": false,
         "locked": false,
         "points": 0.5,
         "success_message": "✅ correct_doctor is an int."
        },
        {
         "code": ">>> any((correct_doctor == x for x in (1, 2)))\nTrue",
         "failure_message": "❌ correct_doctor should be either 1 or 2.",
         "hidden": false,
         "locked": false,
         "points": 0.5,
         "success_message": "✅ correct_doctor is either 1 or 2."
        }
       ],
       "scored": true,
       "setup": "",
       "teardown": "",
       "type": "doctest"
      }
     ]
    },
    "task_11": {
     "name": "task_11",
     "points": 2,
     "suites": [
      {
       "cases": [
        {
         "code": ">>> isinstance(observed_tvd, (float, np.float_))\nTrue",
         "failure_message": "❌ observed_tvd should be a float.",
         "hidden": false,
         "locked": false,
         "points": 1,
         "success_message": "✅ observed_tvd is a float."
        },
        {
         "code": ">>> np.isclose(round(observed_tvd, 6), 0.262086)\nTrue",
         "failure_message": "❌ observed_tvd doesn't seem correct.",
         "hidden": false,
         "locked": false,
         "points": 1,
         "success_message": "✅ observed_tvd seems correct."
        }
       ],
       "scored": true,
       "setup": "",
       "teardown": "",
       "type": "doctest"
      }
     ]
    },
    "task_12": {
     "name": "task_12",
     "points": 4,
     "suites": [
      {
       "cases": [
        {
         "code": ">>> len(simulated_tvds) == 10000\nTrue",
         "failure_message": "❌ simulated_tvds should have 10,000 items in it.",
         "hidden": false,
         "locked": false,
         "points": 1,
         "success_message": "✅ simulated_tvds has 10,000 items in it."
        },
        {
         "code": ">>> all(simulated_tvds >= 0)\nTrue",
         "failure_message": "❌ Each value in simulated_tvds should be 0 or larger.",
         "hidden": false,
         "locked": false,
         "points": 1,
         "success_message": "✅ Each value in simulated_tvds is 0 or larger."
        },
        {
         "code": ">>> len(np.unique(simulated_tvds)) != 1\nTrue",
         "failure_message": "❌ None of the values in simulated_tvds should be the same.",
         "hidden": false,
         "locked": false,
         "points": 1,
         "success_message": "✅ None of the values in simulated_tvds are the same."
        },
        {
         "code": ">>> np.mean(simulated_tvds) < 0.1\nTrue",
         "failure_message": "❌ It doesn't seem like you are simulating under the null hypothesis.",
         "hidden": false,
         "locked": false,
         "points": 1,
         "success_message": "✅ It seems like you are simulating under the null hypothesis."
        }
       ],
       "scored": true,
       "setup": "",
       "teardown": "",
       "type": "doctest"
      }
     ]
    },
    "task_13": {
     "name": "task_13",
     "points": 1,
     "suites": [
      {
       "cases": [
        {
         "code": ">>> 0 <= p_value_tvd <= 1\nTrue",
         "failure_message": "❌ p_value_tvd should be a number between 0 and 1.",
         "hidden": false,
         "locked": false,
         "points": 1,
         "success_message": "✅ p_value_tvd is a number between 0 and 1."
        }
       ],
       "scored": true,
       "setup": "",
       "teardown": "",
       "type": "doctest"
      }
     ]
    }
   }
  }
 },
 "nbformat": 4,
 "nbformat_minor": 5
}
