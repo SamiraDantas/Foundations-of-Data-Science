{
 "cells": [
  {
   "cell_type": "code",
   "execution_count": 1,
   "id": "12f10daf",
   "metadata": {
    "deletable": false,
    "editable": false
   },
   "outputs": [],
   "source": [
    "# Initialize Otter\n",
    "import otter\n",
    "grader = otter.Notebook(\"hw11.ipynb\")"
   ]
  },
  {
   "cell_type": "markdown",
   "id": "32e71c92-5e93-441b-b16b-8d68158f2ed1",
   "metadata": {},
   "source": [
    "<img style=\"display: block; margin-left: auto; margin-right: auto\" src=\"./ccsf-logo.png\" width=\"250rem;\" alt=\"The CCSF black and white logo\">"
   ]
  },
  {
   "cell_type": "markdown",
   "id": "b34d9d77-3c7d-46bd-9963-f9296c196091",
   "metadata": {},
   "source": [
    "# Homework 11: Correlation and Regression"
   ]
  },
  {
   "cell_type": "markdown",
   "id": "b6200903-9532-41f3-94b3-793364778960",
   "metadata": {},
   "source": [
    "## References\n",
    "* [The Regression Line](https://www.inferentialthinking.com/chapters/15/2/Regression_Line.html)\n",
    "* [Method of Least Squares](https://www.inferentialthinking.com/chapters/15/3/Method_of_Least_Squares.html)\n",
    "* [Least Squares Regression](https://www.inferentialthinking.com/chapters/15/4/Least_Squares_Regression.html)\n",
    "* [`datascience` Documentation](https://datascience.readthedocs.io/)\n",
    "* [Python Quick Reference](https://ccsf-math-108.github.io/materials-sp24/resources/quick-reference.html)"
   ]
  },
  {
   "cell_type": "markdown",
   "id": "c357783f-afd1-4205-8032-5a1b5768fbc9",
   "metadata": {},
   "source": [
    "## Assignment Reminders"
   ]
  },
  {
   "cell_type": "markdown",
   "id": "d4a511e5-bf19-4f19-80ba-119eb0e4abd3",
   "metadata": {},
   "source": [
    "- Make sure to run the code cell at the top of this notebook that starts with `# Initialize Otter` to load the auto-grader.\n",
    "- For all tasks indicated with a 🔎 that you must write explanations and sentences for, provide your answer in the designated space.\n",
    "- Throughout this assignment and all future ones, please be sure to not re-assign variables throughout the notebook! _For example, if you use `max_temperature` in your answer to one question, do not reassign it later on. Otherwise, you will fail tests that you thought you were passing previously!_\n",
    "- We encourage you to discuss this assignment with others but make sure to write and submit your own code. Refer to the syllabus to learn more about how to learn cooperatively.\n",
    "- Unless you are asked otherwise, use the non-interactive visualizations when asked to produce a visualization for a task.\n",
    "- View the related <a href=\"https://ccsf.instructure.com\" target=\"_blank\">Canvas</a> Assignment page for additional details.\n",
    "\n",
    "Run the following code cell to import the tools for this assignment."
   ]
  },
  {
   "cell_type": "code",
   "execution_count": 2,
   "id": "4cea7a2e-27a3-4f68-b8d4-f2fa63a97de4",
   "metadata": {
    "tags": []
   },
   "outputs": [],
   "source": [
    "from datascience import *\n",
    "import numpy as np\n",
    "%matplotlib inline\n",
    "import matplotlib.pyplot as plt\n",
    "plt.style.use('fivethirtyeight')"
   ]
  },
  {
   "cell_type": "markdown",
   "id": "53c0fd7b-9fae-408a-a14e-512d9fcde8ec",
   "metadata": {},
   "source": [
    "## Linear Regression Setup"
   ]
  },
  {
   "cell_type": "markdown",
   "id": "b3c32ff7-ebe9-4481-86d4-899ef085db13",
   "metadata": {},
   "source": [
    "When performing linear regression in this course, you will need to compute several important quantities which will be used throughout our analysis. Unless otherwise specified when asked to make a prediction please assume we are predicting $y$ from $x$ throughout this assignment. To help with our later analysis, we will begin by writing some of these functions and understanding what they can do for us."
   ]
  },
  {
   "cell_type": "markdown",
   "id": "53ce776c-708b-4d14-82e9-29c219e07565",
   "metadata": {
    "tags": []
   },
   "source": [
    "### Task 01 📍"
   ]
  },
  {
   "cell_type": "markdown",
   "id": "0852ef8c-4e9b-4bf5-a45b-81c15316b6e8",
   "metadata": {
    "deletable": false,
    "editable": false
   },
   "source": [
    "Define a function `standard_units` that converts a given array to standard units.\n",
    "\n",
    "**Hint:** You may find the `np.mean` and `np.std` functions helpful.\n",
    "\n",
    "_Points:_ 2"
   ]
  },
  {
   "cell_type": "code",
   "execution_count": 3,
   "id": "6cab9c3b-60ca-4001-abe6-0e6d4ca296fe",
   "metadata": {
    "tags": []
   },
   "outputs": [],
   "source": [
    "def standard_units(data):\n",
    "    return (data - np.mean(data))/np.std(data)"
   ]
  },
  {
   "cell_type": "code",
   "execution_count": 4,
   "id": "cdfaa92e",
   "metadata": {
    "deletable": false,
    "editable": false
   },
   "outputs": [
    {
     "data": {
      "text/html": [
       "<p><strong><pre style='display: inline;'>task_01</pre></strong> passed! 💯</p><p><strong><pre style='display: inline;'>task_01 - 1</pre> message:</strong> ✅ standard_units works for the test data we provided.</p><p><strong><pre style='display: inline;'>task_01 - 2</pre> message:</strong> ✅ The mean of the standardized test data is 0.</p><p><strong><pre style='display: inline;'>task_01 - 3</pre> message:</strong> ✅ The standard deviation of the standardized test data is 1.</p>"
      ],
      "text/plain": [
       "task_01 results: All test cases passed!\n",
       "task_01 - 1 message: ✅ standard_units works for the test data we provided.\n",
       "task_01 - 2 message: ✅ The mean of the standardized test data is 0.\n",
       "task_01 - 3 message: ✅ The standard deviation of the standardized test data is 1."
      ]
     },
     "execution_count": 4,
     "metadata": {},
     "output_type": "execute_result"
    }
   ],
   "source": [
    "grader.check(\"task_01\")"
   ]
  },
  {
   "cell_type": "markdown",
   "id": "384d3142-bee1-4866-b9b0-453a88669dae",
   "metadata": {
    "tags": []
   },
   "source": [
    "### Task 02 📍"
   ]
  },
  {
   "cell_type": "markdown",
   "id": "d9903bcd-0f74-449e-b869-498103bb6891",
   "metadata": {
    "deletable": false,
    "editable": false
   },
   "source": [
    "Which of the following are true about standard units? Assume we have converted an array of data into standard units using the function above.\n",
    "\n",
    "1. The unit of all our data when converted into standard units is the same as the unit of the original data.\n",
    "2. The sum of all our data when converted into standard units is 0.\n",
    "3. The standard deviation of all our data when converted into standard units is 1.\n",
    "4. Adding 5 to our original data has no impact on the resultant data when converted to standard units.\n",
    "5. Multiplying our original data by 5 has no impact on the resultant data when converted to standard units.\n",
    "\n",
    "Assign `standard_array` to an array of your selections.\n",
    "\n",
    "_Points:_ 2"
   ]
  },
  {
   "cell_type": "code",
   "execution_count": 5,
   "id": "1568b694-3d22-4bbc-9ecb-2bd98e499ef2",
   "metadata": {
    "tags": []
   },
   "outputs": [],
   "source": [
    "standard_array = make_array(2, 3, 4, 5)"
   ]
  },
  {
   "cell_type": "code",
   "execution_count": 6,
   "id": "fde2647a",
   "metadata": {
    "deletable": false,
    "editable": false
   },
   "outputs": [
    {
     "data": {
      "text/html": [
       "<p><strong><pre style='display: inline;'>task_02</pre></strong> passed! 🙌</p><p><strong><pre style='display: inline;'>task_02 - 1</pre> message:</strong> ✅ standard_array contains some of the integers 1, 2, 3, 4, or 5.</p>"
      ],
      "text/plain": [
       "task_02 results: All test cases passed!\n",
       "task_02 - 1 message: ✅ standard_array contains some of the integers 1, 2, 3, 4, or 5."
      ]
     },
     "execution_count": 6,
     "metadata": {},
     "output_type": "execute_result"
    }
   ],
   "source": [
    "grader.check(\"task_02\")"
   ]
  },
  {
   "cell_type": "markdown",
   "id": "35df7e8e-b657-4193-8e30-6743c0776311",
   "metadata": {
    "tags": []
   },
   "source": [
    "### Task 03 📍"
   ]
  },
  {
   "cell_type": "markdown",
   "id": "90b069a8-e239-4e48-bef6-9d1e9dfbc356",
   "metadata": {
    "deletable": false,
    "editable": false
   },
   "source": [
    "Define a function `correlation` that computes the correlation between 2 arrays of data in original units.\n",
    "\n",
    "**Hint:** Consider using the `standard_units` function you have defined previously.\n",
    "\n",
    "_Points:_ 2"
   ]
  },
  {
   "cell_type": "code",
   "execution_count": 7,
   "id": "312bc4f4-0865-44c7-88d7-3f82bd4e1450",
   "metadata": {
    "tags": []
   },
   "outputs": [],
   "source": [
    "def correlation(x, y):\n",
    "    return np.mean(standard_units(x)*standard_units(y))"
   ]
  },
  {
   "cell_type": "code",
   "execution_count": 8,
   "id": "5106f4d7",
   "metadata": {
    "deletable": false,
    "editable": false
   },
   "outputs": [
    {
     "data": {
      "text/html": [
       "<p><strong><pre style='display: inline;'>task_03</pre></strong> passed! 🚀</p><p><strong><pre style='display: inline;'>task_03 - 1</pre> message:</strong> ✅ correlation shows that linear data has a coefficient of 1.</p>"
      ],
      "text/plain": [
       "task_03 results: All test cases passed!\n",
       "task_03 - 1 message: ✅ correlation shows that linear data has a coefficient of 1."
      ]
     },
     "execution_count": 8,
     "metadata": {},
     "output_type": "execute_result"
    }
   ],
   "source": [
    "grader.check(\"task_03\")"
   ]
  },
  {
   "cell_type": "markdown",
   "id": "fb00a76a-1f9b-461b-8eb0-a331820a19ee",
   "metadata": {
    "tags": []
   },
   "source": [
    "### Task 04 📍"
   ]
  },
  {
   "cell_type": "markdown",
   "id": "5c81fac2-0b4f-4a72-b97b-c052f454aed3",
   "metadata": {
    "deletable": false,
    "editable": false
   },
   "source": [
    "Which of the following are true about the correlation coefficient?\n",
    "\n",
    "1. The correlation coefficient measures the strength of a linear relationship.\n",
    "2. When looking at the existing data, a correlation coefficient of 1.0 means an increase in one variable always means an increase in the other variable.\n",
    "3. The correlation coefficient is the slope of the regression line in standard units.\n",
    "4. The correlation coefficient stays the same if we swap our x-axis and y-axis.\n",
    "5. If we add 5 to our original data, our correlation coefficient will increase by 5.\n",
    "\n",
    "Assign `r_array` to an array of your selections.\n",
    "\n",
    "_Points:_ 2"
   ]
  },
  {
   "cell_type": "code",
   "execution_count": 9,
   "id": "95cda937-7bac-4e23-81c1-2285ac34805a",
   "metadata": {
    "tags": []
   },
   "outputs": [],
   "source": [
    "r_array = make_array(1, 2, 3, 4)"
   ]
  },
  {
   "cell_type": "code",
   "execution_count": 10,
   "id": "029d85e0",
   "metadata": {
    "deletable": false,
    "editable": false
   },
   "outputs": [
    {
     "data": {
      "text/html": [
       "<p><strong><pre style='display: inline;'>task_04</pre></strong> passed! ✨</p><p><strong><pre style='display: inline;'>task_04 - 1</pre> message:</strong> ✅ r_array contains some of the integers 1, 2, 3, 4, or 5.</p>"
      ],
      "text/plain": [
       "task_04 results: All test cases passed!\n",
       "task_04 - 1 message: ✅ r_array contains some of the integers 1, 2, 3, 4, or 5."
      ]
     },
     "execution_count": 10,
     "metadata": {},
     "output_type": "execute_result"
    }
   ],
   "source": [
    "grader.check(\"task_04\")"
   ]
  },
  {
   "cell_type": "markdown",
   "id": "23b888e2-4147-487b-bf52-95e3d5acd880",
   "metadata": {
    "tags": []
   },
   "source": [
    "### Task 05 📍"
   ]
  },
  {
   "cell_type": "markdown",
   "id": "0cf05a23-e49c-439d-8b46-c6848d93f0bc",
   "metadata": {
    "deletable": false,
    "editable": false
   },
   "source": [
    "Define a function `slope` that computes the slope of our line of best fit (to predict y given x), given two arrays of data in original units. Assume we want to create a line of best fit in original units.\n",
    "\n",
    "**Hint:** Consider using the `correlation` function you have defined previously.\n",
    "\n",
    "_Points:_ 2"
   ]
  },
  {
   "cell_type": "code",
   "execution_count": 11,
   "id": "5688b458-beed-447d-8a54-70a9180ca939",
   "metadata": {
    "tags": []
   },
   "outputs": [],
   "source": [
    "def slope(x, y):\n",
    "    r = correlation(x, y) \n",
    "    return r*np.std(y)/np.std(x)"
   ]
  },
  {
   "cell_type": "code",
   "execution_count": 12,
   "id": "497f03c1",
   "metadata": {
    "deletable": false,
    "editable": false
   },
   "outputs": [
    {
     "data": {
      "text/html": [
       "<p><strong><pre style='display: inline;'>task_05</pre></strong> passed! ✨</p><p><strong><pre style='display: inline;'>task_05 - 1</pre> message:</strong> ✅ slope produced the correct result for our test data set.</p>"
      ],
      "text/plain": [
       "task_05 results: All test cases passed!\n",
       "task_05 - 1 message: ✅ slope produced the correct result for our test data set."
      ]
     },
     "execution_count": 12,
     "metadata": {},
     "output_type": "execute_result"
    }
   ],
   "source": [
    "grader.check(\"task_05\")"
   ]
  },
  {
   "cell_type": "markdown",
   "id": "44867bb6-b6ec-4f9a-87b6-53408b7673d2",
   "metadata": {
    "tags": []
   },
   "source": [
    "### Task 06 📍"
   ]
  },
  {
   "cell_type": "markdown",
   "id": "2cb86050-ba1f-4494-8a0c-d9074184e0a7",
   "metadata": {
    "deletable": false,
    "editable": false
   },
   "source": [
    "Which of the following are true statements about the slope of our line of best fit? Assume $x$ refers to the value of one variable that we use to predict the value of y.\n",
    "\n",
    "1. In original units, the slope has the unit: unit of $x$ / unit of $y$.\n",
    "2. In standard units, the slope is unitless.\n",
    "3. In original units, the slope is unchanged by swapping $x$ and $y$.\n",
    "4. In standard units, a slope of 1 means our data is perfectly linearly correlated.\n",
    "5. In original units and standard units, the slope always has the same positive or negative sign.\n",
    " \n",
    "Assign `slope_array` to an array of your selections.\n",
    "\n",
    "_Points:_ 2"
   ]
  },
  {
   "cell_type": "code",
   "execution_count": 13,
   "id": "24e0d0c3-813f-419c-806e-c3c25621f2a1",
   "metadata": {
    "tags": []
   },
   "outputs": [],
   "source": [
    "slope_array = make_array(2, 4, 5)"
   ]
  },
  {
   "cell_type": "code",
   "execution_count": 14,
   "id": "e4271ae3",
   "metadata": {
    "deletable": false,
    "editable": false
   },
   "outputs": [
    {
     "data": {
      "text/html": [
       "<p><strong><pre style='display: inline;'>task_06</pre></strong> passed! ✨</p><p><strong><pre style='display: inline;'>task_06 - 1</pre> message:</strong> ✅ slope_array contains some of the integers 1, 2, 3, 4, or 5.</p>"
      ],
      "text/plain": [
       "task_06 results: All test cases passed!\n",
       "task_06 - 1 message: ✅ slope_array contains some of the integers 1, 2, 3, 4, or 5."
      ]
     },
     "execution_count": 14,
     "metadata": {},
     "output_type": "execute_result"
    }
   ],
   "source": [
    "grader.check(\"task_06\")"
   ]
  },
  {
   "cell_type": "markdown",
   "id": "5a527314-3008-48e3-af83-53fb9c23b7ac",
   "metadata": {
    "tags": []
   },
   "source": [
    "### Task 07 📍"
   ]
  },
  {
   "cell_type": "markdown",
   "id": "e16d2aea-26d6-4228-93b5-9d624061f145",
   "metadata": {
    "deletable": false,
    "editable": false
   },
   "source": [
    "Define a function `intercept` that computes the intercept of our line of best fit (to predict `y` given `x`), given 2 arrays of data in original units. Assume we want to create a line of best fit in original units.\n",
    "\n",
    "**Hint:** Consider using slope function you have defined previously.\n",
    "\n",
    "_Points:_ 2"
   ]
  },
  {
   "cell_type": "code",
   "execution_count": 15,
   "id": "3d2b8f5f-d1dc-493c-ac04-97128869c0bb",
   "metadata": {
    "tags": []
   },
   "outputs": [],
   "source": [
    "def intercept(x, y):\n",
    "    return np.mean(y) - slope(x, y) * np.mean(x)"
   ]
  },
  {
   "cell_type": "code",
   "execution_count": 16,
   "id": "2acbf45d",
   "metadata": {
    "deletable": false,
    "editable": false
   },
   "outputs": [
    {
     "data": {
      "text/html": [
       "<p><strong><pre style='display: inline;'>task_07</pre></strong> passed! 🌟</p><p><strong><pre style='display: inline;'>task_07 - 1</pre> message:</strong> ✅ intercept produced the correct result for our test data set.</p>"
      ],
      "text/plain": [
       "task_07 results: All test cases passed!\n",
       "task_07 - 1 message: ✅ intercept produced the correct result for our test data set."
      ]
     },
     "execution_count": 16,
     "metadata": {},
     "output_type": "execute_result"
    }
   ],
   "source": [
    "grader.check(\"task_07\")"
   ]
  },
  {
   "cell_type": "markdown",
   "id": "7a41eab1-4f21-43fe-9517-7278ec2bfd5c",
   "metadata": {
    "tags": []
   },
   "source": [
    "### Task 08 📍"
   ]
  },
  {
   "cell_type": "markdown",
   "id": "112028f7-5823-4eba-a2d4-4632c40155fb",
   "metadata": {
    "deletable": false,
    "editable": false
   },
   "source": [
    "Which of the following are true about the intercept of our line of best fit? Assume $x$ refers to the value of one variable that we use to predict the value of $y$.\n",
    "\n",
    "1. In original units, the intercept has the same unit as the $y$ values.\n",
    "2. In original units, the intercept has the same unit as the $x$ values.\n",
    "3. In original units, the slope and intercept have the same unit.\n",
    "4. In standard units, the intercept for the regression line is 0.\n",
    "5. In original units and standard units, the intercept always has the same numerical value.\n",
    "\n",
    "Assign `intercept_array` to an array of your selections.\n",
    "\n",
    "_Points:_ 2"
   ]
  },
  {
   "cell_type": "code",
   "execution_count": 17,
   "id": "406c483e-e4df-4a9e-bc3f-93ab80d355f5",
   "metadata": {
    "tags": []
   },
   "outputs": [],
   "source": [
    "intercept_array = make_array(1, 4)"
   ]
  },
  {
   "cell_type": "code",
   "execution_count": 18,
   "id": "1033bec4",
   "metadata": {
    "deletable": false,
    "editable": false
   },
   "outputs": [
    {
     "data": {
      "text/html": [
       "<p><strong><pre style='display: inline;'>task_08</pre></strong> passed! 🌟</p><p><strong><pre style='display: inline;'>task_08 - 1</pre> message:</strong> ✅ intercept_array contains some of the integers 1, 2, 3, 4, or 5.</p>"
      ],
      "text/plain": [
       "task_08 results: All test cases passed!\n",
       "task_08 - 1 message: ✅ intercept_array contains some of the integers 1, 2, 3, 4, or 5."
      ]
     },
     "execution_count": 18,
     "metadata": {},
     "output_type": "execute_result"
    }
   ],
   "source": [
    "grader.check(\"task_08\")"
   ]
  },
  {
   "cell_type": "markdown",
   "id": "8c31e196-f186-49cf-ba15-42c5b2670f16",
   "metadata": {
    "tags": []
   },
   "source": [
    "### Task 09 📍"
   ]
  },
  {
   "cell_type": "markdown",
   "id": "2e7496e9-7d3d-4794-b0e4-58cbdc60ffa6",
   "metadata": {
    "deletable": false,
    "editable": false
   },
   "source": [
    "Define a function `predict` that takes in a table and 2 column names, and returns an array of predictions. Keep the following in mind when you make this function:\n",
    "* The predictions should be created using a fitted regression line.\n",
    "* We are predicting `y_col` from `x_col`, both in original units.\n",
    "\n",
    "**Hint 1:** Consider using the `slope` and `intercept` functions you have defined previously.\n",
    "\n",
    "**Hint 2:** Re-reading [Section 15.2](https://inferentialthinking.com/chapters/15/2/Regression_Line.html) might be helpful here.\n",
    "\n",
    "**Note:** The public tests are quite comprehensive for this question, so passing them means that your function most likely works correctly.\n",
    "\n",
    "_Points:_ 3"
   ]
  },
  {
   "cell_type": "code",
   "execution_count": 19,
   "id": "3159d1f5-6614-46a9-bac2-cb2caf48a8ab",
   "metadata": {
    "tags": []
   },
   "outputs": [],
   "source": [
    "def predict(tbl, x_col, y_col):\n",
    "    x = tbl.column(x_col)\n",
    "    y = tbl.column(y_col)\n",
    "    return slope(x, y) * x + intercept(x, y)"
   ]
  },
  {
   "cell_type": "code",
   "execution_count": 20,
   "id": "299af605",
   "metadata": {
    "deletable": false,
    "editable": false
   },
   "outputs": [
    {
     "data": {
      "text/html": [
       "<p><strong><pre style='display: inline;'>task_09</pre></strong> passed! 🌈</p><p><strong><pre style='display: inline;'>task_09 - 1</pre> message:</strong> ✅ predict returns an array.</p><p><strong><pre style='display: inline;'>task_09 - 2</pre> message:</strong> ✅ predict seems to work correctly on the test data we used.</p><p><strong><pre style='display: inline;'>task_09 - 3</pre> message:</strong> ✅ predict seems to work correctly on the test data we used.</p><p><strong><pre style='display: inline;'>task_09 - 4</pre> message:</strong> ✅ predict seems to work correctly on the test data we used.</p>"
      ],
      "text/plain": [
       "task_09 results: All test cases passed!\n",
       "task_09 - 1 message: ✅ predict returns an array.\n",
       "task_09 - 2 message: ✅ predict seems to work correctly on the test data we used.\n",
       "task_09 - 3 message: ✅ predict seems to work correctly on the test data we used.\n",
       "task_09 - 4 message: ✅ predict seems to work correctly on the test data we used."
      ]
     },
     "execution_count": 20,
     "metadata": {},
     "output_type": "execute_result"
    }
   ],
   "source": [
    "grader.check(\"task_09\")"
   ]
  },
  {
   "cell_type": "markdown",
   "id": "878cf02f-fe16-4f3f-9ec0-48eadd595c80",
   "metadata": {},
   "source": [
    "## FIFA Predictions"
   ]
  },
  {
   "cell_type": "markdown",
   "id": "4942fcdf-8e8b-493f-9758-eadcd8d678ae",
   "metadata": {},
   "source": [
    "The following data was [scraped](https://en.wikipedia.org/wiki/Data_scraping) from [sofifa.com](https://sofifa.com/), a website dedicated to collecting information from FIFA video games. The dataset consists of all players in [FIFA 22](https://en.wikipedia.org/wiki/FIFA_22) and their corresponding attributes. We have truncated the dataset to a limited number of rows (100) to ease with our visualizations and analysis. \n",
    "\n",
    "**Since we're learning about linear regression, we will look specifically for a linear association between various player attributes. To help with understanding where the line of best fit generated in linear regression comes from please do not use the `.fit_line` argument in `.scatter` at any point on question 2 unless the code was provided for you.**\n",
    "\n",
    "Run the following cell to load the data and reduce the original data to a more manageable amount of information. (There are 110 columns in the original dataset!) "
   ]
  },
  {
   "cell_type": "code",
   "execution_count": 21,
   "id": "b79406ba-7d0a-46f5-a820-e79ff9eaf7c8",
   "metadata": {},
   "outputs": [
    {
     "data": {
      "text/html": [
       "<table border=\"1\" class=\"dataframe\">\n",
       "    <thead>\n",
       "        <tr>\n",
       "            <th>short_name</th> <th>overall</th> <th>value_eur</th> <th>wage_eur</th> <th>age</th> <th>pace</th> <th>shooting</th> <th>passing</th> <th>attacking_finishing</th>\n",
       "        </tr>\n",
       "    </thead>\n",
       "    <tbody>\n",
       "        <tr>\n",
       "            <td>L. Messi         </td> <td>93     </td> <td>78000000 </td> <td>320000  </td> <td>34  </td> <td>85  </td> <td>92      </td> <td>91     </td> <td>95                 </td>\n",
       "        </tr>\n",
       "        <tr>\n",
       "            <td>R. Lewandowski   </td> <td>92     </td> <td>119500000</td> <td>270000  </td> <td>32  </td> <td>78  </td> <td>92      </td> <td>79     </td> <td>95                 </td>\n",
       "        </tr>\n",
       "        <tr>\n",
       "            <td>Cristiano Ronaldo</td> <td>91     </td> <td>45000000 </td> <td>270000  </td> <td>36  </td> <td>87  </td> <td>94      </td> <td>80     </td> <td>95                 </td>\n",
       "        </tr>\n",
       "        <tr>\n",
       "            <td>Neymar Jr        </td> <td>91     </td> <td>129000000</td> <td>270000  </td> <td>29  </td> <td>91  </td> <td>83      </td> <td>86     </td> <td>83                 </td>\n",
       "        </tr>\n",
       "        <tr>\n",
       "            <td>K. De Bruyne     </td> <td>91     </td> <td>125500000</td> <td>350000  </td> <td>30  </td> <td>76  </td> <td>86      </td> <td>93     </td> <td>82                 </td>\n",
       "        </tr>\n",
       "    </tbody>\n",
       "</table>\n",
       "<p>... (95 rows omitted)</p>"
      ],
      "text/plain": [
       "<IPython.core.display.HTML object>"
      ]
     },
     "metadata": {},
     "output_type": "display_data"
    }
   ],
   "source": [
    "fifa = Table.read_table('fifa22.csv')\n",
    "fifa = fifa.select(\"short_name\", \"overall\", \"value_eur\", \n",
    "                   \"wage_eur\", \"age\", \"pace\", \"shooting\", \n",
    "                   \"passing\", \"attacking_finishing\")\n",
    "fifa.show(5)"
   ]
  },
  {
   "cell_type": "markdown",
   "id": "df7b101b-7c2f-44b2-a7c4-10b2d142c39f",
   "metadata": {
    "tags": []
   },
   "source": [
    "### Task 10 📍🔎"
   ]
  },
  {
   "cell_type": "markdown",
   "id": "af407593-3b00-408b-8ef9-e09b74fdbcc5",
   "metadata": {
    "deletable": false,
    "editable": false
   },
   "source": [
    "<!-- BEGIN QUESTION -->\n",
    "\n",
    "Before jumping into any statistical techniques, it's important to see what the data looks like, because data visualizations allow us to uncover patterns in our data that would have otherwise been much more difficult to see.\n",
    "\n",
    "Create a scatter plot with age on the x-axis (`\"age\"`), and the player's value in Euros (`\"value_eur\"`) on the y-axis.\n",
    "\n",
    "_Points:_ 3"
   ]
  },
  {
   "cell_type": "code",
   "execution_count": 22,
   "id": "dc40451a-b08b-4f87-b10b-a18576aac46b",
   "metadata": {
    "tags": []
   },
   "outputs": [
    {
     "data": {
      "image/png": "[encoded data removed]",
      "text/plain": [
       "<Figure size 500x500 with 1 Axes>"
      ]
     },
     "metadata": {},
     "output_type": "display_data"
    }
   ],
   "source": [
    "fifa.scatter('age', 'value_eur')"
   ]
  },
  {
   "cell_type": "markdown",
   "id": "505bbbaf-5ef9-4583-9620-5288810a9327",
   "metadata": {
    "deletable": false,
    "editable": false,
    "tags": []
   },
   "source": [
    "<!-- END QUESTION -->\n",
    "\n",
    "### Task 11 📍🔎"
   ]
  },
  {
   "cell_type": "markdown",
   "id": "afa226bb-990b-4a18-bcc9-94cd9abe8af4",
   "metadata": {
    "deletable": false,
    "editable": false
   },
   "source": [
    "<!-- BEGIN QUESTION -->\n",
    "\n",
    "Create a scatter plot with player age (`\"age\"`) along the x-axis and both real player value (`\"value_eur\"`) and predicted player value along the y-axis. \n",
    "\n",
    "* The predictions should be created using a fitted regression line.\n",
    "* The color of the dots for the real player values should be different from the color for the predicted player values.\n",
    "\n",
    "**Hint 1:** Consider using the `predict` function you have defined previously.\n",
    "\n",
    "**Hint 2:** [Section 15.2](https://inferentialthinking.com/chapters/15/2/Regression_Line.html) and [Section 7.3](https://inferentialthinking.com/chapters/07/3/Overlaid_Graphs.html) have examples of creating such scatter plots.\n",
    "\n",
    "_Points:_ 3"
   ]
  },
  {
   "cell_type": "code",
   "execution_count": 23,
   "id": "68f0e4eb-1296-4738-9448-c3585338788c",
   "metadata": {
    "tags": []
   },
   "outputs": [
    {
     "data": {
      "image/png": "[encoded data removed]",
      "text/plain": [
       "<Figure size 500x500 with 1 Axes>"
      ]
     },
     "metadata": {},
     "output_type": "display_data"
    }
   ],
   "source": [
    "predictions = predict(fifa, 'age', 'value_eur')\n",
    "fifa_with_predictions = fifa.with_column('Predictions', predictions)\n",
    "fifa_with_predictions.select('age', 'value_eur', 'Predictions').scatter('age')"
   ]
  },
  {
   "cell_type": "markdown",
   "id": "57f8a739-130d-4a34-9471-487507146b9c",
   "metadata": {
    "deletable": false,
    "editable": false,
    "tags": []
   },
   "source": [
    "<!-- END QUESTION -->\n",
    "\n",
    "### Task 12 📍🔎"
   ]
  },
  {
   "cell_type": "markdown",
   "id": "8ca972a8-ee07-4c4c-b44d-f0f462175e2e",
   "metadata": {
    "deletable": false,
    "editable": false
   },
   "source": [
    "<!-- BEGIN QUESTION -->\n",
    "\n",
    "Looking at the scatter plot you produced above, is linear regression a good model to use? If so, what features or characteristics make this model reasonable? If not, what features or characteristics make it unreasonable?\n",
    "\n",
    "_Points:_ 3"
   ]
  },
  {
   "cell_type": "markdown",
   "id": "a452e50b",
   "metadata": {},
   "source": [
    "It looks reasonable to use a linear regression. However, it has some outliers and some extrapolations, and maybe it can be a slight curve. "
   ]
  },
  {
   "cell_type": "markdown",
   "id": "c49bfec7-e095-405d-9ff0-b76eade954ac",
   "metadata": {
    "deletable": false,
    "editable": false,
    "tags": []
   },
   "source": [
    "<!-- END QUESTION -->\n",
    "\n",
    "### Task 13 📍"
   ]
  },
  {
   "cell_type": "markdown",
   "id": "e08947a7-111c-433e-a903-05425c268fe8",
   "metadata": {
    "deletable": false,
    "editable": false
   },
   "source": [
    "Define a function `rmse` that takes in two arguments: a slope and an intercept for a potential regression line. The function should return the root mean squared error between the values predicted by a regression line with the given slope and intercept and the actual outcomes.\n",
    "\n",
    "**Note:** Assume we are still predicting `\"value_eur\"` from `\"age\"` in original units from the `fifa` table.\n",
    "\n",
    "_Points:_ 2"
   ]
  },
  {
   "cell_type": "code",
   "execution_count": 24,
   "id": "aebfc5a9-a2ce-4cf7-8e85-ffa9ba048d21",
   "metadata": {
    "tags": []
   },
   "outputs": [],
   "source": [
    "def rmse(slope, intercept):\n",
    "    predictions = slope * fifa.column('age') + intercept\n",
    "    errors = predictions - fifa.column('value_eur')\n",
    "    return np.mean(errors ** 2) ** .5"
   ]
  },
  {
   "cell_type": "code",
   "execution_count": 25,
   "id": "02c3bdce",
   "metadata": {
    "deletable": false,
    "editable": false
   },
   "outputs": [
    {
     "data": {
      "text/html": [
       "<p><strong><pre style='display: inline;'>task_13</pre></strong> passed! 🌈</p><p><strong><pre style='display: inline;'>task_13 - 1</pre> message:</strong> ✅ rmse returns a float.</p><p><strong><pre style='display: inline;'>task_13 - 2</pre> message:</strong> ✅ rmse seems to work on our test data.</p>"
      ],
      "text/plain": [
       "task_13 results: All test cases passed!\n",
       "task_13 - 1 message: ✅ rmse returns a float.\n",
       "task_13 - 2 message: ✅ rmse seems to work on our test data."
      ]
     },
     "execution_count": 25,
     "metadata": {},
     "output_type": "execute_result"
    }
   ],
   "source": [
    "grader.check(\"task_13\")"
   ]
  },
  {
   "cell_type": "markdown",
   "id": "a99743e0-1060-4d89-9c43-ebe65fe9e7c9",
   "metadata": {
    "tags": []
   },
   "source": [
    "### Task 14 📍🔎"
   ]
  },
  {
   "cell_type": "markdown",
   "id": "57d68c51-4615-4ead-a5fe-e8f8e3cb5e64",
   "metadata": {
    "deletable": false,
    "editable": false
   },
   "source": [
    "<!-- BEGIN QUESTION -->\n",
    "\n",
    "1. Use the `rmse` function you defined along with `minimize` to find the least-squares regression parameters predicting player value from player age. Review the [example of using the `minimize` function from the textbook](https://inferentialthinking.com/chapters/15/3/Method_of_Least_Squares.html#numerical-optimization).\n",
    "2. Then set `lsq_slope` and `lsq_intercept` to be the least-squares regression line slope and intercept, respectively.\n",
    "3. Finally, create a scatter plot like you did in Task 11 with player age (`\"age\"`) along the x-axis and both real player value (`\"value_eur\"`) and predicted player value along the y-axis. Be sure to use your least-squares regression line to compute the predicted values. The color of the dots for the real player values should be different from the color for the predicted player values.\n",
    "\n",
    "**Note:** Your solution should **not** make any calls to the slope or intercept functions defined earlier. You are demonstrating a different method for creating the line in this task.\n",
    "\n",
    "**Hint:** Your call to `minimize` will return an array of argument values that minimize the return value of the function passed to minimize.\n",
    "\n",
    "_Points:_ 3"
   ]
  },
  {
   "cell_type": "code",
   "execution_count": 26,
   "id": "ab527d9a-13cf-40ee-856b-33d5c82c5e7b",
   "metadata": {
    "tags": []
   },
   "outputs": [
    {
     "name": "stdout",
     "output_type": "stream",
     "text": [
      "Slope: -6.41462e+06 | Intercept: 2.55525e+08\n"
     ]
    },
    {
     "data": {
      "image/png": "[encoded data removed]",
      "text/plain": [
       "<Figure size 500x500 with 1 Axes>"
      ]
     },
     "metadata": {},
     "output_type": "display_data"
    }
   ],
   "source": [
    "minimized_parameters = minimize(rmse)\n",
    "lsq_slope = minimized_parameters[0]\n",
    "lsq_intercept = minimized_parameters[1]\n",
    "\n",
    "# This just prints your slope and intercept\n",
    "print(\"Slope: {:g} | Intercept: {:g}\".format(lsq_slope, lsq_intercept))\n",
    "\n",
    "lsq_predictions = lsq_slope * fifa.column('age') + lsq_intercept\n",
    "fifa_with_lsq_predictions = fifa_with_predictions = fifa.with_column('lsq predictions', lsq_predictions)\n",
    "fifa_with_lsq_predictions.select('age', 'value_eur', 'lsq predictions').scatter('age')"
   ]
  },
  {
   "cell_type": "markdown",
   "id": "2eb2fc59-8fce-4ac4-a7ae-bbf6cae8bde2",
   "metadata": {
    "deletable": false,
    "editable": false
   },
   "source": [
    "<!-- END QUESTION -->\n",
    "\n",
    "Run this cell to generate a scatter plot for the next part."
   ]
  },
  {
   "cell_type": "code",
   "execution_count": 27,
   "id": "0487ab9c-c219-4b95-b41e-3476c0d48f5e",
   "metadata": {},
   "outputs": [
    {
     "data": {
      "image/png": "[encoded data removed]",
      "text/plain": [
       "<Figure size 500x500 with 1 Axes>"
      ]
     },
     "metadata": {},
     "output_type": "display_data"
    }
   ],
   "source": [
    "no_goalies = fifa.where(\"shooting\", are.above(0))\n",
    "no_goalies.scatter('shooting', 'attacking_finishing', fit_line=True)"
   ]
  },
  {
   "cell_type": "markdown",
   "id": "5e918b3e-6307-41c2-8546-6fafd93b264a",
   "metadata": {
    "tags": []
   },
   "source": [
    "### Task 15 📍"
   ]
  },
  {
   "cell_type": "markdown",
   "id": "f5a72ddd-d6af-4c4e-aa21-180be7bc9656",
   "metadata": {
    "deletable": false,
    "editable": false
   },
   "source": [
    "Above is a scatter plot showing the relationship between a player's shooting ability (`\"shooting\"`) and their scoring ability (`\"attacking_finishing\"`). This visual excludes information on goalies. Goalies do not have shooting information in this dataset, but they have scoring ability data, so we've removed the goalies from the `fifa` table when producing the above image.\n",
    "\n",
    "There is clearly a strong positive correlation between the two variables, and we'd like to predict a player's scoring ability from their shooting ability. \n",
    "\n",
    "Which of the following statements are true, assuming linear regression is a reasonable model?\n",
    "\n",
    "**Hint:** Re-reading [Section 15.2](https://inferentialthinking.com/chapters/15/2/Regression_Line.html) might be helpful here.\n",
    "\n",
    "1. For a majority of players with a shooting attribute above 80 our model predicts they have a better scoring ability than shooting ability.\n",
    "2. A randomly selected player's predicted scoring ability in standard units will always be less than their shooting ability in standard units.\n",
    "3. If we select a player who's shooting ability is 1.0 in standard units, their scoring ability, on average, will be less than 1.0 in standard units.\n",
    "4. Goalies have `attacking_finishing` scores in our dataset but do not have shooting scores. We can still use our model to predict their attacking_finishing scores.\n",
    "\n",
    "Assign `scoring_array` to an array of your selections.\n",
    "\n",
    "_Points:_ 2"
   ]
  },
  {
   "cell_type": "code",
   "execution_count": 28,
   "id": "42a71f58-a0ff-4829-bcf5-ecc6fa347a6e",
   "metadata": {
    "tags": []
   },
   "outputs": [],
   "source": [
    "scoring_array = make_array(1, 3)"
   ]
  },
  {
   "cell_type": "code",
   "execution_count": 29,
   "id": "5c3d7f1f",
   "metadata": {
    "deletable": false,
    "editable": false
   },
   "outputs": [
    {
     "data": {
      "text/html": [
       "<p><strong><pre style='display: inline;'>task_15</pre></strong> passed! 💯</p><p><strong><pre style='display: inline;'>task_15 - 1</pre> message:</strong> ✅ </p>"
      ],
      "text/plain": [
       "task_15 results: All test cases passed!\n",
       "task_15 - 1 message: ✅ "
      ]
     },
     "execution_count": 29,
     "metadata": {},
     "output_type": "execute_result"
    }
   ],
   "source": [
    "grader.check(\"task_15\")"
   ]
  },
  {
   "cell_type": "markdown",
   "id": "babea3e8-60c7-42ee-b5e1-00fbff489a81",
   "metadata": {},
   "source": [
    "## Submit your Homework to Canvas\n",
    "\n",
    "Once you have finished working on the homework tasks, prepare to submit your work in Canvas by completing the following steps.\n",
    "\n",
    "1. In the related Canvas Assignment page, check the rubric to know how you will be scored for this assignment.\n",
    "2. Double-check that you have run the code cell near the end of the notebook that contains the command `\"grader.check_all()\"`. This command will run all of the run tests on all your responses to the auto-graded tasks marked with 📍.\n",
    "3. Double-check your responses to the manually graded tasks marked with 📍🔎.\n",
    "3. Select the menu item \"File\" and \"Save Notebook\" in the notebook's Toolbar to save your work and create a specific checkpoint in the notebook's work history.\n",
    "4. Select the menu items \"File\", \"Download\" in the notebook's Toolbar to download the notebook (.ipynb) file. \n",
    "5. In the related Canvas Assignment page, click Start Assignment or New Attempt to upload the downloaded .ipynb file.\n",
    "\n",
    "**Keep in mind that the auto-grader does not always check for correctness. Sometimes it just checks for the format of your answer, so passing the auto-grader for a task does not mean you got the answer correct for that task.**"
   ]
  },
  {
   "cell_type": "markdown",
   "id": "d079902b",
   "metadata": {
    "deletable": false,
    "editable": false
   },
   "source": [
    "---\n",
    "\n",
    "To double-check your work, the cell below will rerun all of the autograder tests."
   ]
  },
  {
   "cell_type": "code",
   "execution_count": 30,
   "id": "027fc556",
   "metadata": {
    "deletable": false,
    "editable": false
   },
   "outputs": [
    {
     "data": {
      "text/plain": [
       "task_01 results: All test cases passed!\n",
       "task_01 - 1 message: ✅ standard_units works for the test data we provided.\n",
       "task_01 - 2 message: ✅ The mean of the standardized test data is 0.\n",
       "task_01 - 3 message: ✅ The standard deviation of the standardized test data is 1.\n",
       "\n",
       "task_02 results: All test cases passed!\n",
       "task_02 - 1 message: ✅ standard_array contains some of the integers 1, 2, 3, 4, or 5.\n",
       "\n",
       "task_03 results: All test cases passed!\n",
       "task_03 - 1 message: ✅ correlation shows that linear data has a coefficient of 1.\n",
       "\n",
       "task_04 results: All test cases passed!\n",
       "task_04 - 1 message: ✅ r_array contains some of the integers 1, 2, 3, 4, or 5.\n",
       "\n",
       "task_05 results: All test cases passed!\n",
       "task_05 - 1 message: ✅ slope produced the correct result for our test data set.\n",
       "\n",
       "task_06 results: All test cases passed!\n",
       "task_06 - 1 message: ✅ slope_array contains some of the integers 1, 2, 3, 4, or 5.\n",
       "\n",
       "task_07 results: All test cases passed!\n",
       "task_07 - 1 message: ✅ intercept produced the correct result for our test data set.\n",
       "\n",
       "task_08 results: All test cases passed!\n",
       "task_08 - 1 message: ✅ intercept_array contains some of the integers 1, 2, 3, 4, or 5.\n",
       "\n",
       "task_09 results: All test cases passed!\n",
       "task_09 - 1 message: ✅ predict returns an array.\n",
       "task_09 - 2 message: ✅ predict seems to work correctly on the test data we used.\n",
       "task_09 - 3 message: ✅ predict seems to work correctly on the test data we used.\n",
       "task_09 - 4 message: ✅ predict seems to work correctly on the test data we used.\n",
       "\n",
       "task_13 results: All test cases passed!\n",
       "task_13 - 1 message: ✅ rmse returns a float.\n",
       "task_13 - 2 message: ✅ rmse seems to work on our test data.\n",
       "\n",
       "task_15 results: All test cases passed!\n",
       "task_15 - 1 message: ✅ "
      ]
     },
     "execution_count": 30,
     "metadata": {},
     "output_type": "execute_result"
    }
   ],
   "source": [
    "grader.check_all()"
   ]
  },
  {
   "cell_type": "code",
   "execution_count": null,
   "id": "24005ea4-e8c6-4ed9-adf7-628f8b782906",
   "metadata": {},
   "outputs": [],
   "source": []
  }
 ],
 "metadata": {
  "kernelspec": {
   "display_name": "Python 3 (ipykernel)",
   "language": "python",
   "name": "python3"
  },
  "language_info": {
   "codemirror_mode": {
    "name": "ipython",
    "version": 3
   },
   "file_extension": ".py",
   "mimetype": "text/x-python",
   "name": "python",
   "nbconvert_exporter": "python",
   "pygments_lexer": "ipython3",
   "version": "3.10.12"
  },
  "otter": {
   "OK_FORMAT": true,
   "assignment_name": "hw11_sp24",
   "tests": {
    "task_01": {
     "name": "task_01",
     "points": 2,
     "suites": [
      {
       "cases": [
        {
         "code": ">>> standard_units(make_array(1, 2, 3, 4, 5))\narray([-1.41421356, -0.70710678,  0.        ,  0.70710678,  1.41421356])",
         "failure_message": "❌ standard_units doesn't work for the test data we provided.",
         "hidden": false,
         "locked": false,
         "points": 0.5,
         "success_message": "✅ standard_units works for the test data we provided."
        },
        {
         "code": ">>> np.isclose(np.mean(standard_units([1, 2, 3, 4, 5])), 0)\nTrue",
         "failure_message": "❌ The mean of the standardized test data should be 0.",
         "hidden": false,
         "locked": false,
         "points": 0.25,
         "success_message": "✅ The mean of the standardized test data is 0."
        },
        {
         "code": ">>> np.isclose(np.std(standard_units([1, 2, 3, 4, 5])), 0.9999999999999999)\nTrue",
         "failure_message": "❌ The standard deviation of the standardized test data should be 1.",
         "hidden": false,
         "locked": false,
         "points": 0.25,
         "success_message": "✅ The standard deviation of the standardized test data is 1."
        }
       ],
       "scored": true,
       "setup": "",
       "teardown": "",
       "type": "doctest"
      }
     ]
    },
    "task_02": {
     "name": "task_02",
     "points": 2,
     "suites": [
      {
       "cases": [
        {
         "code": ">>> set(standard_array).issubset({1, 2, 3, 4, 5})\nTrue",
         "failure_message": "❌ standard_array should contain some of the integers 1, 2, 3, 4, or 5.",
         "hidden": false,
         "locked": false,
         "points": 1,
         "success_message": "✅ standard_array contains some of the integers 1, 2, 3, 4, or 5."
        }
       ],
       "scored": true,
       "setup": "",
       "teardown": "",
       "type": "doctest"
      }
     ]
    },
    "task_03": {
     "name": "task_03",
     "points": 2,
     "suites": [
      {
       "cases": [
        {
         "code": ">>> np.isclose(correlation([1, 2, 3], [4, 5, 6]), 0.9999999999999999)\nTrue",
         "failure_message": "❌ correlation should show that linear data has a coefficient of 1.",
         "hidden": false,
         "locked": false,
         "points": 1,
         "success_message": "✅ correlation shows that linear data has a coefficient of 1."
        }
       ],
       "scored": true,
       "setup": "",
       "teardown": "",
       "type": "doctest"
      }
     ]
    },
    "task_04": {
     "name": "task_04",
     "points": 2,
     "suites": [
      {
       "cases": [
        {
         "code": ">>> set(r_array).issubset({1, 2, 3, 4, 5})\nTrue",
         "failure_message": "❌ r_array should contain some of the integers 1, 2, 3, 4, or 5.",
         "hidden": false,
         "locked": false,
         "points": 1,
         "success_message": "✅ r_array contains some of the integers 1, 2, 3, 4, or 5."
        }
       ],
       "scored": true,
       "setup": "",
       "teardown": "",
       "type": "doctest"
      }
     ]
    },
    "task_05": {
     "name": "task_05",
     "points": 2,
     "suites": [
      {
       "cases": [
        {
         "code": ">>> test_data = make_array(1, 2, 3, 4)\n>>> np.isclose(slope(test_data, 2 * test_data), 2)\nTrue",
         "failure_message": "❌ slope did not produce the correct result for our test data set.",
         "hidden": false,
         "locked": false,
         "points": 1,
         "success_message": "✅ slope produced the correct result for our test data set."
        }
       ],
       "scored": true,
       "setup": "",
       "teardown": "",
       "type": "doctest"
      }
     ]
    },
    "task_06": {
     "name": "task_06",
     "points": 2,
     "suites": [
      {
       "cases": [
        {
         "code": ">>> set(slope_array).issubset({1, 2, 3, 4, 5})\nTrue",
         "failure_message": "❌ slope_array should contain some of the integers 1, 2, 3, 4, or 5.",
         "hidden": false,
         "locked": false,
         "points": 1,
         "success_message": "✅ slope_array contains some of the integers 1, 2, 3, 4, or 5."
        }
       ],
       "scored": true,
       "setup": "",
       "teardown": "",
       "type": "doctest"
      }
     ]
    },
    "task_07": {
     "name": "task_07",
     "points": 2,
     "suites": [
      {
       "cases": [
        {
         "code": ">>> test_data = make_array(1, 2, 3, 4)\n>>> np.isclose(intercept(test_data, 2 * test_data), 0)\nTrue",
         "failure_message": "❌ intercept did not produce the correct result for our test data set.",
         "hidden": false,
         "locked": false,
         "points": 1,
         "success_message": "✅ intercept produced the correct result for our test data set."
        }
       ],
       "scored": true,
       "setup": "",
       "teardown": "",
       "type": "doctest"
      }
     ]
    },
    "task_08": {
     "name": "task_08",
     "points": 2,
     "suites": [
      {
       "cases": [
        {
         "code": ">>> set(intercept_array).issubset({1, 2, 3, 4, 5})\nTrue",
         "failure_message": "❌ intercept_array should contain some of the integers 1, 2, 3, 4, or 5.",
         "hidden": false,
         "locked": false,
         "points": 1,
         "success_message": "✅ intercept_array contains some of the integers 1, 2, 3, 4, or 5."
        }
       ],
       "scored": true,
       "setup": "",
       "teardown": "",
       "type": "doctest"
      }
     ]
    },
    "task_09": {
     "name": "task_09",
     "points": 3,
     "suites": [
      {
       "cases": [
        {
         "code": ">>> test_data = make_array(1, 2, 3, 4)\n>>> test_tbl = Table().with_columns('x_col', test_data, 'y_col', 2 * test_data)\n>>> test_prediction = predict(test_tbl, 'x_col', 'y_col')\n>>> isinstance(test_prediction, np.ndarray)\nTrue",
         "failure_message": "❌ predict should return an array.",
         "hidden": false,
         "locked": false,
         "points": 0.5,
         "success_message": "✅ predict returns an array."
        },
        {
         "code": ">>> test_data = make_array(1, 2, 3, 4)\n>>> test_tbl = Table().with_columns('x_col', test_data, 'y_col', 2 * test_data)\n>>> predict(test_tbl, 'x_col', 'y_col')\narray([ 2.,  4.,  6.,  8.])",
         "failure_message": "❌ predict seems to work correctly on the test data we used.",
         "hidden": false,
         "locked": false,
         "points": 0.5,
         "success_message": "✅ predict seems to work correctly on the test data we used."
        },
        {
         "code": ">>> test_data = make_array(-2, -1, 1, 2)\n>>> test_tbl = Table().with_columns('x_col', test_data, 'y_col', test_data)\n>>> predict(test_tbl, 'x_col', 'y_col')\narray([-2., -1.,  1.,  2.])",
         "failure_message": "❌ predict seems to work correctly on the test data we used.",
         "hidden": false,
         "locked": false,
         "points": 0.5,
         "success_message": "✅ predict seems to work correctly on the test data we used."
        },
        {
         "code": ">>> test_data = make_array(-2, -1, 1, 2)\n>>> test_tbl = Table().with_columns('x_col', test_data, 'y_col', -1 * test_data)\n>>> predict(test_tbl, 'x_col', 'y_col')\narray([ 2.,  1., -1., -2.])",
         "failure_message": "❌ predict seems to work correctly on the test data we used.",
         "hidden": false,
         "locked": false,
         "points": 0.5,
         "success_message": "✅ predict seems to work correctly on the test data we used."
        }
       ],
       "scored": true,
       "setup": "",
       "teardown": "",
       "type": "doctest"
      }
     ]
    },
    "task_13": {
     "name": "task_13",
     "points": 2,
     "suites": [
      {
       "cases": [
        {
         "code": ">>> max_value_eur = np.max(fifa.column('value_eur'))\n>>> min_value_eur = np.min(fifa.column('value_eur'))\n>>> max_age = np.max(fifa.column('age'))\n>>> min_age = np.min(fifa.column('age'))\n>>> test_slope = (max_value_eur - min_value_eur) / (max_age - min_age)\n>>> test_intercept = 1.2 * 100000000.0\n>>> test_rmse = rmse(test_slope, test_intercept)\n>>> isinstance(test_rmse, (float, np.float_))\nTrue",
         "failure_message": "❌ rmse should return a float.",
         "hidden": false,
         "locked": false,
         "points": 0.5,
         "success_message": "✅ rmse returns a float."
        },
        {
         "code": ">>> max_value_eur = np.max(fifa.column('value_eur'))\n>>> min_value_eur = np.min(fifa.column('value_eur'))\n>>> max_age = np.max(fifa.column('age'))\n>>> min_age = np.min(fifa.column('age'))\n>>> test_slope = (max_value_eur - min_value_eur) / (max_age - min_age)\n>>> test_intercept = 1.2 * 100000000.0\n>>> np.isclose(rmse(test_slope, test_intercept), 346627863.32058465)\nTrue",
         "failure_message": "❌ rmse does not seem to work on our test data.",
         "hidden": false,
         "locked": false,
         "points": 0.5,
         "success_message": "✅ rmse seems to work on our test data."
        }
       ],
       "scored": true,
       "setup": "",
       "teardown": "",
       "type": "doctest"
      }
     ]
    },
    "task_15": {
     "name": "task_15",
     "points": 2,
     "suites": [
      {
       "cases": [
        {
         "code": ">>> True\nTrue",
         "failure_message": "❌ ",
         "hidden": false,
         "locked": false,
         "points": 1,
         "success_message": "✅ "
        }
       ],
       "scored": true,
       "setup": "",
       "teardown": "",
       "type": "doctest"
      }
     ]
    }
   }
  }
 },
 "nbformat": 4,
 "nbformat_minor": 5
}
