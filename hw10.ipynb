{
 "cells": [
  {
   "cell_type": "code",
   "execution_count": 1,
   "id": "b7e83edf",
   "metadata": {
    "deletable": false,
    "editable": false
   },
   "outputs": [],
   "source": [
    "# Initialize Otter\n",
    "import otter\n",
    "grader = otter.Notebook(\"hw10.ipynb\")"
   ]
  },
  {
   "cell_type": "markdown",
   "id": "c663aa4d-309a-448c-9336-11a829d0083b",
   "metadata": {},
   "source": [
    "<img style=\"display: block; margin-left: auto; margin-right: auto\" src=\"./ccsf-logo.png\" width=\"250rem;\" alt=\"The CCSF black and white logo\">"
   ]
  },
  {
   "cell_type": "markdown",
   "id": "fd6b8027-4b28-4079-89fe-e0678eb457db",
   "metadata": {},
   "source": [
    "# Homework 10: Designing Experiments"
   ]
  },
  {
   "cell_type": "markdown",
   "id": "ca9bd04d-f09e-4ead-8e8d-4eed217b0168",
   "metadata": {},
   "source": [
    "## References\n",
    "\n",
    "* [Why the Mean Matters](https://inferentialthinking.com/chapters/14/Why_the_Mean_Matters.html)\n",
    "* [`datascience` Documentation](https://datascience.readthedocs.io/)\n",
    "* [Python Quick Reference](https://ccsf-math-108.github.io/materials-sp24/resources/quick-reference.html)"
   ]
  },
  {
   "cell_type": "markdown",
   "id": "3c6e0bbf-e2b8-4cf2-81fb-82006fc6ce05",
   "metadata": {},
   "source": [
    "## Assignment Reminders"
   ]
  },
  {
   "cell_type": "markdown",
   "id": "95907cc6-e6e4-4ca2-9983-24eb7d60d60f",
   "metadata": {},
   "source": [
    "- Make sure to run the code cell at the top of this notebook that starts with `# Initialize Otter` to load the auto-grader.\n",
    "- For all tasks indicated with a 🔎 that you must write explanations and sentences for, provide your answer in the designated space.\n",
    "- Throughout this assignment and all future ones, please be sure to not re-assign variables throughout the notebook! _For example, if you use `max_temperature` in your answer to one question, do not reassign it later on. Otherwise, you will fail tests that you thought you were passing previously!_\n",
    "- We encourage you to discuss this assignment with others but make sure to write and submit your own code. Refer to the syllabus to learn more about how to learn cooperatively.\n",
    "- Unless you are asked otherwise, use the non-interactive visualizations when asked to produce a visualization for a task.\n",
    "- View the related <a href=\"https://ccsf.instructure.com\" target=\"_blank\">Canvas</a> Assignment page for additional details.\n",
    "\n",
    "Run the following code cell to import the tools for this assignment."
   ]
  },
  {
   "cell_type": "code",
   "execution_count": 2,
   "id": "57868ad6-d1eb-4905-b8c8-f73636544d52",
   "metadata": {
    "tags": []
   },
   "outputs": [],
   "source": [
    "from datascience import *\n",
    "import numpy as np\n",
    "%matplotlib inline\n",
    "import matplotlib.pyplot as plt\n",
    "plt.style.use('fivethirtyeight')"
   ]
  },
  {
   "cell_type": "markdown",
   "id": "36580667-a0e2-4486-af03-ada3ae72c50d",
   "metadata": {},
   "source": [
    "## Bounding the Tail of a Distribution\n",
    "\n",
    "A community has an average age of 45 years with a standard deviation of 5 years.\n",
    "\n",
    "In each task in this section, fill in the blank with a percent that makes the statement true **without further assumptions**, and explain your answer.\n",
    "\n",
    "*Note:* No credit will be given for loose bounds such as \"at least 0%\" or \"at most 100%\". Give the best answer that is possible with the information given."
   ]
  },
  {
   "cell_type": "markdown",
   "id": "bb146300-6b44-4061-8749-20e1d2b43c79",
   "metadata": {
    "deletable": false,
    "editable": false
   },
   "source": [
    "<!-- BEGIN QUESTION -->\n",
    "\n",
    "### Task 01 📍🔎"
   ]
  },
  {
   "cell_type": "markdown",
   "id": "94ef26ef-2a85-4ef9-8478-fc15b06f8e6b",
   "metadata": {
    "deletable": false,
    "editable": false
   },
   "source": [
    "At least _______% of the people are between 25 and 65 years old.\n",
    "\n",
    "_Points:_ 2"
   ]
  },
  {
   "cell_type": "markdown",
   "id": "8507066d",
   "metadata": {},
   "source": [
    "At least 93.75% of the people are between 25 and 65 years older. We can use Chebyshev to explain that the probability that someone is more than 4 SDs of the mean is at most 1/16 or 6.25% and the probability that someone is within 4 SDs of the mean is at least 1 - 1/16 or 93.75%. "
   ]
  },
  {
   "cell_type": "markdown",
   "id": "fd7bd228-69e7-4a83-af9a-0329e0046f40",
   "metadata": {
    "deletable": false,
    "editable": false
   },
   "source": [
    "<!-- END QUESTION -->\n",
    "\n",
    "<!-- BEGIN QUESTION -->\n",
    "\n",
    "### Task 02 📍🔎"
   ]
  },
  {
   "cell_type": "markdown",
   "id": "2e79437e-ba5a-4f1b-98d2-948a547168c0",
   "metadata": {
    "deletable": false,
    "editable": false
   },
   "source": [
    "At most _______% of the people have ages that are not in the range 25 years to 65 years.\n",
    "\n",
    "_Points:_ 2"
   ]
  },
  {
   "cell_type": "markdown",
   "id": "2330269d",
   "metadata": {},
   "source": [
    "From the above at most 6.25% are not within 25 to 65 years old. "
   ]
  },
  {
   "cell_type": "markdown",
   "id": "4b313522-5ed3-4b8a-9628-7db544b2ed43",
   "metadata": {
    "deletable": false,
    "editable": false
   },
   "source": [
    "<!-- END QUESTION -->\n",
    "\n",
    "<!-- BEGIN QUESTION -->\n",
    "\n",
    "### Task 03 📍🔎"
   ]
  },
  {
   "cell_type": "markdown",
   "id": "0a122985-adfe-4405-b78e-1e2123375d24",
   "metadata": {
    "deletable": false,
    "editable": false
   },
   "source": [
    "At most _______% of the people are more than 65 years old.\n",
    "\n",
    "*Hint:* If you're stuck, try thinking about what the distribution may look like in this case.\n",
    "\n",
    "\n",
    "_Points:_ 2"
   ]
  },
  {
   "cell_type": "markdown",
   "id": "d6667d58",
   "metadata": {},
   "source": [
    "The probability of being more than 4 SDs above the mean is less than or equal the probability of being more than SDs above or below the mean. Without knowing more about the distribution, we can say from Chebyshev is that at most 6.25% of the people are more than 65 years old. "
   ]
  },
  {
   "cell_type": "markdown",
   "id": "f17988a7-5fc0-41e8-9c34-f3074b295450",
   "metadata": {
    "deletable": false,
    "editable": false
   },
   "source": [
    "<!-- END QUESTION -->\n",
    "\n",
    "## Sample Size and Confidence Level"
   ]
  },
  {
   "cell_type": "markdown",
   "id": "f238fc3b-f518-4902-b09d-ccdb00e5e51c",
   "metadata": {},
   "source": [
    "A data science class at the large Data 8 University wants to estimate the percentage of Facebook users among students at the school. To do this, they need to take a random sample of students. You can assume that their method of sampling is equivalent to drawing at random with replacement from students at the school.\n",
    "\n",
    "***Please review [Section 14.6](https://inferentialthinking.com/chapters/14/6/Choosing_a_Sample_Size.html#) of the textbook before proceeding with this section. Your work will go much faster that way!***"
   ]
  },
  {
   "cell_type": "markdown",
   "id": "d007f1c6-3013-4e7a-b6a8-c7c0c5dda080",
   "metadata": {
    "deletable": false,
    "editable": false
   },
   "source": [
    "### Task 04 📍"
   ]
  },
  {
   "cell_type": "markdown",
   "id": "40c78c92-1604-4fab-910a-b4ee9f0f5a43",
   "metadata": {
    "deletable": false,
    "editable": false
   },
   "source": [
    "Assign `smallest` to the smallest number of students (an integer value) they should sample to ensure that a **95%** confidence interval for the parameter has a width of no more than 6% from the left end to the right end.\n",
    "\n",
    "*Hint:* How can our data be represented to show if a student in the sample is a Facebook user? Given this, what assumptions can we make for the SD of the population? [Section 14.6](https://inferentialthinking.com/chapters/14/6/Choosing_a_Sample_Size.html#) might be helpful!\n",
    "\n",
    "*Note:* You can use `np.ceil` to round a float up to the next whole number. Keep in mind that the resulting value will still be a `float` data type. You'll need to convert the float to an integer.\n",
    "\n",
    "_Points:_ 2"
   ]
  },
  {
   "cell_type": "code",
   "execution_count": 3,
   "id": "d47bad07-60f6-4a02-9308-6acaa086b42c",
   "metadata": {
    "tags": []
   },
   "outputs": [
    {
     "data": {
      "text/plain": [
       "1112"
      ]
     },
     "execution_count": 3,
     "metadata": {},
     "output_type": "execute_result"
    }
   ],
   "source": [
    "smallest = int(np.ceil((4 * 0.5 / .06) ** 2))\n",
    "smallest"
   ]
  },
  {
   "cell_type": "code",
   "execution_count": 4,
   "id": "19b3ee44",
   "metadata": {
    "deletable": false,
    "editable": false
   },
   "outputs": [
    {
     "data": {
      "text/html": [
       "<p><strong><pre style='display: inline;'>task_04</pre></strong> passed! 🌈</p><p><strong><pre style='display: inline;'>task_04 - 1</pre> message:</strong> ✅ smallest represents a value between 110 and 1150, inclusive.</p><p><strong><pre style='display: inline;'>task_04 - 2</pre> message:</strong> ✅ smallest is an integer.</p>"
      ],
      "text/plain": [
       "task_04 results: All test cases passed!\n",
       "task_04 - 1 message: ✅ smallest represents a value between 110 and 1150, inclusive.\n",
       "task_04 - 2 message: ✅ smallest is an integer."
      ]
     },
     "execution_count": 4,
     "metadata": {},
     "output_type": "execute_result"
    }
   ],
   "source": [
    "grader.check(\"task_04\")"
   ]
  },
  {
   "cell_type": "markdown",
   "id": "19b47755-6d84-4454-bb0e-b060ad6ea0a6",
   "metadata": {
    "deletable": false,
    "editable": false
   },
   "source": [
    "<!-- BEGIN QUESTION -->\n",
    "\n",
    "### Task 05 📍🔎"
   ]
  },
  {
   "cell_type": "markdown",
   "id": "6a58415a-b552-4a9c-b982-2c3bc9b0744e",
   "metadata": {
    "deletable": false,
    "editable": false
   },
   "source": [
    "Suppose the data science class decides to construct a 90% confidence interval instead of a 95% confidence interval, but they still require that the width of the interval is no more than 6% from the left end to the right end. Will they need the same sample size as in Task 04? Pick the right answer and explain further without calculation.\n",
    "\n",
    "1. Yes, they must use the same sample size.\n",
    "2. No, a smaller sample size will work.\n",
    "3. No, they will need a bigger sample.\n",
    "\n",
    "\n",
    "_Points:_ 2"
   ]
  },
  {
   "cell_type": "markdown",
   "id": "71522b36",
   "metadata": {},
   "source": [
    "2 is correct. If we decreased confidence level with the same intend of interval width allows an increased standard deviation of the sample means and therefore a decreased sample size. "
   ]
  },
  {
   "cell_type": "markdown",
   "id": "bb6931ab-72df-49ba-8e1a-8c0a3032c9b0",
   "metadata": {
    "deletable": false,
    "editable": false
   },
   "source": [
    "<!-- END QUESTION -->\n",
    "\n",
    "### Task 06 📍"
   ]
  },
  {
   "cell_type": "markdown",
   "id": "b88576d2-babc-4e4a-b234-24b1d99ab4dc",
   "metadata": {
    "deletable": false,
    "editable": false
   },
   "source": [
    "The professor tells the class that a 90% confidence interval for the parameter is constructed exactly like a 95% confidence interval, except that you have to go only 1.65 SDs on either side of the estimate (±1.65) instead of 2 SDs on either side (±2). Assign `smallest_num` to the smallest number of students (an integer) they should sample to ensure that a **90%** confidence interval for the parameter has a width of no more than 6% from the left end to the right end.\n",
    "\n",
    "*Note:* Make sure you round up your sample size value and make sure it is an integer.\n",
    "\n",
    "\n",
    "_Points:_ 2"
   ]
  },
  {
   "cell_type": "code",
   "execution_count": 5,
   "id": "9099aace-5216-4581-9df8-66761574c162",
   "metadata": {
    "tags": []
   },
   "outputs": [
    {
     "data": {
      "text/plain": [
       "757"
      ]
     },
     "execution_count": 5,
     "metadata": {},
     "output_type": "execute_result"
    }
   ],
   "source": [
    "smallest_num = int(np.ceil((1.65 * 2 * 0.5 / .06) ** 2))\n",
    "smallest_num"
   ]
  },
  {
   "cell_type": "code",
   "execution_count": 6,
   "id": "773e52ff",
   "metadata": {
    "deletable": false,
    "editable": false
   },
   "outputs": [
    {
     "data": {
      "text/html": [
       "<p><strong><pre style='display: inline;'>task_06</pre></strong> passed! 🍀</p><p><strong><pre style='display: inline;'>task_06 - 1</pre> message:</strong> ✅ smallest_num represents a value between 700 and 800, inclusive.</p><p><strong><pre style='display: inline;'>task_06 - 2</pre> message:</strong> ✅ smallest_num is an integer.</p>"
      ],
      "text/plain": [
       "task_06 results: All test cases passed!\n",
       "task_06 - 1 message: ✅ smallest_num represents a value between 700 and 800, inclusive.\n",
       "task_06 - 2 message: ✅ smallest_num is an integer."
      ]
     },
     "execution_count": 6,
     "metadata": {},
     "output_type": "execute_result"
    }
   ],
   "source": [
    "grader.check(\"task_06\")"
   ]
  },
  {
   "cell_type": "markdown",
   "id": "0a885e25-cfc0-4ee0-a870-6c5e1325d639",
   "metadata": {},
   "source": [
    "For this next exercise, please consult [Section 14.3.4](https://inferentialthinking.com/chapters/14/3/SD_and_the_Normal_Curve.html#the-standard-normal-cdf) of the textbook for similar examples.\n",
    "\n",
    "The students are curious about how the professor came up with the value 1.65 in Question 2.3. She says she ran the following two code cells. The first one calls the `datascience` library function `plot_normal_cdf`, which displays the proportion that is at most the specified number of SDs above average under the normal curve plotted with standard units on the horizontal axis. You can find the documentation [here](http://data8.org/datascience/util.html#datascience.util.plot_normal_cdf).\n",
    "\n",
    "*Note:* The acronym `cdf` stands for `cumulative distribution function`. It measures the proportion to the left of a specified point under a probability histogram."
   ]
  },
  {
   "cell_type": "code",
   "execution_count": 7,
   "id": "c36768e7-02f6-42d6-86ec-6898f1f56e8f",
   "metadata": {},
   "outputs": [
    {
     "data": {
      "image/png": "[encoded data removed]",
      "text/plain": [
       "<Figure size 640x480 with 1 Axes>"
      ]
     },
     "metadata": {},
     "output_type": "display_data"
    }
   ],
   "source": [
    "plot_normal_cdf(1.65)"
   ]
  },
  {
   "cell_type": "markdown",
   "id": "6df2d7eb-b25d-4d82-a30f-b77029ee98f8",
   "metadata": {},
   "source": [
    "To run the second cell, the professor had to first import a Python library for probability and statistics:"
   ]
  },
  {
   "cell_type": "code",
   "execution_count": 33,
   "id": "bc28e62e-a659-405e-a1da-8fd8431d3e41",
   "metadata": {},
   "outputs": [],
   "source": [
    "# Just run this cell\n",
    "from scipy import stats"
   ]
  },
  {
   "cell_type": "markdown",
   "id": "dace0f54-5d44-4bfe-87d3-f641acfaf62a",
   "metadata": {},
   "source": [
    "Then she used the `norm.cdf` method in the library to find the gold proportion above."
   ]
  },
  {
   "cell_type": "code",
   "execution_count": 35,
   "id": "fa1b62b1-e00e-406d-8411-553b6c4ec033",
   "metadata": {},
   "outputs": [
    {
     "data": {
      "text/plain": [
       "0.9505285319663519"
      ]
     },
     "execution_count": 35,
     "metadata": {},
     "output_type": "execute_result"
    }
   ],
   "source": [
    "# Just run this cell\n",
    "stats.norm.cdf(1.65)"
   ]
  },
  {
   "cell_type": "markdown",
   "id": "7cf943a2-4ad8-4555-b7d6-1a1e18baa6e5",
   "metadata": {},
   "source": [
    "*Note*: You do not need to understand how the `scipy` library or how to use the method yourself."
   ]
  },
  {
   "cell_type": "markdown",
   "id": "5f2bb368-c7a1-4c96-a1aa-2ea677ed183d",
   "metadata": {
    "deletable": false,
    "editable": false
   },
   "source": [
    "<!-- BEGIN QUESTION -->\n",
    "\n",
    "### Task 07 📍🔎"
   ]
  },
  {
   "cell_type": "markdown",
   "id": "83b84f4b-f20d-4c7a-9516-2979ff25b5f0",
   "metadata": {
    "deletable": false,
    "editable": false
   },
   "source": [
    "This shows that the percentage in a normal distribution that is at most 1.65 SDs above average is about **95%**. Explain why 1.65 is the right number of SDs to use when constructing a **90%** confidence interval.\n",
    "\n",
    "_Points:_ 2"
   ]
  },
  {
   "cell_type": "markdown",
   "id": "371dd94e",
   "metadata": {},
   "source": [
    "The CDF indicates that the chances of being more than 1.65 SDs above the mean is 1 - 0.95 or 5%. Since the normal curve is symmetric about the mean, the chances of being less than 1.65 SDs below the mean is also 5%. Then there is a 100% - 5% * 2 or 90% chance of being within 1.65 SDs, which is where we get the 90% confidence interval from. "
   ]
  },
  {
   "cell_type": "markdown",
   "id": "0971e5ee",
   "metadata": {
    "deletable": false,
    "editable": false
   },
   "source": [
    "<!-- END QUESTION -->\n",
    "\n"
   ]
  },
  {
   "cell_type": "code",
   "execution_count": 36,
   "id": "6266bce9-89fd-47c3-a7ce-73a150034d6d",
   "metadata": {},
   "outputs": [
    {
     "data": {
      "text/plain": [
       "0.99009692444083575"
      ]
     },
     "execution_count": 36,
     "metadata": {},
     "output_type": "execute_result"
    }
   ],
   "source": [
    "# Just run this cell, do not change it.\n",
    "stats.norm.cdf(2.33)"
   ]
  },
  {
   "cell_type": "markdown",
   "id": "0a957efa-84f0-4f1a-91d8-1380e36724a0",
   "metadata": {
    "deletable": false,
    "editable": false
   },
   "source": [
    "### Task 08 📍"
   ]
  },
  {
   "cell_type": "markdown",
   "id": "fb85d41f-e6c4-4f1d-a7a2-42cd3edbe1ae",
   "metadata": {
    "deletable": false,
    "editable": false
   },
   "source": [
    "The cell above shows that the proportion that is at most 2.33 SDs above average in a normal distribution is 99%. Assign `option` to the right option (1, 2, 3, 4) to fill in the blank:\n",
    "\n",
    "If you start at the estimate and go 2.33 SDs on either side, then you will get a _______% confidence interval for the parameter.\n",
    "\n",
    "1. 99.5\n",
    "2. 99\n",
    "3. 98.5\n",
    "4. 98\n",
    "\n",
    "\n",
    "\n",
    "_Points:_ 2"
   ]
  },
  {
   "cell_type": "code",
   "execution_count": 37,
   "id": "23f6102e-3287-41b1-ad8d-94fb824607d0",
   "metadata": {
    "tags": []
   },
   "outputs": [
    {
     "data": {
      "text/plain": [
       "4"
      ]
     },
     "execution_count": 37,
     "metadata": {},
     "output_type": "execute_result"
    }
   ],
   "source": [
    "option = 4\n",
    "option"
   ]
  },
  {
   "cell_type": "code",
   "execution_count": 38,
   "id": "beb8672b",
   "metadata": {
    "deletable": false,
    "editable": false
   },
   "outputs": [
    {
     "data": {
      "text/html": [
       "<p><strong><pre style='display: inline;'>task_08</pre></strong> passed! 🍀</p><p><strong><pre style='display: inline;'>task_08 - 1</pre> message:</strong> ✅ option represents 1, 2, 3, or 4.</p>"
      ],
      "text/plain": [
       "task_08 results: All test cases passed!\n",
       "task_08 - 1 message: ✅ option represents 1, 2, 3, or 4."
      ]
     },
     "execution_count": 38,
     "metadata": {},
     "output_type": "execute_result"
    }
   ],
   "source": [
    "grader.check(\"task_08\")"
   ]
  },
  {
   "cell_type": "markdown",
   "id": "6680395b-9281-4b70-b78f-c8b0ba0496ce",
   "metadata": {},
   "source": [
    "## Polling and the Normal Distribution"
   ]
  },
  {
   "cell_type": "markdown",
   "id": "f78c7b13-24f8-4fb8-91c7-8e088b6d2063",
   "metadata": {},
   "source": [
    "Michelle is a statistical consultant, and she works for a group that supports Proposition 68 (which would mandate labeling of all horizontal and vertical axes) called Yes on 68.  They want to know how many Californians will vote for the proposition.\n",
    "\n",
    "Michelle polls a uniform random sample of all California voters, and she finds that 210 of the 400 sampled voters will vote in favor of the proposition. We have provided a table for you below which has 3 columns: the first two columns are identical to `sample`. The third column contains the proportion of total voters that chose each option."
   ]
  },
  {
   "cell_type": "code",
   "execution_count": 39,
   "id": "d31208fe-5ab8-482d-8dcd-6526a102b73d",
   "metadata": {
    "ExecuteTime": {
     "end_time": "2018-03-20T04:34:23.388186Z",
     "start_time": "2018-03-20T04:34:23.372185Z"
    },
    "manual_problem_id": "sample_with_proportions"
   },
   "outputs": [
    {
     "data": {
      "text/html": [
       "<table border=\"1\" class=\"dataframe\">\n",
       "    <thead>\n",
       "        <tr>\n",
       "            <th>Vote</th> <th>Count</th> <th>Proportion</th>\n",
       "        </tr>\n",
       "    </thead>\n",
       "    <tbody>\n",
       "        <tr>\n",
       "            <td>Yes </td> <td>210  </td> <td>0.525     </td>\n",
       "        </tr>\n",
       "        <tr>\n",
       "            <td>No  </td> <td>190  </td> <td>0.475     </td>\n",
       "        </tr>\n",
       "    </tbody>\n",
       "</table>"
      ],
      "text/plain": [
       "Vote | Count | Proportion\n",
       "Yes  | 210   | 0.525\n",
       "No   | 190   | 0.475"
      ]
     },
     "execution_count": 39,
     "metadata": {},
     "output_type": "execute_result"
    }
   ],
   "source": [
    "sample = Table().with_columns(\n",
    "    \"Vote\",  make_array(\"Yes\", \"No\"),\n",
    "    \"Count\", make_array(210,   190))\n",
    "\n",
    "sample_size = sum(sample.column(\"Count\"))\n",
    "sample_with_proportions = sample.with_column(\"Proportion\", sample.column(\"Count\") / sample_size)\n",
    "sample_with_proportions"
   ]
  },
  {
   "cell_type": "markdown",
   "id": "1e59381c-c03d-4342-8c47-d5f542422b5a",
   "metadata": {
    "deletable": false,
    "editable": false
   },
   "source": [
    "### Task 09 📍"
   ]
  },
  {
   "cell_type": "markdown",
   "id": "c6ffa3cf-8b1a-41ea-bf0a-14626e93cf1b",
   "metadata": {
    "deletable": false,
    "editable": false
   },
   "source": [
    "Michelle wants to use 10,000 bootstrap resamples to compute a confidence interval for the proportion of all California voters who will vote Yes.  \n",
    "\n",
    "Fill in the next cell to simulate an empirical distribution of Yes proportions. Use bootstrap resampling to simulate 10,000 election outcomes, and assign `resample_yes_proportions` to contain the Yes proportion of each bootstrap resample. Then, visualize `resample_yes_proportions` with a histogram. **You should see a bell-shaped curve centered near the proportion of Yes in the original sample.**\n",
    "\n",
    "*Hint:* `sample_proportions` may be useful here!\n",
    "\n",
    "\n",
    "_Points:_ 2"
   ]
  },
  {
   "cell_type": "code",
   "execution_count": 40,
   "id": "50f6c0ab-9bc6-45b8-b460-954ed41ff4e3",
   "metadata": {
    "ExecuteTime": {
     "end_time": "2018-03-20T04:35:22.190065Z",
     "start_time": "2018-03-20T04:35:21.777769Z"
    },
    "manual_problem_id": "resample_yes_proportions",
    "tags": []
   },
   "outputs": [
    {
     "data": {
      "image/png": "[encoded data removed]",
      "text/plain": [
       "<Figure size 600x400 with 1 Axes>"
      ]
     },
     "metadata": {},
     "output_type": "display_data"
    }
   ],
   "source": [
    "resample_yes_proportions = make_array()\n",
    "for i in np.arange(10000):\n",
    "    resample = sample_proportions(400, sample_with_proportions.column('Proportion'))\n",
    "    resample_yes_proportions = np.append(resample_yes_proportions, resample[0])\n",
    "Table().with_column(\"Resample Yes proportion\", resample_yes_proportions).hist(bins=np.arange(.2, .8, .01))"
   ]
  },
  {
   "cell_type": "code",
   "execution_count": 41,
   "id": "c3f93650",
   "metadata": {
    "deletable": false,
    "editable": false
   },
   "outputs": [
    {
     "data": {
      "text/html": [
       "<p><strong><pre style='display: inline;'>task_09</pre></strong> passed! 🚀</p><p><strong><pre style='display: inline;'>task_09 - 1</pre> message:</strong> ✅ resample_yes_proportions contains 10,000 items.</p><p><strong><pre style='display: inline;'>task_09 - 2</pre> message:</strong> ✅ The mean and standard deviation of resample_yes_proportions seems possible.</p>"
      ],
      "text/plain": [
       "task_09 results: All test cases passed!\n",
       "task_09 - 1 message: ✅ resample_yes_proportions contains 10,000 items.\n",
       "task_09 - 2 message: ✅ The mean and standard deviation of resample_yes_proportions seems possible."
      ]
     },
     "execution_count": 41,
     "metadata": {},
     "output_type": "execute_result"
    }
   ],
   "source": [
    "grader.check(\"task_09\")"
   ]
  },
  {
   "cell_type": "markdown",
   "id": "415f4719-8faa-4e6b-a6c9-181f268902be",
   "metadata": {
    "deletable": false,
    "editable": false
   },
   "source": [
    "<!-- BEGIN QUESTION -->\n",
    "\n",
    "### Task 10 📍🔎"
   ]
  },
  {
   "cell_type": "markdown",
   "id": "141b282c-e0b5-428e-9cf2-04542f91ed2e",
   "metadata": {
    "deletable": false,
    "editable": false
   },
   "source": [
    "Why does the Central Limit Theorem (CLT) apply in this situation, and how does it explain the distribution we see above?\n",
    "\n",
    "\n",
    "_Points:_ 2"
   ]
  },
  {
   "cell_type": "markdown",
   "id": "b33f4580",
   "metadata": {},
   "source": [
    "This is the same as sampling from a population with a 1 for yes or a 0 for no and computing the mean. So the CLT should be applicable. "
   ]
  },
  {
   "cell_type": "markdown",
   "id": "c976bd49-90d5-4142-a8f8-2e8bfa26a77f",
   "metadata": {
    "deletable": false,
    "editable": false
   },
   "source": [
    "<!-- END QUESTION -->\n",
    "\n",
    "In a population whose members are 0 and 1, there is a simple formula for the **standard deviation of that population**:\n",
    "\n",
    "$$\\text{standard deviation of population} = \\sqrt{(\\text{proportion of 0s}) \\times (\\text{proportion of 1s})}$$\n",
    "\n",
    "(Figuring out this formula, starting from the definition of the standard deviation, is an fun exercise for those who enjoy algebra.)"
   ]
  },
  {
   "cell_type": "markdown",
   "id": "c86c1d16-f9c7-4f75-8463-f83217d1e819",
   "metadata": {
    "deletable": false,
    "editable": false
   },
   "source": [
    "### Task 11 📍"
   ]
  },
  {
   "cell_type": "markdown",
   "id": "d29201b5-5006-4475-9dd3-65f68981c311",
   "metadata": {
    "deletable": false,
    "editable": false
   },
   "source": [
    " Using only the Central Limit Theorem and the numbers of Yes and No voters in our sample of 400, *algebraically* compute the predicted standard deviation of the `resample_yes_proportions` array. Assign this number to `approximate_sd`. **Do not access the data in `resample_yes_proportions` in any way.**\n",
    "\n",
    "Remember that the standard deviation of the sample means can be computed from the population SD and the size of the sample (the formula above might be helpful). If we do not know the population SD, we can use the sample SD as a reasonable approximation in its place. [This section](https://inferentialthinking.com/chapters/14/5/Variability_of_the_Sample_Mean.html#the-sd-of-all-the-sample-means) of the textbook also may be helpful.\n",
    "\n",
    "\n",
    "_Points:_ 2"
   ]
  },
  {
   "cell_type": "code",
   "execution_count": 46,
   "id": "b4fb2686-c18b-42f4-8dc9-6d2ffd429f5f",
   "metadata": {
    "ExecuteTime": {
     "end_time": "2018-03-20T04:35:33.660846Z",
     "start_time": "2018-03-20T04:35:33.652810Z"
    },
    "manual_problem_id": "approximate_sd",
    "tags": []
   },
   "outputs": [
    {
     "data": {
      "text/plain": [
       "0.024968730444297725"
      ]
     },
     "execution_count": 46,
     "metadata": {},
     "output_type": "execute_result"
    }
   ],
   "source": [
    "approx_pop_sd = np.sqrt(sample_with_proportions.column('Proportion')[0] * sample_with_proportions.column('Proportion')[1])\n",
    "approximate_sd = approx_pop_sd / 400 ** .5\n",
    "approximate_sd"
   ]
  },
  {
   "cell_type": "code",
   "execution_count": 47,
   "id": "1749d5a6",
   "metadata": {
    "deletable": false,
    "editable": false
   },
   "outputs": [
    {
     "data": {
      "text/html": [
       "<p><strong><pre style='display: inline;'>task_11</pre></strong> passed! 🍀</p><p><strong><pre style='display: inline;'>task_11 - 1</pre> message:</strong> ✅ approximate_sd is less than 0.025.</p>"
      ],
      "text/plain": [
       "task_11 results: All test cases passed!\n",
       "task_11 - 1 message: ✅ approximate_sd is less than 0.025."
      ]
     },
     "execution_count": 47,
     "metadata": {},
     "output_type": "execute_result"
    }
   ],
   "source": [
    "grader.check(\"task_11\")"
   ]
  },
  {
   "cell_type": "markdown",
   "id": "dcdaf89c-4e54-4ccf-bdf7-02149c09fc26",
   "metadata": {
    "deletable": false,
    "editable": false
   },
   "source": [
    "### Task 12 📍"
   ]
  },
  {
   "cell_type": "markdown",
   "id": "63db43f5-6ff5-43d3-a339-f6812eea2bc9",
   "metadata": {
    "deletable": false,
    "editable": false
   },
   "source": [
    "Compute the standard deviation of the array `resample_yes_proportions`, which will act as an approximation to the true SD of the possible sample proportions. This will help verify whether your answer to question 3.3 is approximately correct.\n",
    "\n",
    "\n",
    "_Points:_ 2"
   ]
  },
  {
   "cell_type": "code",
   "execution_count": 48,
   "id": "4e4891c9-4cb1-4c57-a482-f10347cd8a72",
   "metadata": {
    "ExecuteTime": {
     "end_time": "2018-03-20T04:35:34.753988Z",
     "start_time": "2018-03-20T04:35:34.745953Z"
    },
    "manual_problem_id": "exact_sd",
    "tags": []
   },
   "outputs": [
    {
     "data": {
      "text/plain": [
       "0.025074447250886714"
      ]
     },
     "execution_count": 48,
     "metadata": {},
     "output_type": "execute_result"
    }
   ],
   "source": [
    "exact_sd = np.std(resample_yes_proportions)\n",
    "exact_sd"
   ]
  },
  {
   "cell_type": "code",
   "execution_count": 25,
   "id": "7c645d84",
   "metadata": {
    "deletable": false,
    "editable": false
   },
   "outputs": [
    {
     "data": {
      "text/html": [
       "<p><strong><pre style='display: inline;'>task_12</pre></strong> passed! 🌈</p><p><strong><pre style='display: inline;'>task_12 - 1</pre> message:</strong> ✅ exact_sd is less than 0.05</p>"
      ],
      "text/plain": [
       "task_12 results: All test cases passed!\n",
       "task_12 - 1 message: ✅ exact_sd is less than 0.05"
      ]
     },
     "execution_count": 25,
     "metadata": {},
     "output_type": "execute_result"
    }
   ],
   "source": [
    "grader.check(\"task_12\")"
   ]
  },
  {
   "cell_type": "markdown",
   "id": "4fd5de21-9cd7-42da-a9fb-242cc66041ef",
   "metadata": {
    "deletable": false,
    "editable": false
   },
   "source": [
    "### Task 13 📍"
   ]
  },
  {
   "cell_type": "markdown",
   "id": "c465db21-9246-4205-8966-47c420ae91ed",
   "metadata": {
    "deletable": false,
    "editable": false
   },
   "source": [
    "**Again, without accessing `resample_yes_proportions` in any way**, compute an approximate 95% confidence interval for the proportion of Yes voters in California.\n",
    "\n",
    "The cell below draws your interval as a red bar below the histogram of `resample_yes_proportions`; use that to verify that your answer looks right.\n",
    "\n",
    "*Hint:* How many SDs correspond to 95% of the distribution promised by the CLT? Recall the discussion in the textbook [here](https://inferentialthinking.com/chapters/14/3/SD_and_the_Normal_Curve.html).\n",
    "\n",
    "*Hint:* The `approximate_sd` variable you previously defined may be helpful!\n",
    "\n",
    "\n",
    "_Points:_ 3"
   ]
  },
  {
   "cell_type": "code",
   "execution_count": 49,
   "id": "e633dff5-f1b9-4dee-a01c-11f37c157947",
   "metadata": {
    "ExecuteTime": {
     "end_time": "2018-03-20T04:35:42.572582Z",
     "start_time": "2018-03-20T04:35:42.560545Z"
    },
    "manual_problem_id": "ci_without_data",
    "tags": []
   },
   "outputs": [
    {
     "name": "stdout",
     "output_type": "stream",
     "text": [
      "lower: 0.475062539111 upper: 0.574937460889\n"
     ]
    }
   ],
   "source": [
    "lower_limit = sample_with_proportions.column('Proportion')[0] - 2 * approximate_sd\n",
    "upper_limit = sample_with_proportions.column('Proportion')[0] + 2 * approximate_sd\n",
    "print('lower:', lower_limit, 'upper:', upper_limit)"
   ]
  },
  {
   "cell_type": "code",
   "execution_count": 50,
   "id": "dde0f3b5",
   "metadata": {
    "deletable": false,
    "editable": false
   },
   "outputs": [
    {
     "data": {
      "text/html": [
       "<p><strong><pre style='display: inline;'>task_13</pre></strong> passed! 🍀</p><p><strong><pre style='display: inline;'>task_13 - 1</pre> message:</strong> ✅ The lower_limit and upper_limit values seem possible.</p>"
      ],
      "text/plain": [
       "task_13 results: All test cases passed!\n",
       "task_13 - 1 message: ✅ The lower_limit and upper_limit values seem possible."
      ]
     },
     "execution_count": 50,
     "metadata": {},
     "output_type": "execute_result"
    }
   ],
   "source": [
    "grader.check(\"task_13\")"
   ]
  },
  {
   "cell_type": "code",
   "execution_count": 51,
   "id": "5af88e09-e2aa-4a1e-8a82-031c557a0c44",
   "metadata": {
    "editable": false
   },
   "outputs": [
    {
     "data": {
      "image/png": "[encoded data removed]",
      "text/plain": [
       "<Figure size 600x400 with 1 Axes>"
      ]
     },
     "metadata": {},
     "output_type": "display_data"
    }
   ],
   "source": [
    "# Run this cell to plot your confidence interval.\n",
    "Table().with_column(\"Resample Yes proportion\", resample_yes_proportions).hist(bins=np.arange(.2, .8, .01))\n",
    "plt.plot(make_array(lower_limit, upper_limit), make_array(0, 0), c='r', lw=10);"
   ]
  },
  {
   "cell_type": "markdown",
   "id": "eb1bed8c-544e-4dd1-9b07-6b6ed3a8340d",
   "metadata": {},
   "source": [
    "Your confidence interval should overlap the number 0.5.  That means we can't be very sure whether Proposition 68 is winning, even though the sample Yes proportion is a bit above 0.5.\n",
    "\n",
    "The Yes on 68 campaign really needs to know whether they're winning.  It's impossible to be absolutely sure without polling the whole population, but they'd be okay if the standard deviation of the sample mean were only 0.005.  They ask Michelle to run a new poll with a sample size that's large enough to achieve that.  (Polling is expensive, so the sample also shouldn't be bigger than necessary.)\n",
    "\n",
    "Michelle consults Chapter 14 of your textbook.  Instead of making the conservative assumption that the population standard deviation is 0.5 (coding Yes voters as 1 and No voters as 0), she decides to assume that it's equal to the standard deviation of the sample,\n",
    "\n",
    "$$\\sqrt{(\\text{Yes proportion in the sample}) \\times (\\text{No proportion in the sample})}.$$\n",
    "\n",
    "Under that assumption, Michelle decides that a sample of 9,975 would suffice."
   ]
  },
  {
   "cell_type": "markdown",
   "id": "1aec9842-e893-426b-a8fb-9cda4cac1f40",
   "metadata": {
    "deletable": false,
    "editable": false
   },
   "source": [
    "### Task 14 📍"
   ]
  },
  {
   "cell_type": "markdown",
   "id": "73dfb539-f113-4ac3-8e80-991f94ba6db3",
   "metadata": {
    "deletable": false,
    "editable": false
   },
   "source": [
    "Does Michelle's sample size achieve the desired standard deviation of sample means? What SD would you achieve with a smaller sample size? A higher sample size?\n",
    "\n",
    "To explore this, first compute the SD of sample means obtained by using Michelle's sample size.\n",
    "\n",
    "_Points:_ 4"
   ]
  },
  {
   "cell_type": "code",
   "execution_count": 53,
   "id": "1657162a-fac6-431a-ad84-fd7d435b1d24",
   "metadata": {
    "ExecuteTime": {
     "end_time": "2018-03-20T04:35:45.882794Z",
     "start_time": "2018-03-20T04:35:45.870760Z"
    },
    "manual_problem_id": "michelle_sample_mean_sd",
    "tags": []
   },
   "outputs": [
    {
     "name": "stdout",
     "output_type": "stream",
     "text": [
      "With Michelle's sample size, you would predict a sample mean SD of 0.005000.\n"
     ]
    }
   ],
   "source": [
    "estimated_population_sd = np.sqrt(sample_with_proportions.column('Proportion')[0] * sample_with_proportions.column('Proportion')[1])\n",
    "michelle_sample_size = 9975\n",
    "michelle_sample_mean_sd = estimated_population_sd / michelle_sample_size ** .5 \n",
    "print(\"With Michelle's sample size, you would predict a sample mean SD of %f.\" % michelle_sample_mean_sd)"
   ]
  },
  {
   "cell_type": "code",
   "execution_count": 54,
   "id": "9c20bd16",
   "metadata": {
    "deletable": false,
    "editable": false
   },
   "outputs": [
    {
     "data": {
      "text/html": [
       "<p><strong><pre style='display: inline;'>task_14</pre></strong> passed! 🌈</p><p><strong><pre style='display: inline;'>task_14 - 1</pre> message:</strong> ✅ </p>"
      ],
      "text/plain": [
       "task_14 results: All test cases passed!\n",
       "task_14 - 1 message: ✅ "
      ]
     },
     "execution_count": 54,
     "metadata": {},
     "output_type": "execute_result"
    }
   ],
   "source": [
    "grader.check(\"task_14\")"
   ]
  },
  {
   "cell_type": "markdown",
   "id": "a47bc11a-c3be-42d7-bc55-6b3e47df66d5",
   "metadata": {
    "deletable": false,
    "editable": false
   },
   "source": [
    "### Task 15 📍"
   ]
  },
  {
   "cell_type": "markdown",
   "id": "b7803c0f-e131-4e89-9ab4-4952f217fe5a",
   "metadata": {
    "deletable": false,
    "editable": false
   },
   "source": [
    "Next, compute the SD of the sample means that you would get from a smaller sample size. Ideally, you should pick a number that is significantly smaller, but any sample size smaller than Michelle's will do.*\n",
    "\n",
    "\n",
    "_Points:_ 2"
   ]
  },
  {
   "cell_type": "code",
   "execution_count": 55,
   "id": "08e41186-a840-47f7-9c54-9b0eaf87aaf7",
   "metadata": {
    "ExecuteTime": {
     "end_time": "2018-03-20T04:35:47.010246Z",
     "start_time": "2018-03-20T04:35:47.002724Z"
    },
    "manual_problem_id": "smaller_sample_size",
    "tags": []
   },
   "outputs": [
    {
     "name": "stdout",
     "output_type": "stream",
     "text": [
      "With this smaller sample size, you would predict a sample mean SD of 0.015792\n"
     ]
    }
   ],
   "source": [
    "smaller_sample_size = 1000\n",
    "smaller_sample_mean_sd = estimated_population_sd / smaller_sample_size ** .5\n",
    "print(\"With this smaller sample size, you would predict a sample mean SD of %f\" % smaller_sample_mean_sd)"
   ]
  },
  {
   "cell_type": "code",
   "execution_count": 56,
   "id": "6acc7782",
   "metadata": {
    "deletable": false,
    "editable": false
   },
   "outputs": [
    {
     "data": {
      "text/html": [
       "<p><strong><pre style='display: inline;'>task_15</pre></strong> passed! 🌟</p><p><strong><pre style='display: inline;'>task_15 - 1</pre> message:</strong> ✅ smaller_sample_size is less than michelle_sample_size.</p>"
      ],
      "text/plain": [
       "task_15 results: All test cases passed!\n",
       "task_15 - 1 message: ✅ smaller_sample_size is less than michelle_sample_size."
      ]
     },
     "execution_count": 56,
     "metadata": {},
     "output_type": "execute_result"
    }
   ],
   "source": [
    "grader.check(\"task_15\")"
   ]
  },
  {
   "cell_type": "markdown",
   "id": "fd6929fa-2d35-4ee4-b0e8-c2c405a16d09",
   "metadata": {
    "deletable": false,
    "editable": false
   },
   "source": [
    "### Task 16 📍"
   ]
  },
  {
   "cell_type": "markdown",
   "id": "5bea89a0-8502-4429-9633-1b11db740f7e",
   "metadata": {
    "deletable": false,
    "editable": false
   },
   "source": [
    "Finally, compute the SD of the sample means that you would get from a larger sample size. Here, a number that is significantly larger would make any difference more obvious, but any sample size larger than Michelle's will do.\n",
    "\n",
    "_Points:_ 2"
   ]
  },
  {
   "cell_type": "code",
   "execution_count": 57,
   "id": "046cad03-a2d8-4056-bd5a-704f15feb416",
   "metadata": {
    "ExecuteTime": {
     "end_time": "2018-03-20T04:35:48.098047Z",
     "start_time": "2018-03-20T04:35:48.089414Z"
    },
    "manual_problem_id": "larger_sample_mean_sd",
    "tags": []
   },
   "outputs": [
    {
     "name": "stdout",
     "output_type": "stream",
     "text": [
      "With this larger sample size, you would predict a sample mean SD of 0.003531\n"
     ]
    }
   ],
   "source": [
    "larger_sample_size = 20_000\n",
    "larger_sample_mean_sd = estimated_population_sd / larger_sample_size ** .5\n",
    "print(\"With this larger sample size, you would predict a sample mean SD of %f\" % larger_sample_mean_sd)"
   ]
  },
  {
   "cell_type": "code",
   "execution_count": 58,
   "id": "5bc9e717",
   "metadata": {
    "deletable": false,
    "editable": false
   },
   "outputs": [
    {
     "data": {
      "text/html": [
       "<p><strong><pre style='display: inline;'>task_16</pre></strong> passed! 💯</p><p><strong><pre style='display: inline;'>task_16 - 1</pre> message:</strong> ✅ larger_sample_size is greater than michelle_sample_size.</p>"
      ],
      "text/plain": [
       "task_16 results: All test cases passed!\n",
       "task_16 - 1 message: ✅ larger_sample_size is greater than michelle_sample_size."
      ]
     },
     "execution_count": 58,
     "metadata": {},
     "output_type": "execute_result"
    }
   ],
   "source": [
    "grader.check(\"task_16\")"
   ]
  },
  {
   "cell_type": "markdown",
   "id": "652a6a26-38cd-4cb9-86d6-792a39ca6212",
   "metadata": {
    "deletable": false,
    "editable": false
   },
   "source": [
    "### Task 17 📍"
   ]
  },
  {
   "cell_type": "markdown",
   "id": "f2d2ca4e-814b-45c3-a210-f85def0b3559",
   "metadata": {
    "deletable": false,
    "editable": false
   },
   "source": [
    "Based on this, was Michelle's sample size approximately the minimum sufficient sample, given her assumption that the sample SD is the same as the population SD? Assign `min_sufficient` to `True` if 9,975 was indeed approximately the minimum sufficient sample, and `False` if it wasn't.\n",
    "\n",
    "\n",
    "_Points:_ 2"
   ]
  },
  {
   "cell_type": "code",
   "execution_count": 59,
   "id": "f072c93c-685c-4f38-99a7-cc80ece4b544",
   "metadata": {
    "ExecuteTime": {
     "end_time": "2018-03-20T04:35:49.134092Z",
     "start_time": "2018-03-20T04:35:49.126066Z"
    },
    "manual_problem_id": "min_sufficient",
    "tags": []
   },
   "outputs": [
    {
     "data": {
      "text/plain": [
       "True"
      ]
     },
     "execution_count": 59,
     "metadata": {},
     "output_type": "execute_result"
    }
   ],
   "source": [
    "min_sufficient = True\n",
    "min_sufficient"
   ]
  },
  {
   "cell_type": "code",
   "execution_count": 60,
   "id": "0040ed9c",
   "metadata": {
    "deletable": false,
    "editable": false
   },
   "outputs": [
    {
     "data": {
      "text/html": [
       "<p><strong><pre style='display: inline;'>task_17</pre></strong> passed! 🍀</p><p><strong><pre style='display: inline;'>task_17 - 1</pre> message:</strong> ✅ min_sufficient is a Boolean value.</p>"
      ],
      "text/plain": [
       "task_17 results: All test cases passed!\n",
       "task_17 - 1 message: ✅ min_sufficient is a Boolean value."
      ]
     },
     "execution_count": 60,
     "metadata": {},
     "output_type": "execute_result"
    }
   ],
   "source": [
    "grader.check(\"task_17\")"
   ]
  },
  {
   "cell_type": "markdown",
   "id": "a4fa5355-c1b8-4db5-934b-50d07d9530a6",
   "metadata": {},
   "source": [
    "## Submit your Homework to Canvas\n",
    "\n",
    "Once you have finished working on the homework tasks, prepare to submit your work in Canvas by completing the following steps.\n",
    "\n",
    "1. In the related Canvas Assignment page, check the rubric to know how you will be scored for this assignment.\n",
    "2. Double-check that you have run the code cell near the end of the notebook that contains the command `\"grader.check_all()\"`. This command will run all of the run tests on all your responses to the auto-graded tasks marked with 📍.\n",
    "3. Double-check your responses to the manually graded tasks marked with 📍🔎.\n",
    "3. Select the menu item \"File\" and \"Save Notebook\" in the notebook's Toolbar to save your work and create a specific checkpoint in the notebook's work history.\n",
    "4. Select the menu items \"File\", \"Download\" in the notebook's Toolbar to download the notebook (.ipynb) file. \n",
    "5. In the related Canvas Assignment page, click Start Assignment or New Attempt to upload the downloaded .ipynb file.\n",
    "\n",
    "**Keep in mind that the auto-grader does not always check for correctness. Sometimes it just checks for the format of your answer, so passing the auto-grader for a task does not mean you got the answer correct for that task.**"
   ]
  },
  {
   "cell_type": "markdown",
   "id": "f8e5308d",
   "metadata": {
    "deletable": false,
    "editable": false
   },
   "source": [
    "---\n",
    "\n",
    "To double-check your work, the cell below will rerun all of the autograder tests."
   ]
  },
  {
   "cell_type": "code",
   "execution_count": 61,
   "id": "bf096024",
   "metadata": {
    "deletable": false,
    "editable": false
   },
   "outputs": [
    {
     "data": {
      "text/plain": [
       "task_04 results: All test cases passed!\n",
       "task_04 - 1 message: ✅ smallest represents a value between 110 and 1150, inclusive.\n",
       "task_04 - 2 message: ✅ smallest is an integer.\n",
       "\n",
       "task_06 results: All test cases passed!\n",
       "task_06 - 1 message: ✅ smallest_num represents a value between 700 and 800, inclusive.\n",
       "task_06 - 2 message: ✅ smallest_num is an integer.\n",
       "\n",
       "task_08 results: All test cases passed!\n",
       "task_08 - 1 message: ✅ option represents 1, 2, 3, or 4.\n",
       "\n",
       "task_09 results: All test cases passed!\n",
       "task_09 - 1 message: ✅ resample_yes_proportions contains 10,000 items.\n",
       "task_09 - 2 message: ✅ The mean and standard deviation of resample_yes_proportions seems possible.\n",
       "\n",
       "task_11 results: All test cases passed!\n",
       "task_11 - 1 message: ✅ approximate_sd is less than 0.025.\n",
       "\n",
       "task_12 results: All test cases passed!\n",
       "task_12 - 1 message: ✅ exact_sd is less than 0.05\n",
       "\n",
       "task_13 results: All test cases passed!\n",
       "task_13 - 1 message: ✅ The lower_limit and upper_limit values seem possible.\n",
       "\n",
       "task_14 results: All test cases passed!\n",
       "task_14 - 1 message: ✅ \n",
       "\n",
       "task_15 results: All test cases passed!\n",
       "task_15 - 1 message: ✅ smaller_sample_size is less than michelle_sample_size.\n",
       "\n",
       "task_16 results: All test cases passed!\n",
       "task_16 - 1 message: ✅ larger_sample_size is greater than michelle_sample_size.\n",
       "\n",
       "task_17 results: All test cases passed!\n",
       "task_17 - 1 message: ✅ min_sufficient is a Boolean value."
      ]
     },
     "execution_count": 61,
     "metadata": {},
     "output_type": "execute_result"
    }
   ],
   "source": [
    "grader.check_all()"
   ]
  },
  {
   "cell_type": "code",
   "execution_count": null,
   "id": "a85eadfc-acc4-49d6-84e8-3149fa1bb18b",
   "metadata": {},
   "outputs": [],
   "source": []
  }
 ],
 "metadata": {
  "kernelspec": {
   "display_name": "Python 3 (ipykernel)",
   "language": "python",
   "name": "python3"
  },
  "language_info": {
   "codemirror_mode": {
    "name": "ipython",
    "version": 3
   },
   "file_extension": ".py",
   "mimetype": "text/x-python",
   "name": "python",
   "nbconvert_exporter": "python",
   "pygments_lexer": "ipython3",
   "version": "3.10.12"
  },
  "otter": {
   "OK_FORMAT": true,
   "assignment_name": "hw10_sp24",
   "tests": {
    "task_04": {
     "name": "task_04",
     "points": 2,
     "suites": [
      {
       "cases": [
        {
         "code": ">>> 1100 <= smallest <= 1150\nTrue",
         "failure_message": "❌ smallest should represent a value between 110 and 1150, inclusive.",
         "hidden": false,
         "locked": false,
         "points": 0.5,
         "success_message": "✅ smallest represents a value between 110 and 1150, inclusive."
        },
        {
         "code": ">>> isinstance(smallest, (int, np.integer))\nTrue",
         "failure_message": "❌ smallest should be an integer.",
         "hidden": false,
         "locked": false,
         "points": 0.5,
         "success_message": "✅ smallest is an integer."
        }
       ],
       "scored": true,
       "setup": "",
       "teardown": "",
       "type": "doctest"
      }
     ]
    },
    "task_06": {
     "name": "task_06",
     "points": 2,
     "suites": [
      {
       "cases": [
        {
         "code": ">>> 700 <= smallest_num <= 800\nTrue",
         "failure_message": "❌ smallest_num should represent a value between 700 and 800, inclusive.",
         "hidden": false,
         "locked": false,
         "points": 0.5,
         "success_message": "✅ smallest_num represents a value between 700 and 800, inclusive."
        },
        {
         "code": ">>> isinstance(smallest, (int, np.integer))\nTrue",
         "failure_message": "❌ smallest_num should be an integer.",
         "hidden": false,
         "locked": false,
         "points": 0.5,
         "success_message": "✅ smallest_num is an integer."
        }
       ],
       "scored": true,
       "setup": "",
       "teardown": "",
       "type": "doctest"
      }
     ]
    },
    "task_08": {
     "name": "task_08",
     "points": 2,
     "suites": [
      {
       "cases": [
        {
         "code": ">>> option in {1, 2, 3, 4}\nTrue",
         "failure_message": "❌ option should represent 1, 2, 3, or 4.",
         "hidden": false,
         "locked": false,
         "points": 1,
         "success_message": "✅ option represents 1, 2, 3, or 4."
        }
       ],
       "scored": true,
       "setup": "",
       "teardown": "",
       "type": "doctest"
      }
     ]
    },
    "task_09": {
     "name": "task_09",
     "points": 2,
     "suites": [
      {
       "cases": [
        {
         "code": ">>> len(resample_yes_proportions) == 10000\nTrue",
         "failure_message": "❌ resample_yes_proportions should contain 10,000 items.",
         "hidden": false,
         "locked": false,
         "points": 1,
         "success_message": "✅ resample_yes_proportions contains 10,000 items."
        },
        {
         "code": ">>> 0 <= abs(np.mean(resample_yes_proportions) - 0.525) < 0.025 and 0 <= np.std(resample_yes_proportions) < 0.08\nTrue",
         "failure_message": "❌ The mean and standard deviation of resample_yes_proportions does not seem possible.",
         "hidden": false,
         "locked": false,
         "points": 1,
         "success_message": "✅ The mean and standard deviation of resample_yes_proportions seems possible."
        }
       ],
       "scored": true,
       "setup": "",
       "teardown": "",
       "type": "doctest"
      }
     ]
    },
    "task_11": {
     "name": "task_11",
     "points": 2,
     "suites": [
      {
       "cases": [
        {
         "code": ">>> approximate_sd < 0.025\nTrue",
         "failure_message": "❌ approximate_sd should be less than 0.025.",
         "hidden": false,
         "locked": false,
         "points": 1,
         "success_message": "✅ approximate_sd is less than 0.025."
        }
       ],
       "scored": true,
       "setup": "",
       "teardown": "",
       "type": "doctest"
      }
     ]
    },
    "task_12": {
     "name": "task_12",
     "points": 2,
     "suites": [
      {
       "cases": [
        {
         "code": ">>> exact_sd < 0.05\nTrue",
         "failure_message": "❌ exact_sd should be less than 0.05",
         "hidden": false,
         "locked": false,
         "points": 1,
         "success_message": "✅ exact_sd is less than 0.05"
        }
       ],
       "scored": true,
       "setup": "",
       "teardown": "",
       "type": "doctest"
      }
     ]
    },
    "task_13": {
     "name": "task_13",
     "points": 3,
     "suites": [
      {
       "cases": [
        {
         "code": ">>> 0.4 <= lower_limit < upper_limit <= 0.7\nTrue",
         "failure_message": "❌ The lower_limit and upper_limit values do not seem possible.",
         "hidden": false,
         "locked": false,
         "points": 1,
         "success_message": "✅ The lower_limit and upper_limit values seem possible."
        }
       ],
       "scored": true,
       "setup": "",
       "teardown": "",
       "type": "doctest"
      }
     ]
    },
    "task_14": {
     "name": "task_14",
     "points": 4,
     "suites": [
      {
       "cases": [
        {
         "code": ">>> isinstance(michelle_sample_size, (int, np.integer))\nTrue",
         "failure_message": "❌ ",
         "hidden": false,
         "locked": false,
         "points": 1,
         "success_message": "✅ "
        }
       ],
       "scored": true,
       "setup": "",
       "teardown": "",
       "type": "doctest"
      }
     ]
    },
    "task_15": {
     "name": "task_15",
     "points": 2,
     "suites": [
      {
       "cases": [
        {
         "code": ">>> smaller_sample_size < michelle_sample_size\nTrue",
         "failure_message": "❌ smaller_sample_size should be less than michelle_sample_size.",
         "hidden": false,
         "locked": false,
         "points": 1,
         "success_message": "✅ smaller_sample_size is less than michelle_sample_size."
        }
       ],
       "scored": true,
       "setup": "",
       "teardown": "",
       "type": "doctest"
      }
     ]
    },
    "task_16": {
     "name": "task_16",
     "points": 2,
     "suites": [
      {
       "cases": [
        {
         "code": ">>> larger_sample_size > michelle_sample_size\nTrue",
         "failure_message": "❌ larger_sample_size should be greater than michelle_sample_size.",
         "hidden": false,
         "locked": false,
         "points": 1,
         "success_message": "✅ larger_sample_size is greater than michelle_sample_size."
        }
       ],
       "scored": true,
       "setup": "",
       "teardown": "",
       "type": "doctest"
      }
     ]
    },
    "task_17": {
     "name": "task_17",
     "points": 2,
     "suites": [
      {
       "cases": [
        {
         "code": ">>> isinstance(min_sufficient, bool)\nTrue",
         "failure_message": "❌ min_sufficient should be a Boolean value.",
         "hidden": false,
         "locked": false,
         "points": 1,
         "success_message": "✅ min_sufficient is a Boolean value."
        }
       ],
       "scored": true,
       "setup": "",
       "teardown": "",
       "type": "doctest"
      }
     ]
    }
   }
  }
 },
 "nbformat": 4,
 "nbformat_minor": 5
}
