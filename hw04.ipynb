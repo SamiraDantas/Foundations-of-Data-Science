{
 "cells": [
  {
   "cell_type": "code",
   "execution_count": 1,
   "metadata": {
    "deletable": false,
    "editable": false
   },
   "outputs": [],
   "source": [
    "# Initialize Otter\n",
    "import otter\n",
    "grader = otter.Notebook(\"hw04.ipynb\")"
   ]
  },
  {
   "cell_type": "markdown",
   "metadata": {},
   "source": [
    "<img style=\"display: block; margin-left: auto; margin-right: auto\" src=\"./ccsf-logo.png\" width=\"250rem;\" alt=\"The CCSF black and white logo\">"
   ]
  },
  {
   "cell_type": "markdown",
   "metadata": {},
   "source": [
    "# Homework 4: Data Analysis"
   ]
  },
  {
   "cell_type": "markdown",
   "metadata": {},
   "source": [
    "## References\n",
    "\n",
    "* [Chapter 8 - Functions and Tables](https://inferentialthinking.com/chapters/08/Functions_and_Tables.html#) \n",
    "* [`datascience` Documentation](https://datascience.readthedocs.io/)\n",
    "* [Python Quick Reference](https://ccsf-math-108.github.io/materials-fa23/resources/quick_reference.html)"
   ]
  },
  {
   "cell_type": "markdown",
   "metadata": {},
   "source": [
    "## Assignment Reminders"
   ]
  },
  {
   "cell_type": "markdown",
   "metadata": {},
   "source": [
    "- Make sure to run the code cell at the top of this notebook that starts with `# Initialize Otter` to load the auto-grader.\n",
    "- For all tasks indicated with a 🔎 that you must write explanations and sentences for, provide your answer in the designated space.\n",
    "- Throughout this assignment and all future ones, please be sure to not re-assign variables throughout the notebook! _For example, if you use `max_temperature` in your answer to one question, do not reassign it later on. Otherwise, you will fail tests that you thought you were passing previously!_\n",
    "- We encourage you to discuss this assignment with others but make sure to write and submit your own code. Refer to the syllabus to learn more about how to learn cooperatively.\n",
    "- Unless you are asked otherwise, use the non-interactive visualizations when asked to produce a visualization for a task.\n",
    "- View the related <a href=\"https://ccsf.instructure.com\" target=\"_blank\">Canvas</a> Assignment page for additional details.\n",
    "\n",
    "Run the following code cell to import the tools for this assignment."
   ]
  },
  {
   "cell_type": "code",
   "execution_count": 2,
   "metadata": {
    "tags": []
   },
   "outputs": [],
   "source": [
    "from datascience import *\n",
    "import numpy as np\n",
    "%matplotlib inline\n",
    "import matplotlib.pyplot as plt\n",
    "plt.style.use('fivethirtyeight')"
   ]
  },
  {
   "cell_type": "markdown",
   "metadata": {},
   "source": [
    "## 🌉 San Francisco City and County Employee Salaries"
   ]
  },
  {
   "cell_type": "markdown",
   "metadata": {},
   "source": [
    "In this homework assignment, you will combine several of the skills and concepts you've learned so far to analyze [Employee Compensation](https://data.sfgov.org/City-Management-and-Ethics/Employee-Compensation/88g8-5mnd) data provided by the SF Controller's Office. We have filtered it to retain just the relevant columns and restricted the data to the fiscal year 2022-2023 (July 1, 2022 - June 30, 2023). \n",
    "\n",
    "The data stored on your account was pulled from [Employee Compensation page](https://data.sfgov.org/City-Management-and-Ethics/Employee-Compensation/88g8-5mnd) at `DataSF.gov` using the API endpoint: \n",
    "\n",
    "`'https://data.sfgov.org/resource/88g8-5mnd.csv?$limit=1000000&year_type=Fiscal&year=2023'`\n",
    "\n",
    "Run the following cell to load that data into a table called `sf`."
   ]
  },
  {
   "cell_type": "code",
   "execution_count": 3,
   "metadata": {},
   "outputs": [
    {
     "data": {
      "text/html": [
       "<table border=\"1\" class=\"dataframe\">\n",
       "    <thead>\n",
       "        <tr>\n",
       "            <th>organization_group_code</th> <th>job_family_code</th> <th>job_code</th> <th>year_type</th> <th>year</th> <th>organization_group</th> <th>department_code</th> <th>department</th> <th>union_code</th> <th>union</th> <th>job_family</th> <th>job</th> <th>employee_identifier</th> <th>salaries</th> <th>overtime</th> <th>other_salaries</th> <th>total_salary</th> <th>retirement</th> <th>health_and_dental</th> <th>other_benefits</th> <th>total_benefits</th> <th>total_compensation</th>\n",
       "        </tr>\n",
       "    </thead>\n",
       "    <tbody>\n",
       "        <tr>\n",
       "            <td>4                      </td> <td>2800           </td> <td>2846    </td> <td>Fiscal   </td> <td>2023</td> <td>Community Health                       </td> <td>DPH            </td> <td>Public Health               </td> <td>21        </td> <td>Prof & Tech Eng, Local 21   </td> <td>Public Health            </td> <td>Nutritionist                </td> <td>52846918           </td> <td>68586.6 </td> <td>0       </td> <td>18226.5       </td> <td>86813.1     </td> <td>12782.7   </td> <td>9007.39          </td> <td>6819.16       </td> <td>28609.2       </td> <td>115422            </td>\n",
       "        </tr>\n",
       "        <tr>\n",
       "            <td>4                      </td> <td>2300           </td> <td>2320    </td> <td>Fiscal   </td> <td>2023</td> <td>Community Health                       </td> <td>DPH            </td> <td>Public Health               </td> <td>791       </td> <td>SEIU, Local 1021, RN        </td> <td>Nursing                  </td> <td>Registered Nurse            </td> <td>50859893           </td> <td>147886  </td> <td>2584.28 </td> <td>12881.8       </td> <td>163352      </td> <td>23099.1   </td> <td>16134.5          </td> <td>10227.7       </td> <td>49461.3       </td> <td>212813            </td>\n",
       "        </tr>\n",
       "        <tr>\n",
       "            <td>4                      </td> <td>2300           </td> <td>2320    </td> <td>Fiscal   </td> <td>2023</td> <td>Community Health                       </td> <td>DPH            </td> <td>Public Health               </td> <td>791       </td> <td>SEIU, Local 1021, RN        </td> <td>Nursing                  </td> <td>Registered Nurse            </td> <td>47356818           </td> <td>0       </td> <td>142.79  </td> <td>0             </td> <td>142.79      </td> <td>0         </td> <td>0                </td> <td>10.95         </td> <td>10.95         </td> <td>153.74            </td>\n",
       "        </tr>\n",
       "        <tr>\n",
       "            <td>4                      </td> <td>2600           </td> <td>2654    </td> <td>Fiscal   </td> <td>2023</td> <td>Community Health                       </td> <td>DPH            </td> <td>Public Health               </td> <td>250       </td> <td>SEIU, Local 1021, Misc      </td> <td>Dietary & Food           </td> <td>Cook                        </td> <td>50850238           </td> <td>86243.6 </td> <td>33036.1 </td> <td>3166.81       </td> <td>122446      </td> <td>16188.5   </td> <td>16796.1          </td> <td>9672.34       </td> <td>42657         </td> <td>165103            </td>\n",
       "        </tr>\n",
       "        <tr>\n",
       "            <td>4                      </td> <td>2300           </td> <td>2322    </td> <td>Fiscal   </td> <td>2023</td> <td>Community Health                       </td> <td>DPH            </td> <td>Public Health               </td> <td>858       </td> <td>Teamsters, Local 856, Spv RN</td> <td>Nursing                  </td> <td>Nurse Manager               </td> <td>50877316           </td> <td>247150  </td> <td>1140.71 </td> <td>2560          </td> <td>250850      </td> <td>44327.7   </td> <td>20737.9          </td> <td>13821         </td> <td>78886.6       </td> <td>329737            </td>\n",
       "        </tr>\n",
       "        <tr>\n",
       "            <td>4                      </td> <td>2300           </td> <td>2320    </td> <td>Fiscal   </td> <td>2023</td> <td>Community Health                       </td> <td>DPH            </td> <td>Public Health               </td> <td>791       </td> <td>SEIU, Local 1021, RN        </td> <td>Nursing                  </td> <td>Registered Nurse            </td> <td>52066865           </td> <td>74860.1 </td> <td>16860.9 </td> <td>13643.7       </td> <td>105365      </td> <td>9115.42   </td> <td>8218.37          </td> <td>1798.2        </td> <td>19132         </td> <td>124497            </td>\n",
       "        </tr>\n",
       "        <tr>\n",
       "            <td>4                      </td> <td>2300           </td> <td>2320    </td> <td>Fiscal   </td> <td>2023</td> <td>Community Health                       </td> <td>DPH            </td> <td>Public Health               </td> <td>791       </td> <td>SEIU, Local 1021, RN        </td> <td>Nursing                  </td> <td>Registered Nurse            </td> <td>50850113           </td> <td>192213  </td> <td>19817.7 </td> <td>26600.3       </td> <td>238631      </td> <td>27330.6   </td> <td>21596            </td> <td>10953.1       </td> <td>59879.8       </td> <td>298511            </td>\n",
       "        </tr>\n",
       "        <tr>\n",
       "            <td>2                      </td> <td>1200           </td> <td>1246    </td> <td>Fiscal   </td> <td>2023</td> <td>Public Works, Transportation & Commerce</td> <td>DBI            </td> <td>Building Inspection         </td> <td>22        </td> <td>Prof & Tech Eng, Local 21   </td> <td>Personnel                </td> <td>Prin Human Resources Analyst</td> <td>54256822           </td> <td>151894  </td> <td>0       </td> <td>0             </td> <td>151894      </td> <td>27058.7   </td> <td>0                </td> <td>12029.7       </td> <td>39088.4       </td> <td>190983            </td>\n",
       "        </tr>\n",
       "        <tr>\n",
       "            <td>1                      </td> <td>8200           </td> <td>8239    </td> <td>Fiscal   </td> <td>2023</td> <td>Public Protection                      </td> <td>DEM            </td> <td>Dept of Emergency Management</td> <td>790       </td> <td>SEIU, Local 1021, Misc      </td> <td>Protection & Apprehension</td> <td>Public SafetyComm Supv      </td> <td>50847867           </td> <td>137352  </td> <td>40134.6 </td> <td>5846.1        </td> <td>183332      </td> <td>26232     </td> <td>16683.1          </td> <td>13126.7       </td> <td>56041.8       </td> <td>239374            </td>\n",
       "        </tr>\n",
       "        <tr>\n",
       "            <td>1                      </td> <td>8200           </td> <td>8239    </td> <td>Fiscal   </td> <td>2023</td> <td>Public Protection                      </td> <td>DEM            </td> <td>Dept of Emergency Management</td> <td>790       </td> <td>SEIU, Local 1021, Misc      </td> <td>Protection & Apprehension</td> <td>Public SafetyComm Supv      </td> <td>50870881           </td> <td>72843.4 </td> <td>2037.07 </td> <td>2311.37       </td> <td>77191.9     </td> <td>13826.2   </td> <td>9196.86          </td> <td>6065.27       </td> <td>29088.3       </td> <td>106280            </td>\n",
       "        </tr>\n",
       "    </tbody>\n",
       "</table>\n",
       "<p>... (41285 rows omitted)</p>"
      ],
      "text/plain": [
       "organization_group_code | job_family_code | job_code | year_type | year | organization_group                      | department_code | department                   | union_code | union                        | job_family                | job                          | employee_identifier | salaries | overtime | other_salaries | total_salary | retirement | health_and_dental | other_benefits | total_benefits | total_compensation\n",
       "4                       | 2800            | 2846     | Fiscal    | 2023 | Community Health                        | DPH             | Public Health                | 21         | Prof & Tech Eng, Local 21    | Public Health             | Nutritionist                 | 52846918            | 68586.6  | 0        | 18226.5        | 86813.1      | 12782.7    | 9007.39           | 6819.16        | 28609.2        | 115422\n",
       "4                       | 2300            | 2320     | Fiscal    | 2023 | Community Health                        | DPH             | Public Health                | 791        | SEIU, Local 1021, RN         | Nursing                   | Registered Nurse             | 50859893            | 147886   | 2584.28  | 12881.8        | 163352       | 23099.1    | 16134.5           | 10227.7        | 49461.3        | 212813\n",
       "4                       | 2300            | 2320     | Fiscal    | 2023 | Community Health                        | DPH             | Public Health                | 791        | SEIU, Local 1021, RN         | Nursing                   | Registered Nurse             | 47356818            | 0        | 142.79   | 0              | 142.79       | 0          | 0                 | 10.95          | 10.95          | 153.74\n",
       "4                       | 2600            | 2654     | Fiscal    | 2023 | Community Health                        | DPH             | Public Health                | 250        | SEIU, Local 1021, Misc       | Dietary & Food            | Cook                         | 50850238            | 86243.6  | 33036.1  | 3166.81        | 122446       | 16188.5    | 16796.1           | 9672.34        | 42657          | 165103\n",
       "4                       | 2300            | 2322     | Fiscal    | 2023 | Community Health                        | DPH             | Public Health                | 858        | Teamsters, Local 856, Spv RN | Nursing                   | Nurse Manager                | 50877316            | 247150   | 1140.71  | 2560           | 250850       | 44327.7    | 20737.9           | 13821          | 78886.6        | 329737\n",
       "4                       | 2300            | 2320     | Fiscal    | 2023 | Community Health                        | DPH             | Public Health                | 791        | SEIU, Local 1021, RN         | Nursing                   | Registered Nurse             | 52066865            | 74860.1  | 16860.9  | 13643.7        | 105365       | 9115.42    | 8218.37           | 1798.2         | 19132          | 124497\n",
       "4                       | 2300            | 2320     | Fiscal    | 2023 | Community Health                        | DPH             | Public Health                | 791        | SEIU, Local 1021, RN         | Nursing                   | Registered Nurse             | 50850113            | 192213   | 19817.7  | 26600.3        | 238631       | 27330.6    | 21596             | 10953.1        | 59879.8        | 298511\n",
       "2                       | 1200            | 1246     | Fiscal    | 2023 | Public Works, Transportation & Commerce | DBI             | Building Inspection          | 22         | Prof & Tech Eng, Local 21    | Personnel                 | Prin Human Resources Analyst | 54256822            | 151894   | 0        | 0              | 151894       | 27058.7    | 0                 | 12029.7        | 39088.4        | 190983\n",
       "1                       | 8200            | 8239     | Fiscal    | 2023 | Public Protection                       | DEM             | Dept of Emergency Management | 790        | SEIU, Local 1021, Misc       | Protection & Apprehension | Public SafetyComm Supv       | 50847867            | 137352   | 40134.6  | 5846.1         | 183332       | 26232      | 16683.1           | 13126.7        | 56041.8        | 239374\n",
       "1                       | 8200            | 8239     | Fiscal    | 2023 | Public Protection                       | DEM             | Dept of Emergency Management | 790        | SEIU, Local 1021, Misc       | Protection & Apprehension | Public SafetyComm Supv       | 50870881            | 72843.4  | 2037.07  | 2311.37        | 77191.9      | 13826.2    | 9196.86           | 6065.27        | 29088.3        | 106280\n",
       "... (41285 rows omitted)"
      ]
     },
     "execution_count": 3,
     "metadata": {},
     "output_type": "execute_result"
    }
   ],
   "source": [
    "# API endpoint: https://data.sfgov.org/resource/88g8-5mnd.csv?$limit=1000000&year_type=Fiscal&year=2023\n",
    "sf = Table.read_table('sf_fy22_23.csv')\n",
    "sf"
   ]
  },
  {
   "cell_type": "markdown",
   "metadata": {},
   "source": [
    "### 📝 Data Notes"
   ]
  },
  {
   "cell_type": "markdown",
   "metadata": {},
   "source": [
    "* Each line represents an employee's job information such as job family, salary, and benefits.\n",
    "* The San Francisco Controller's Office  provides [a PDF explaining what each variable means](https://data.sfgov.org/api/views/88g8-5mnd/files/OMBVvreoXRjXG6oP4Ts4497dNxt14XlBqB6uIL6cq-o?download=True&filename=N:\\EIS\\DataCoordination\\Metadata%20Spring%20Cleaning\\CON_DataDictionary_Employee-Compensation.pdf).\n",
    "There are a few interesting details in the data set that are explained in the [Employee Compensation FAQ](https://support.datasf.org/help/employee-compensation-faq)\n",
    "    * Employees have been given an employee identifier for this data and is not connected to their actual employee identification.\n",
    "    * An employee can appear on multiple lines\n",
    "    * Rows may have zero dollar amounts\n",
    "    * Adjustments to employee's pay can result in negative dollar amounts"
   ]
  },
  {
   "cell_type": "markdown",
   "metadata": {},
   "source": [
    "### 🔔 Table Size Warning"
   ]
  },
  {
   "cell_type": "markdown",
   "metadata": {},
   "source": [
    "This table has over 40 thousand rows in it. Just loading the data takes up more memory than most of our data sets so far. This means that you want to be careful with creating too many copies of the table since you have a limited amount of memory. We've set up the assignment, so you can complete the tasks with the provided amount of memory, but you may accidentally crash the kernel by running out of memory.\n",
    "\n",
    "**If your kernel keeps crashing because of running out of memory:**\n",
    "* Make sure you are only running this notebook and all your other kernels are shut down.\n",
    "* Talk with a staff member about things you might be doing that utilize a lot of resources."
   ]
  },
  {
   "cell_type": "markdown",
   "metadata": {
    "tags": []
   },
   "source": [
    "### Task 01 📍"
   ]
  },
  {
   "cell_type": "markdown",
   "metadata": {
    "deletable": false,
    "editable": false
   },
   "source": [
    "The [Employee Compensation FAQ](https://support.datasf.org/help/employee-compensation-faq) states:\n",
    "> One employee can appear on multiple lines per year if they changed positions and/or departments mid-year, which happens with some frequency.\n",
    "\n",
    "This may or may not be true for this particular fiscal year. There are 41,295 rows in the `sf` table. Determine how many unique employee identifiers there are in the `sf` table to see if there are any employees listed more than once. Assign `num_employee_ids` to the number (`int`) of unique employee identifiers in the `sf` table.\n",
    "\n",
    "*Hint: Consider using the `group` table method.*\n",
    "\n",
    "_Points:_ 2"
   ]
  },
  {
   "cell_type": "code",
   "execution_count": 4,
   "metadata": {
    "tags": []
   },
   "outputs": [
    {
     "data": {
      "text/plain": [
       "41295"
      ]
     },
     "execution_count": 4,
     "metadata": {},
     "output_type": "execute_result"
    }
   ],
   "source": [
    "num_employee_ids = len(sf.group('employee_identifier').sort('count', False).column('employee_identifier'))\n",
    "num_employee_ids"
   ]
  },
  {
   "cell_type": "code",
   "execution_count": 5,
   "metadata": {
    "deletable": false,
    "editable": false
   },
   "outputs": [
    {
     "data": {
      "text/html": [
       "<p><strong><pre style='display: inline;'>task_01</pre></strong> passed! 🍀</p><p><strong><pre style='display: inline;'>task_01 - 1</pre> message:</strong> ✅ num_employee_ids represents an integer.</p>"
      ],
      "text/plain": [
       "task_01 results: All test cases passed!\n",
       "task_01 - 1 message: ✅ num_employee_ids represents an integer."
      ]
     },
     "execution_count": 5,
     "metadata": {},
     "output_type": "execute_result"
    }
   ],
   "source": [
    "grader.check(\"task_01\")"
   ]
  },
  {
   "cell_type": "markdown",
   "metadata": {},
   "source": [
    "### Task 02 📍🔎"
   ]
  },
  {
   "cell_type": "markdown",
   "metadata": {
    "deletable": false,
    "editable": false
   },
   "source": [
    "<!-- BEGIN QUESTION -->\n",
    "\n",
    "There are a few departments that have a large number of employees. For this task, produce a bar chart that shows the five largest departments in the `sf` table ranked by employee count.\n",
    "\n",
    "_Points:_ 2"
   ]
  },
  {
   "cell_type": "code",
   "execution_count": 6,
   "metadata": {
    "tags": []
   },
   "outputs": [
    {
     "data": {
      "image/png": "[encoded data removed]",
      "text/plain": [
       "<Figure size 600x400 with 1 Axes>"
      ]
     },
     "metadata": {},
     "output_type": "display_data"
    }
   ],
   "source": [
    "job_and_employee = sf.select('job_code', 'employee_identifier')\n",
    "job_distribution = job_and_employee.group('job_code')\n",
    "job_distribution.sort('count', True).take(np.arange(5)).barh('job_code')\n",
    "\n",
    "# Leave this to provide a title for your visualization\n",
    "plt.title('Top 5 Departments By Employee Count')\n",
    "plt.show()"
   ]
  },
  {
   "cell_type": "markdown",
   "metadata": {
    "deletable": false,
    "editable": false
   },
   "source": [
    "<!-- END QUESTION -->\n",
    "\n",
    "### Task 03 📍"
   ]
  },
  {
   "cell_type": "markdown",
   "metadata": {
    "deletable": false,
    "editable": false
   },
   "source": [
    "Some employees for the city and county make a lot of money. Identify the job title that makes the most in terms of total compensation (the sum of salary and benefits).\n",
    "1. Assign the largest total compensation (a `float` value) to `max_compensation`.\n",
    "2. Assign the job title (a `str` value) associated with the highest total compensation to the name `max_compensation_position`.\n",
    "\n",
    "_Points:_ 4"
   ]
  },
  {
   "cell_type": "code",
   "execution_count": 7,
   "metadata": {
    "tags": []
   },
   "outputs": [
    {
     "name": "stdout",
     "output_type": "stream",
     "text": [
      "The largest total compensation is $807,199.97\n",
      "The position associated with this compensation is: Chf Executive & Investment Ofc\n"
     ]
    }
   ],
   "source": [
    "max_compensation = sf.sort('total_compensation', True).column('total_compensation').item(0)\n",
    "max_compensation_position = sf.sort('total_compensation', True).column('job').item(0)\n",
    "print(f\"The largest total compensation is ${max_compensation:,}\")\n",
    "print(f\"The position associated with this compensation is: {max_compensation_position}\") "
   ]
  },
  {
   "cell_type": "code",
   "execution_count": 8,
   "metadata": {
    "deletable": false,
    "editable": false
   },
   "outputs": [
    {
     "data": {
      "text/html": [
       "<p><strong><pre style='display: inline;'>task_03</pre></strong> passed! 🚀</p><p><strong><pre style='display: inline;'>task_03 - 1</pre> message:</strong> ✅ max_compensation represents a float.</p><p><strong><pre style='display: inline;'>task_03 - 2</pre> message:</strong> ✅ max_compensation_position represents a string.</p>"
      ],
      "text/plain": [
       "task_03 results: All test cases passed!\n",
       "task_03 - 1 message: ✅ max_compensation represents a float.\n",
       "task_03 - 2 message: ✅ max_compensation_position represents a string."
      ]
     },
     "execution_count": 8,
     "metadata": {},
     "output_type": "execute_result"
    }
   ],
   "source": [
    "grader.check(\"task_03\")"
   ]
  },
  {
   "cell_type": "markdown",
   "metadata": {},
   "source": [
    "### Task 04 📍🔎"
   ]
  },
  {
   "cell_type": "markdown",
   "metadata": {
    "deletable": false,
    "editable": false
   },
   "source": [
    "<!-- BEGIN QUESTION -->\n",
    "\n",
    "Next, summarize the distribution of total compensation values so you can compare that large salary with the salaries of the rest of the employees. Specifically, create a histogram showing the distribution of total compensation.\n",
    "* Use the `unit = '$'` argument\n",
    "* Use the default bins.\n",
    "\n",
    "_Points:_ 2"
   ]
  },
  {
   "cell_type": "code",
   "execution_count": 9,
   "metadata": {
    "tags": []
   },
   "outputs": [
    {
     "data": {
      "image/png": "[encoded data removed]",
      "text/plain": [
       "<Figure size 600x400 with 1 Axes>"
      ]
     },
     "metadata": {},
     "output_type": "display_data"
    }
   ],
   "source": [
    "sf.hist('total_compensation', unit = '$')\n",
    "\n",
    "# Leave this to provide a title for your visualization\n",
    "plt.title('Total Compensation')\n",
    "plt.show()"
   ]
  },
  {
   "cell_type": "markdown",
   "metadata": {
    "deletable": false,
    "editable": false,
    "tags": []
   },
   "source": [
    "<!-- END QUESTION -->\n",
    "\n",
    "### Task 05 📍🔎"
   ]
  },
  {
   "cell_type": "markdown",
   "metadata": {
    "deletable": false,
    "editable": false
   },
   "source": [
    "<!-- BEGIN QUESTION -->\n",
    "\n",
    "In the provided Markdown cell, explain why there seems to be no information visualized on the right side of the histogram created in Task 04. Make sure you connect your response to the `max_compensation` value you calculated.\n",
    "\n",
    "_Points:_ 2"
   ]
  },
  {
   "cell_type": "markdown",
   "metadata": {},
   "source": [
    "The frequency density is lower for the remaining values over 400000 and 800000 thousands."
   ]
  },
  {
   "cell_type": "markdown",
   "metadata": {
    "deletable": false,
    "editable": false
   },
   "source": [
    "<!-- END QUESTION -->\n",
    "\n",
    "### Task 06 📍🔎"
   ]
  },
  {
   "cell_type": "markdown",
   "metadata": {
    "deletable": false,
    "editable": false
   },
   "source": [
    "<!-- BEGIN QUESTION -->\n",
    "\n",
    "The area of a bar in a histogram reflects the percentage of the data represented in that particular bin. To have you think more deeply about this, we want you to create a strange version of the histogram you just made.\n",
    "\n",
    "1. Create an array called `equal_split_bins` that can be used to form the bins for a histogram of total compensation that splits the data into two equal bins.\n",
    "    * _Hint: The median (`np.median`) of a collection of numbers can be used to split the numbers into two equal halves._\n",
    "    * _Hint: Don't forget that you named the largest total compensation as `max_compensation` in a previous task._\n",
    "2. Create a histogram for the total compensation values by using `equal_split_bins` such that your histogram only shows 2 bins (bars).\n",
    "    * _Hint: Use the `bins` argument for `hist` to incorporate the `equal_split_bins` array._\n",
    "\n",
    "As with Task 02, we are just scoring your visualization, so you are welcome to alter the template/steps.\n",
    "\n",
    "_Points:_ 2"
   ]
  },
  {
   "cell_type": "code",
   "execution_count": 10,
   "metadata": {
    "tags": []
   },
   "outputs": [
    {
     "data": {
      "image/png": "[encoded data removed]",
      "text/plain": [
       "<Figure size 600x400 with 1 Axes>"
      ]
     },
     "metadata": {},
     "output_type": "display_data"
    }
   ],
   "source": [
    "# Step 1\n",
    "min_compensation = np.min(sf.column('total_compensation'))\n",
    "median_compensation = np.median(sf.column('total_compensation'))\n",
    "equal_split_bins = [min_compensation, median_compensation, max_compensation]\n",
    "\n",
    "# Step 2\n",
    "sf.hist('total_compensation', bins = equal_split_bins, unit = '$')\n",
    "\n",
    "# Leave this to provide a title for your visualization\n",
    "plt.title('Total Compensation')\n",
    "plt.show()"
   ]
  },
  {
   "cell_type": "markdown",
   "metadata": {
    "deletable": false,
    "editable": false
   },
   "source": [
    "<!-- END QUESTION -->\n",
    "\n",
    "Now, that you have a basic feel for the distribution of total compensation values. Summarize the total compensations based on department. Salaries may vary within a department depending on several factors such as job, experience, etc. There might be extremely high or low salaries within a department, so it is best to use a summary value like the median which is less influenced by extreme values. "
   ]
  },
  {
   "cell_type": "markdown",
   "metadata": {
    "tags": []
   },
   "source": [
    "### Task 07 📍"
   ]
  },
  {
   "cell_type": "markdown",
   "metadata": {
    "deletable": false,
    "editable": false
   },
   "source": [
    "Your goal for this task is to create a table titled `top_5_departments` featuring two columns: `department` listing department names and `total_compensation median` displaying the median total compensation for each department. Once done, the final table should showcase the 5 departments in the data set with the highest median total compensation values.\n",
    "\n",
    "_Points:_ 5"
   ]
  },
  {
   "cell_type": "code",
   "execution_count": 11,
   "metadata": {
    "tags": []
   },
   "outputs": [
    {
     "data": {
      "text/html": [
       "<table border=\"1\" class=\"dataframe\">\n",
       "    <thead>\n",
       "        <tr>\n",
       "            <th>department</th> <th>total_compensation_median</th>\n",
       "        </tr>\n",
       "    </thead>\n",
       "    <tbody>\n",
       "        <tr>\n",
       "            <td>Law Library    </td> <td>258800                   </td>\n",
       "        </tr>\n",
       "        <tr>\n",
       "            <td>Fire Department</td> <td>235598                   </td>\n",
       "        </tr>\n",
       "        <tr>\n",
       "            <td>Sheriff        </td> <td>230050                   </td>\n",
       "        </tr>\n",
       "        <tr>\n",
       "            <td>City Attorney  </td> <td>227537                   </td>\n",
       "        </tr>\n",
       "        <tr>\n",
       "            <td>Police         </td> <td>225890                   </td>\n",
       "        </tr>\n",
       "    </tbody>\n",
       "</table>"
      ],
      "text/plain": [
       "department      | total_compensation_median\n",
       "Law Library     | 258800\n",
       "Fire Department | 235598\n",
       "Sheriff         | 230050\n",
       "City Attorney   | 227537\n",
       "Police          | 225890"
      ]
     },
     "execution_count": 11,
     "metadata": {},
     "output_type": "execute_result"
    }
   ],
   "source": [
    "medians = []\n",
    "departments = sf.group('department', sum).column('department')\n",
    "for department in departments:\n",
    "    department_median = np.median(sf.where('department', are.equal_to(department)).column('total_compensation'))\n",
    "    medians.append(department_median)\n",
    "top_5_departments = Table().with_columns('department', departments, 'total_compensation_median', medians)\n",
    "top_5_departments = top_5_departments.sort('total_compensation_median', True).take(np.arange(5))\n",
    "top_5_departments"
   ]
  },
  {
   "cell_type": "code",
   "execution_count": 12,
   "metadata": {
    "deletable": false,
    "editable": false
   },
   "outputs": [
    {
     "data": {
      "text/html": [
       "<p><strong><pre style='display: inline;'>task_07</pre></strong> passed! ✨</p><p><strong><pre style='display: inline;'>task_07 - 1</pre> message:</strong> ✅ top_5_departments is a Table.</p><p><strong><pre style='display: inline;'>task_07 - 2</pre> message:</strong> ✅ top_5_departments has the correct number of rows and columns</p>"
      ],
      "text/plain": [
       "task_07 results: All test cases passed!\n",
       "task_07 - 1 message: ✅ top_5_departments is a Table.\n",
       "task_07 - 2 message: ✅ top_5_departments has the correct number of rows and columns"
      ]
     },
     "execution_count": 12,
     "metadata": {},
     "output_type": "execute_result"
    }
   ],
   "source": [
    "grader.check(\"task_07\")"
   ]
  },
  {
   "cell_type": "markdown",
   "metadata": {},
   "source": [
    "### Task 08 📍"
   ]
  },
  {
   "cell_type": "markdown",
   "metadata": {
    "deletable": false,
    "editable": false
   },
   "source": [
    "Set `department_ranges` to a table containing departments as the rows, and the organization groups as the columns. The values in the rows should correspond to a total compensation range, where the range is defined as the **difference between the highest total compensation and the lowest total compensation in the department for that organization group**.\n",
    "\n",
    "Keep in mind the following while working on this:\n",
    "\n",
    "* First you'll need to define a new function `compensation_range` which takes in an array of compensations and returns the range of compensations in that array.\n",
    "* What table function allows you to specify the rows and columns of a new table?\n",
    "\n",
    "\n",
    "_Points:_ 4"
   ]
  },
  {
   "cell_type": "code",
   "execution_count": 13,
   "metadata": {
    "tags": []
   },
   "outputs": [
    {
     "data": {
      "text/html": [
       "<table border=\"1\" class=\"dataframe\">\n",
       "    <thead>\n",
       "        <tr>\n",
       "            <th>department</th> <th>Community Health</th> <th>Culture & Recreation</th> <th>General Administration & Finance</th> <th>Human Welfare & Neighborhood Development</th> <th>Public Protection</th> <th>Public Works, Transportation & Commerce</th>\n",
       "        </tr>\n",
       "    </thead>\n",
       "    <tbody>\n",
       "        <tr>\n",
       "            <td>Academy Of Sciences    </td> <td>0               </td> <td>177132              </td> <td>0                               </td> <td>0                                       </td> <td>0                </td> <td>0                                      </td>\n",
       "        </tr>\n",
       "        <tr>\n",
       "            <td>Administrative Services</td> <td>0               </td> <td>0                   </td> <td>513149                          </td> <td>0                                       </td> <td>0                </td> <td>0                                      </td>\n",
       "        </tr>\n",
       "        <tr>\n",
       "            <td>Adult Probation        </td> <td>0               </td> <td>0                   </td> <td>0                               </td> <td>0                                       </td> <td>445079           </td> <td>0                                      </td>\n",
       "        </tr>\n",
       "        <tr>\n",
       "            <td>Airport Commission     </td> <td>0               </td> <td>0                   </td> <td>0                               </td> <td>0                                       </td> <td>0                </td> <td>506447                                 </td>\n",
       "        </tr>\n",
       "        <tr>\n",
       "            <td>Art Commission         </td> <td>0               </td> <td>291648              </td> <td>0                               </td> <td>0                                       </td> <td>0                </td> <td>0                                      </td>\n",
       "        </tr>\n",
       "        <tr>\n",
       "            <td>Asian Art Museum       </td> <td>0               </td> <td>338984              </td> <td>0                               </td> <td>0                                       </td> <td>0                </td> <td>0                                      </td>\n",
       "        </tr>\n",
       "        <tr>\n",
       "            <td>Assessor               </td> <td>0               </td> <td>0                   </td> <td>320890                          </td> <td>0                                       </td> <td>0                </td> <td>0                                      </td>\n",
       "        </tr>\n",
       "        <tr>\n",
       "            <td>Board Of Appeals       </td> <td>0               </td> <td>0                   </td> <td>0                               </td> <td>0                                       </td> <td>0                </td> <td>278601                                 </td>\n",
       "        </tr>\n",
       "        <tr>\n",
       "            <td>Board Of Supervisors   </td> <td>0               </td> <td>0                   </td> <td>334616                          </td> <td>0                                       </td> <td>0                </td> <td>0                                      </td>\n",
       "        </tr>\n",
       "        <tr>\n",
       "            <td>Building Inspection    </td> <td>0               </td> <td>0                   </td> <td>0                               </td> <td>0                                       </td> <td>0                </td> <td>368399                                 </td>\n",
       "        </tr>\n",
       "    </tbody>\n",
       "</table>\n",
       "<p>... (42 rows omitted)</p>"
      ],
      "text/plain": [
       "department              | Community Health | Culture & Recreation | General Administration & Finance | Human Welfare & Neighborhood Development | Public Protection | Public Works, Transportation & Commerce\n",
       "Academy Of Sciences     | 0                | 177132               | 0                                | 0                                        | 0                 | 0\n",
       "Administrative Services | 0                | 0                    | 513149                           | 0                                        | 0                 | 0\n",
       "Adult Probation         | 0                | 0                    | 0                                | 0                                        | 445079            | 0\n",
       "Airport Commission      | 0                | 0                    | 0                                | 0                                        | 0                 | 506447\n",
       "Art Commission          | 0                | 291648               | 0                                | 0                                        | 0                 | 0\n",
       "Asian Art Museum        | 0                | 338984               | 0                                | 0                                        | 0                 | 0\n",
       "Assessor                | 0                | 0                    | 320890                           | 0                                        | 0                 | 0\n",
       "Board Of Appeals        | 0                | 0                    | 0                                | 0                                        | 0                 | 278601\n",
       "Board Of Supervisors    | 0                | 0                    | 334616                           | 0                                        | 0                 | 0\n",
       "Building Inspection     | 0                | 0                    | 0                                | 0                                        | 0                 | 368399\n",
       "... (42 rows omitted)"
      ]
     },
     "execution_count": 13,
     "metadata": {},
     "output_type": "execute_result"
    }
   ],
   "source": [
    "# Define compensation_range first\n",
    "def compensation_range(money_money): \n",
    "    return np.max(money_money) - np.min(money_money) \n",
    "\n",
    "department_ranges = sf.pivot('organization_group', 'department', 'total_compensation', collect = compensation_range)\n",
    "department_ranges"
   ]
  },
  {
   "cell_type": "code",
   "execution_count": 14,
   "metadata": {
    "deletable": false,
    "editable": false
   },
   "outputs": [
    {
     "data": {
      "text/html": [
       "<p><strong><pre style='display: inline;'>task_08</pre></strong> passed! 🌟</p><p><strong><pre style='display: inline;'>task_08 - 1</pre> message:</strong> ✅ Your function compensation_range seems to be working correctly.</p><p><strong><pre style='display: inline;'>task_08 - 2</pre> message:</strong> ✅ You have the correct column labels in department_ranges.</p><p><strong><pre style='display: inline;'>task_08 - 3</pre> message:</strong> ✅ The values in one of the columns of department_ranges seem correct.</p>"
      ],
      "text/plain": [
       "task_08 results: All test cases passed!\n",
       "task_08 - 1 message: ✅ Your function compensation_range seems to be working correctly.\n",
       "task_08 - 2 message: ✅ You have the correct column labels in department_ranges.\n",
       "task_08 - 3 message: ✅ The values in one of the columns of department_ranges seem correct."
      ]
     },
     "execution_count": 14,
     "metadata": {},
     "output_type": "execute_result"
    }
   ],
   "source": [
    "grader.check(\"task_08\")"
   ]
  },
  {
   "cell_type": "markdown",
   "metadata": {},
   "source": [
    "### Task 09 📍🔎"
   ]
  },
  {
   "cell_type": "markdown",
   "metadata": {
    "deletable": false,
    "editable": false
   },
   "source": [
    "<!-- BEGIN QUESTION -->\n",
    "\n",
    "Provide at least **two** different explanations as to why some of the row values are `0` in the `department_ranges` table from the previous question.\n",
    "\n",
    "\n",
    "_Points:_ 2"
   ]
  },
  {
   "cell_type": "markdown",
   "metadata": {},
   "source": [
    "The zero is place in the tab;e from the previous question because the combination doesn't show off, as the rows in the original table doesn't match. So we can infer from the previous table that the Art Commission group doesn't have public protection. "
   ]
  },
  {
   "cell_type": "markdown",
   "metadata": {
    "deletable": false,
    "editable": false
   },
   "source": [
    "<!-- END QUESTION -->\n",
    "\n",
    "Which department has the longest job title? There are a few ways you might answer this, but we are going to guide you in one way that gives you practice making and using functions with the `group` method. \n",
    "\n",
    "Before you go on to the next task, run the following code cell to define a function that takes a list or array of strings and returns an array of the lengths of those strings. You don't have to understand how the code works, but this might give you an idea of where error messages come from. You should try it out with a few lists/arrays of strings to see what it is doing."
   ]
  },
  {
   "cell_type": "code",
   "execution_count": 15,
   "metadata": {},
   "outputs": [],
   "source": [
    "def string_lengths(strings):\n",
    "    '''\n",
    "    Returns an array that contains the length of each string in the array or list called strings.\n",
    "\n",
    "    Example\n",
    "    --------\n",
    "    >>> string_lengths(['a', 'an', 'the'])\n",
    "    array([1, 2, 3])\n",
    "    '''\n",
    "    \n",
    "    if not isinstance(strings, (list, np.ndarray)):\n",
    "        raise ValueError(\"Input must be a list or array\")\n",
    "\n",
    "    if len(strings) == 0:\n",
    "        return np.array([0])\n",
    "    \n",
    "    for s in strings:\n",
    "        if not isinstance(s, str):\n",
    "            raise ValueError(\"Input must contain only strings\")\n",
    "        \n",
    "    return np.array([len(s) for s in strings])"
   ]
  },
  {
   "cell_type": "code",
   "execution_count": 16,
   "metadata": {},
   "outputs": [
    {
     "data": {
      "text/plain": [
       "array([ 4,  7,  2, 13])"
      ]
     },
     "execution_count": 16,
     "metadata": {},
     "output_type": "execute_result"
    }
   ],
   "source": [
    "# Try calling the function\n",
    "an_array_of_strings = make_array('City', 'College', 'of', 'San Francisco')\n",
    "string_lengths(an_array_of_strings)"
   ]
  },
  {
   "cell_type": "markdown",
   "metadata": {},
   "source": [
    "Notice that it provides the length of the 4 strings that were provided in the input array. Remember that `len` does count the blank space in `'San Francisco'`."
   ]
  },
  {
   "cell_type": "markdown",
   "metadata": {
    "tags": []
   },
   "source": [
    "### Task 10 📍"
   ]
  },
  {
   "cell_type": "markdown",
   "metadata": {
    "deletable": false,
    "editable": false
   },
   "source": [
    "Define a function called `max_job_name` that returns the length of the longest job name from an array or list of job names (strings).\n",
    "\n",
    "* **Hint:** Use the `string_lengths` function above. \n",
    "* **Hint:** `max_job_name(['Electrician', 'Analyst', 'Social Worker'])` should return `13` because `'Social Worker'` is the longest string with 13 characters (including the space).\n",
    "* **Hint:** You can assume the list of jobs is not empty because every department in the `sf` table has at least 1 job. \n",
    "\n",
    "_Points:_ 3"
   ]
  },
  {
   "cell_type": "code",
   "execution_count": 17,
   "metadata": {
    "tags": []
   },
   "outputs": [
    {
     "data": {
      "text/plain": [
       "13"
      ]
     },
     "execution_count": 17,
     "metadata": {},
     "output_type": "execute_result"
    }
   ],
   "source": [
    "def max_job_name(names):\n",
    "    return np.max(string_lengths(names))\n",
    "\n",
    "# Try out the function\n",
    "max_job_name(['Electrician', 'Analyst', 'Social Worker'])"
   ]
  },
  {
   "cell_type": "code",
   "execution_count": 18,
   "metadata": {
    "deletable": false,
    "editable": false
   },
   "outputs": [
    {
     "data": {
      "text/html": [
       "<p><strong><pre style='display: inline;'>task_10</pre></strong> passed! 🚀</p><p><strong><pre style='display: inline;'>task_10 - 1</pre> message:</strong> ✅ max_job_name is callable.</p><p><strong><pre style='display: inline;'>task_10 - 2</pre> message:</strong> ✅ max_job_name seems to be working.</p>"
      ],
      "text/plain": [
       "task_10 results: All test cases passed!\n",
       "task_10 - 1 message: ✅ max_job_name is callable.\n",
       "task_10 - 2 message: ✅ max_job_name seems to be working."
      ]
     },
     "execution_count": 18,
     "metadata": {},
     "output_type": "execute_result"
    }
   ],
   "source": [
    "grader.check(\"task_10\")"
   ]
  },
  {
   "cell_type": "markdown",
   "metadata": {
    "tags": []
   },
   "source": [
    "### Task 11 📍"
   ]
  },
  {
   "cell_type": "markdown",
   "metadata": {
    "deletable": false,
    "editable": false
   },
   "source": [
    "What are the lengths of the longest job names for each department?\n",
    "\n",
    "Create a table called `departments` that shows a row for each unique department name in the `sf` table and the length of the longest job name within that department. A few things to consider when making your final table:\n",
    "\n",
    "* Sort the table so that the department(s) with the longest job name are at the top of the table.\n",
    "* The columns should be `'department'` and `'max_job_name_length'`.\n",
    "\n",
    "**Hint:** Try out the `max_job_name` function you just made!\n",
    "\n",
    "_Points:_ 2"
   ]
  },
  {
   "cell_type": "code",
   "execution_count": 19,
   "metadata": {
    "tags": []
   },
   "outputs": [
    {
     "data": {
      "text/html": [
       "<table border=\"1\" class=\"dataframe\">\n",
       "    <thead>\n",
       "        <tr>\n",
       "            <th>department</th> <th>max_job_name_length</th>\n",
       "        </tr>\n",
       "    </thead>\n",
       "    <tbody>\n",
       "        <tr>\n",
       "            <td>Administrative Services</td> <td>30                 </td>\n",
       "        </tr>\n",
       "        <tr>\n",
       "            <td>Adult Probation        </td> <td>30                 </td>\n",
       "        </tr>\n",
       "        <tr>\n",
       "            <td>Airport Commission     </td> <td>30                 </td>\n",
       "        </tr>\n",
       "        <tr>\n",
       "            <td>Asian Art Museum       </td> <td>30                 </td>\n",
       "        </tr>\n",
       "        <tr>\n",
       "            <td>Assessor               </td> <td>30                 </td>\n",
       "        </tr>\n",
       "        <tr>\n",
       "            <td>Board Of Supervisors   </td> <td>30                 </td>\n",
       "        </tr>\n",
       "        <tr>\n",
       "            <td>Building Inspection    </td> <td>30                 </td>\n",
       "        </tr>\n",
       "        <tr>\n",
       "            <td>Child Support Services </td> <td>30                 </td>\n",
       "        </tr>\n",
       "        <tr>\n",
       "            <td>City Attorney          </td> <td>30                 </td>\n",
       "        </tr>\n",
       "        <tr>\n",
       "            <td>City Planning          </td> <td>30                 </td>\n",
       "        </tr>\n",
       "    </tbody>\n",
       "</table>\n",
       "<p>... (42 rows omitted)</p>"
      ],
      "text/plain": [
       "department              | max_job_name_length\n",
       "Administrative Services | 30\n",
       "Adult Probation         | 30\n",
       "Airport Commission      | 30\n",
       "Asian Art Museum        | 30\n",
       "Assessor                | 30\n",
       "Board Of Supervisors    | 30\n",
       "Building Inspection     | 30\n",
       "Child Support Services  | 30\n",
       "City Attorney           | 30\n",
       "City Planning           | 30\n",
       "... (42 rows omitted)"
      ]
     },
     "execution_count": 19,
     "metadata": {},
     "output_type": "execute_result"
    }
   ],
   "source": [
    "departments = sf.select(\n",
    "    'department', 'job').group(\n",
    "    'department', max_job_name).sort(\n",
    "    'job max_job_name', True)\n",
    "departments = departments.relabel('job max_job_name', 'max_job_name_length')\n",
    "departments"
   ]
  },
  {
   "cell_type": "code",
   "execution_count": 20,
   "metadata": {
    "deletable": false,
    "editable": false
   },
   "outputs": [
    {
     "data": {
      "text/html": [
       "<p><strong><pre style='display: inline;'>task_11</pre></strong> passed! 💯</p><p><strong><pre style='display: inline;'>task_11 - 1</pre> message:</strong> ✅ departments is a table (or department is a string).</p>"
      ],
      "text/plain": [
       "task_11 results: All test cases passed!\n",
       "task_11 - 1 message: ✅ departments is a table (or department is a string)."
      ]
     },
     "execution_count": 20,
     "metadata": {},
     "output_type": "execute_result"
    }
   ],
   "source": [
    "grader.check(\"task_11\")"
   ]
  },
  {
   "cell_type": "markdown",
   "metadata": {},
   "source": [
    "---"
   ]
  },
  {
   "cell_type": "markdown",
   "metadata": {},
   "source": [
    "California has laws in place to help govern how much an employee should be paid for overtime work. Visit the [Labor Commissioner's Office FAQ about Overtime](https://www.dir.ca.gov/dlse/faq_overtime.htm) if you are curious about these laws. There could be several reasons for why an employee works overtime. Some are healthy reasons and some are not. The ratio of overtime compensation to total compensation can provide a signal for health of departments and their employees. According to [Indeed.com](https://www.indeed.com/career-advice/career-development/working-overtime), here are some potential disadvantages of working extra hours:\n",
    "\n",
    "> **Focus loss**: You will likely want to take breaks while working overtime, and you may lose focus and productivity naturally as your working hours increase. \n",
    "> \n",
    "> **Safety and health risk**: Working longer hours also can be dangerous, depending on the job. Working overtime regularly can also disrupt your work-life balance, lead to burnout or create health risks, such as sitting at a computer for long periods. Due to these risks, more companies are limiting the number of hours worked in certain positions, such as truck drivers. \n",
    "> \n",
    "> **Less work-life balance**: There are only 24 hours in the day, and working overtime reduces the time for a good work-life balance. More work hours mean fewer hours for family, relaxation and sleep.\n",
    "\n",
    "On the other hand, here are some potential advantages for working extra hours:\n",
    "\n",
    "> **Extra money**: Working overtime means you earn extra money for extra hours, usually 1.5 to two times your hourly rate. Overtime pay could allow you to bulk up your salary and have more money for living expenses, vacations or savings. \n",
    ">\n",
    ">**Career boost**: Working overtime may also help advance your career—and potential earnings—by proving you’re reliable and motivated in your role. Volunteering to work extra hours shows your current employer that you’re dedicated to doing a good job. \n",
    ">\n",
    ">**Gain experience**: Overtime is an opportunity to gain job experience and polish your skills. Typically, the more you work at something, the better you become."
   ]
  },
  {
   "cell_type": "markdown",
   "metadata": {},
   "source": [
    "One way to analyze overtime work for San Francisco employees is to consider the overtime pay values in the data set, but these values are relative to the amount of money the employee makes. To account for this you could consider overtime pay for an employee as a quantity relative to that employee's salary. This would allow you to compare these ratios for all the employees. Specifically, use the measurement called the overtime ratio defined as:\n",
    "\n",
    "$$\\text{Overtime Ratio} = \\frac{\\text{Overtime Pay}}{\\text{Salary}}$$\n",
    "\n",
    "There are many special cases when it comes to overtime pay that might analyzing this ratio in general challenging. So, to keep things more simple, narrow your focus to employees to at least a certain salary. Let that base salary reflect working 40 hrs per week for 52 weeks at the minimum wage of the time, 16.99 dollars per hour."
   ]
  },
  {
   "cell_type": "markdown",
   "metadata": {
    "tags": []
   },
   "source": [
    "### Task 12 📍"
   ]
  },
  {
   "cell_type": "markdown",
   "metadata": {
    "deletable": false,
    "editable": false
   },
   "source": [
    "For this task, create a table called `sf_above_35k` that contains the same information in the `sf` table and overtime ratios for employees making above $35,000. Make sure that `sf_above_35k` has:\n",
    " * Only employees from the `sf` table that have salaries above 35,000 dollars AND\n",
    " * The same columns as the `sf` table with an additional column `overtime_ratio` containing the overtime ratios from the above formula.\n",
    "\n",
    "_Points:_ 5"
   ]
  },
  {
   "cell_type": "code",
   "execution_count": 21,
   "metadata": {
    "tags": []
   },
   "outputs": [
    {
     "data": {
      "text/html": [
       "<table border=\"1\" class=\"dataframe\">\n",
       "    <thead>\n",
       "        <tr>\n",
       "            <th>organization_group_code</th> <th>job_family_code</th> <th>job_code</th> <th>year_type</th> <th>year</th> <th>organization_group</th> <th>department_code</th> <th>department</th> <th>union_code</th> <th>union</th> <th>job_family</th> <th>job</th> <th>employee_identifier</th> <th>salaries</th> <th>overtime</th> <th>other_salaries</th> <th>total_salary</th> <th>retirement</th> <th>health_and_dental</th> <th>other_benefits</th> <th>total_benefits</th> <th>total_compensation</th> <th>overtime_ratio</th>\n",
       "        </tr>\n",
       "    </thead>\n",
       "    <tbody>\n",
       "        <tr>\n",
       "            <td>4                      </td> <td>2200           </td> <td>2233    </td> <td>Fiscal   </td> <td>2023</td> <td>Community Health                </td> <td>DPH            </td> <td>Public Health          </td> <td>163       </td> <td>Physician/Dentists 11-AA, UAPD</td> <td>Medical & Dental       </td> <td>Supervising Physician Spec    </td> <td>54056840           </td> <td>356380  </td> <td>5839.75 </td> <td>4867.5        </td> <td>367087      </td> <td>63220.7   </td> <td>15805.6          </td> <td>15924.5       </td> <td>94950.9       </td> <td>462038            </td> <td>0.0163863     </td>\n",
       "        </tr>\n",
       "        <tr>\n",
       "            <td>4                      </td> <td>2200           </td> <td>2242    </td> <td>Fiscal   </td> <td>2023</td> <td>Community Health                </td> <td>DPH            </td> <td>Public Health          </td> <td>164       </td> <td>Physician/Dentists 8-CC, UAPD </td> <td>Medical & Dental       </td> <td>Sr Psychiatric Physician Spec </td> <td>52816870           </td> <td>389632  </td> <td>5571.97 </td> <td>27422.5       </td> <td>422627      </td> <td>69421.4   </td> <td>20031.7          </td> <td>16776.8       </td> <td>106230        </td> <td>528857            </td> <td>0.0143006     </td>\n",
       "        </tr>\n",
       "        <tr>\n",
       "            <td>4                      </td> <td>2200           </td> <td>2242    </td> <td>Fiscal   </td> <td>2023</td> <td>Community Health                </td> <td>DPH            </td> <td>Public Health          </td> <td>164       </td> <td>Physician/Dentists 8-CC, UAPD </td> <td>Medical & Dental       </td> <td>Sr Psychiatric Physician Spec </td> <td>50855771           </td> <td>399885  </td> <td>2978.13 </td> <td>16308.8       </td> <td>419172      </td> <td>70973.2   </td> <td>20545.3          </td> <td>16626.2       </td> <td>108145        </td> <td>527317            </td> <td>0.00744746    </td>\n",
       "        </tr>\n",
       "        <tr>\n",
       "            <td>4                      </td> <td>2200           </td> <td>2242    </td> <td>Fiscal   </td> <td>2023</td> <td>Community Health                </td> <td>DPH            </td> <td>Public Health          </td> <td>164       </td> <td>Physician/Dentists 8-CC, UAPD </td> <td>Medical & Dental       </td> <td>Sr Psychiatric Physician Spec </td> <td>51726477           </td> <td>370979  </td> <td>1237.18 </td> <td>17132.5       </td> <td>389349      </td> <td>65951.4   </td> <td>20545.3          </td> <td>16205.5       </td> <td>102702        </td> <td>492051            </td> <td>0.0033349     </td>\n",
       "        </tr>\n",
       "        <tr>\n",
       "            <td>4                      </td> <td>2200           </td> <td>2243    </td> <td>Fiscal   </td> <td>2023</td> <td>Community Health                </td> <td>DPH            </td> <td>Public Health          </td> <td>163       </td> <td>Physician/Dentists 11-AA, UAPD</td> <td>Medical & Dental       </td> <td>Sup Psychiatric Physician Spec</td> <td>51806587           </td> <td>429602  </td> <td>1033.13 </td> <td>2685          </td> <td>433320      </td> <td>76540.5   </td> <td>15805.6          </td> <td>16908         </td> <td>109254        </td> <td>542574            </td> <td>0.00240485    </td>\n",
       "        </tr>\n",
       "        <tr>\n",
       "            <td>4                      </td> <td>2200           </td> <td>2242    </td> <td>Fiscal   </td> <td>2023</td> <td>Community Health                </td> <td>DPH            </td> <td>Public Health          </td> <td>164       </td> <td>Physician/Dentists 8-CC, UAPD </td> <td>Medical & Dental       </td> <td>Sr Psychiatric Physician Spec </td> <td>54296991           </td> <td>350248  </td> <td>749.4   </td> <td>18115         </td> <td>369112      </td> <td>62415.8   </td> <td>18510.5          </td> <td>15915.4       </td> <td>96841.7       </td> <td>465954            </td> <td>0.00213963    </td>\n",
       "        </tr>\n",
       "        <tr>\n",
       "            <td>6                      </td> <td>2500           </td> <td>2598    </td> <td>Fiscal   </td> <td>2023</td> <td>General Administration & Finance</td> <td>ADM            </td> <td>Administrative Services</td> <td>164       </td> <td>Physician/Dentists 8-CC, UAPD </td> <td>Med Therapy & Auxiliary</td> <td>Asst Med Examiner             </td> <td>50855775           </td> <td>368926  </td> <td>649.87  </td> <td>16707.8       </td> <td>386284      </td> <td>65461.5   </td> <td>20545.3          </td> <td>16139.2       </td> <td>102146        </td> <td>488430            </td> <td>0.00176152    </td>\n",
       "        </tr>\n",
       "        <tr>\n",
       "            <td>4                      </td> <td>2200           </td> <td>2232    </td> <td>Fiscal   </td> <td>2023</td> <td>Community Health                </td> <td>DPH            </td> <td>Public Health          </td> <td>164       </td> <td>Physician/Dentists 8-CC, UAPD </td> <td>Medical & Dental       </td> <td>Senior Physician Specialist   </td> <td>53366848           </td> <td>374517  </td> <td>452     </td> <td>0             </td> <td>374969      </td> <td>66976.5   </td> <td>20505.8          </td> <td>16110.2       </td> <td>103592        </td> <td>478561            </td> <td>0.00120689    </td>\n",
       "        </tr>\n",
       "        <tr>\n",
       "            <td>4                      </td> <td>0900           </td> <td>0943    </td> <td>Fiscal   </td> <td>2023</td> <td>Community Health                </td> <td>DPH            </td> <td>Public Health          </td> <td>351       </td> <td>Municipal Exec Assoc, Misc    </td> <td>Management             </td> <td>Manager VIII                  </td> <td>51196478           </td> <td>354780  </td> <td>0       </td> <td>4000          </td> <td>358780      </td> <td>63929.5   </td> <td>22476.4          </td> <td>16454.4       </td> <td>102860        </td> <td>461640            </td> <td>0             </td>\n",
       "        </tr>\n",
       "        <tr>\n",
       "            <td>4                      </td> <td>2200           </td> <td>2242    </td> <td>Fiscal   </td> <td>2023</td> <td>Community Health                </td> <td>DPH            </td> <td>Public Health          </td> <td>164       </td> <td>Physician/Dentists 8-CC, UAPD </td> <td>Medical & Dental       </td> <td>Sr Psychiatric Physician Spec </td> <td>53416924           </td> <td>370580  </td> <td>0       </td> <td>2560          </td> <td>373140      </td> <td>66003.6   </td> <td>20545.3          </td> <td>15939.7       </td> <td>102489        </td> <td>475629            </td> <td>0             </td>\n",
       "        </tr>\n",
       "    </tbody>\n",
       "</table>\n",
       "<p>... (41 rows omitted)</p>"
      ],
      "text/plain": [
       "organization_group_code | job_family_code | job_code | year_type | year | organization_group               | department_code | department              | union_code | union                          | job_family              | job                            | employee_identifier | salaries | overtime | other_salaries | total_salary | retirement | health_and_dental | other_benefits | total_benefits | total_compensation | overtime_ratio\n",
       "4                       | 2200            | 2233     | Fiscal    | 2023 | Community Health                 | DPH             | Public Health           | 163        | Physician/Dentists 11-AA, UAPD | Medical & Dental        | Supervising Physician Spec     | 54056840            | 356380   | 5839.75  | 4867.5         | 367087       | 63220.7    | 15805.6           | 15924.5        | 94950.9        | 462038             | 0.0163863\n",
       "4                       | 2200            | 2242     | Fiscal    | 2023 | Community Health                 | DPH             | Public Health           | 164        | Physician/Dentists 8-CC, UAPD  | Medical & Dental        | Sr Psychiatric Physician Spec  | 52816870            | 389632   | 5571.97  | 27422.5        | 422627       | 69421.4    | 20031.7           | 16776.8        | 106230         | 528857             | 0.0143006\n",
       "4                       | 2200            | 2242     | Fiscal    | 2023 | Community Health                 | DPH             | Public Health           | 164        | Physician/Dentists 8-CC, UAPD  | Medical & Dental        | Sr Psychiatric Physician Spec  | 50855771            | 399885   | 2978.13  | 16308.8        | 419172       | 70973.2    | 20545.3           | 16626.2        | 108145         | 527317             | 0.00744746\n",
       "4                       | 2200            | 2242     | Fiscal    | 2023 | Community Health                 | DPH             | Public Health           | 164        | Physician/Dentists 8-CC, UAPD  | Medical & Dental        | Sr Psychiatric Physician Spec  | 51726477            | 370979   | 1237.18  | 17132.5        | 389349       | 65951.4    | 20545.3           | 16205.5        | 102702         | 492051             | 0.0033349\n",
       "4                       | 2200            | 2243     | Fiscal    | 2023 | Community Health                 | DPH             | Public Health           | 163        | Physician/Dentists 11-AA, UAPD | Medical & Dental        | Sup Psychiatric Physician Spec | 51806587            | 429602   | 1033.13  | 2685           | 433320       | 76540.5    | 15805.6           | 16908          | 109254         | 542574             | 0.00240485\n",
       "4                       | 2200            | 2242     | Fiscal    | 2023 | Community Health                 | DPH             | Public Health           | 164        | Physician/Dentists 8-CC, UAPD  | Medical & Dental        | Sr Psychiatric Physician Spec  | 54296991            | 350248   | 749.4    | 18115          | 369112       | 62415.8    | 18510.5           | 15915.4        | 96841.7        | 465954             | 0.00213963\n",
       "6                       | 2500            | 2598     | Fiscal    | 2023 | General Administration & Finance | ADM             | Administrative Services | 164        | Physician/Dentists 8-CC, UAPD  | Med Therapy & Auxiliary | Asst Med Examiner              | 50855775            | 368926   | 649.87   | 16707.8        | 386284       | 65461.5    | 20545.3           | 16139.2        | 102146         | 488430             | 0.00176152\n",
       "4                       | 2200            | 2232     | Fiscal    | 2023 | Community Health                 | DPH             | Public Health           | 164        | Physician/Dentists 8-CC, UAPD  | Medical & Dental        | Senior Physician Specialist    | 53366848            | 374517   | 452      | 0              | 374969       | 66976.5    | 20505.8           | 16110.2        | 103592         | 478561             | 0.00120689\n",
       "4                       | 0900            | 0943     | Fiscal    | 2023 | Community Health                 | DPH             | Public Health           | 351        | Municipal Exec Assoc, Misc     | Management              | Manager VIII                   | 51196478            | 354780   | 0        | 4000           | 358780       | 63929.5    | 22476.4           | 16454.4        | 102860         | 461640             | 0\n",
       "4                       | 2200            | 2242     | Fiscal    | 2023 | Community Health                 | DPH             | Public Health           | 164        | Physician/Dentists 8-CC, UAPD  | Medical & Dental        | Sr Psychiatric Physician Spec  | 53416924            | 370580   | 0        | 2560           | 373140       | 66003.6    | 20545.3           | 15939.7        | 102489         | 475629             | 0\n",
       "... (41 rows omitted)"
      ]
     },
     "execution_count": 21,
     "metadata": {},
     "output_type": "execute_result"
    }
   ],
   "source": [
    "sf_above_35k = sf.where('salaries', are.above(35_0000))\n",
    "\n",
    "overtime_ratios = sf_above_35k.column('overtime') / sf_above_35k.column('salaries')\n",
    "\n",
    "sf_above_35k = sf_above_35k.with_column('overtime_ratio', overtime_ratios).sort('overtime_ratio', True)\n",
    "sf_above_35k"
   ]
  },
  {
   "cell_type": "code",
   "execution_count": 22,
   "metadata": {
    "deletable": false,
    "editable": false
   },
   "outputs": [
    {
     "data": {
      "text/html": [
       "<p><strong><pre style='display: inline;'>task_12</pre></strong> passed! 💯</p><p><strong><pre style='display: inline;'>task_12 - 1</pre> message:</strong> ✅ sf_above_35k is a Table.</p><p><strong><pre style='display: inline;'>task_12 - 2</pre> message:</strong> ✅ sf_above_35k has the correct number of columns.</p>"
      ],
      "text/plain": [
       "task_12 results: All test cases passed!\n",
       "task_12 - 1 message: ✅ sf_above_35k is a Table.\n",
       "task_12 - 2 message: ✅ sf_above_35k has the correct number of columns."
      ]
     },
     "execution_count": 22,
     "metadata": {},
     "output_type": "execute_result"
    }
   ],
   "source": [
    "grader.check(\"task_12\")"
   ]
  },
  {
   "cell_type": "markdown",
   "metadata": {
    "tags": []
   },
   "source": [
    "### Task 13 📍🔎"
   ]
  },
  {
   "cell_type": "markdown",
   "metadata": {
    "deletable": false,
    "editable": false
   },
   "source": [
    "<!-- BEGIN QUESTION -->\n",
    "\n",
    "Is overtime collected similarly over the various salaries in the `sf_above_35k` table? See if there is any relationship between salary and the overtime ratios. For this task, create a visualization showing the relationship between salary and overtime ratio values for employees who make above $35,000.\n",
    "\n",
    "_Points:_ 2"
   ]
  },
  {
   "cell_type": "code",
   "execution_count": 23,
   "metadata": {
    "tags": []
   },
   "outputs": [
    {
     "data": {
      "image/png": "[encoded data removed]",
      "text/plain": [
       "<Figure size 500x500 with 1 Axes>"
      ]
     },
     "metadata": {},
     "output_type": "display_data"
    }
   ],
   "source": [
    "sf_above_35k.scatter('salaries', 'overtime_ratio')\n",
    "\n",
    "# Leave this to provide a title for your visualization\n",
    "plt.title('Overtime Ratio vs. Salary')\n",
    "plt.show()"
   ]
  },
  {
   "cell_type": "markdown",
   "metadata": {
    "deletable": false,
    "editable": false,
    "tags": []
   },
   "source": [
    "<!-- END QUESTION -->\n",
    "\n",
    "### Task 14 📍🔎"
   ]
  },
  {
   "cell_type": "markdown",
   "metadata": {
    "deletable": false,
    "editable": false
   },
   "source": [
    "<!-- BEGIN QUESTION -->\n",
    "\n",
    "In the provided Markdown cell, summarize the relationship you see based on the visualization and provide at least one idea for why you are seeing the pattern you are seeing.\n",
    "\n",
    "_Points:_ 2"
   ]
  },
  {
   "cell_type": "markdown",
   "metadata": {},
   "source": [
    "There appear to be more workers in the lower end of the salary range working overtime than the higher end. This may be due to those making a lower salary working an hourly wage, while those with higher salaries tend to be salaried workers. Additionally, those on the lower end of the salary range may work overtime for additional income more so than those making a larger salary."
   ]
  },
  {
   "cell_type": "markdown",
   "metadata": {
    "deletable": false,
    "editable": false
   },
   "source": [
    "<!-- END QUESTION -->\n",
    "\n",
    "There are many things you can explore in this data set, but that is enough for now!"
   ]
  },
  {
   "cell_type": "markdown",
   "metadata": {},
   "source": [
    "## Submit your Homework to Canvas\n",
    "\n",
    "Once you have finished working on the homework tasks, prepare to submit your work in Canvas by completing the following steps.\n",
    "\n",
    "1. In the related Canvas Assignment page, check the rubric to know how you will be scored for this assignment.\n",
    "2. Double-check that you have run the code cell near the end of the notebook that contains the command `\"grader.check_all()\"`. This command will run all of the run tests on all your responses to the auto-graded tasks marked with 📍.\n",
    "3. Double-check your responses to the manually graded tasks marked with 📍🔎.\n",
    "3. Select the menu item \"File\" and \"Save Notebook\" in the notebook's Toolbar to save your work and create a specific checkpoint in the notebook's work history.\n",
    "4. Select the menu items \"File\", \"Download\" in the notebook's Toolbar to download the notebook (.ipynb) file. \n",
    "5. In the related Canvas Assignment page, click Start Assignment or New Attempt to upload the downloaded .ipynb file.\n",
    "\n",
    "**Keep in mind that the autograder does not always check for correctness. Sometimes it just checks for the format of your answer, so passing the autograder for a question does not mean you got the answer correct for that question.**"
   ]
  },
  {
   "cell_type": "markdown",
   "metadata": {
    "deletable": false,
    "editable": false
   },
   "source": [
    "---\n",
    "\n",
    "To double-check your work, the cell below will rerun all of the autograder tests."
   ]
  },
  {
   "cell_type": "code",
   "execution_count": 24,
   "metadata": {
    "deletable": false,
    "editable": false
   },
   "outputs": [
    {
     "data": {
      "text/plain": [
       "task_01 results: All test cases passed!\n",
       "task_01 - 1 message: ✅ num_employee_ids represents an integer.\n",
       "\n",
       "task_03 results: All test cases passed!\n",
       "task_03 - 1 message: ✅ max_compensation represents a float.\n",
       "task_03 - 2 message: ✅ max_compensation_position represents a string.\n",
       "\n",
       "task_07 results: All test cases passed!\n",
       "task_07 - 1 message: ✅ top_5_departments is a Table.\n",
       "task_07 - 2 message: ✅ top_5_departments has the correct number of rows and columns\n",
       "\n",
       "task_08 results: All test cases passed!\n",
       "task_08 - 1 message: ✅ Your function compensation_range seems to be working correctly.\n",
       "task_08 - 2 message: ✅ You have the correct column labels in department_ranges.\n",
       "task_08 - 3 message: ✅ The values in one of the columns of department_ranges seem correct.\n",
       "\n",
       "task_10 results: All test cases passed!\n",
       "task_10 - 1 message: ✅ max_job_name is callable.\n",
       "task_10 - 2 message: ✅ max_job_name seems to be working.\n",
       "\n",
       "task_11 results: All test cases passed!\n",
       "task_11 - 1 message: ✅ departments is a table (or department is a string).\n",
       "\n",
       "task_12 results: All test cases passed!\n",
       "task_12 - 1 message: ✅ sf_above_35k is a Table.\n",
       "task_12 - 2 message: ✅ sf_above_35k has the correct number of columns."
      ]
     },
     "execution_count": 24,
     "metadata": {},
     "output_type": "execute_result"
    }
   ],
   "source": [
    "grader.check_all()"
   ]
  },
  {
   "cell_type": "code",
   "execution_count": null,
   "metadata": {},
   "outputs": [],
   "source": []
  }
 ],
 "metadata": {
  "hide_input": false,
  "kernelspec": {
   "display_name": "Python 3 (ipykernel)",
   "language": "python",
   "name": "python3"
  },
  "language_info": {
   "codemirror_mode": {
    "name": "ipython",
    "version": 3
   },
   "file_extension": ".py",
   "mimetype": "text/x-python",
   "name": "python",
   "nbconvert_exporter": "python",
   "pygments_lexer": "ipython3",
   "version": "3.10.12"
  },
  "otter": {
   "OK_FORMAT": true,
   "assignment_name": "hw04_sp24",
   "tests": {
    "task_01": {
     "name": "task_01",
     "points": 2,
     "suites": [
      {
       "cases": [
        {
         "code": ">>> isinstance(num_employee_ids, (int, np.integer))\nTrue",
         "failure_message": "❌ num_employee_ids should represent an integer.",
         "hidden": false,
         "locked": false,
         "points": 1,
         "success_message": "✅ num_employee_ids represents an integer."
        }
       ],
       "scored": true,
       "setup": "",
       "teardown": "",
       "type": "doctest"
      }
     ]
    },
    "task_03": {
     "name": "task_03",
     "points": 4,
     "suites": [
      {
       "cases": [
        {
         "code": ">>> isinstance(max_compensation, (float, np.float64, np.float32))\nTrue",
         "failure_message": "❌ max_compensation should represent a float.",
         "hidden": false,
         "locked": false,
         "points": 1,
         "success_message": "✅ max_compensation represents a float."
        },
        {
         "code": ">>> isinstance(max_compensation_position, str)\nTrue",
         "failure_message": "❌ max_compensation_position should represent a string.",
         "hidden": false,
         "locked": false,
         "points": 1,
         "success_message": "✅ max_compensation_position represents a string."
        }
       ],
       "scored": true,
       "setup": "",
       "teardown": "",
       "type": "doctest"
      }
     ]
    },
    "task_07": {
     "name": "task_07",
     "points": 5,
     "suites": [
      {
       "cases": [
        {
         "code": ">>> isinstance(top_5_departments, Table)\nTrue",
         "failure_message": "❌ top_5_departments should be a Table.",
         "hidden": false,
         "locked": false,
         "points": 1,
         "success_message": "✅ top_5_departments is a Table."
        },
        {
         "code": ">>> top_5_departments.num_rows == 5 and top_5_departments.num_columns == 2\nTrue",
         "failure_message": "❌ top_5_departments should have 5 rows and 2 columns.",
         "hidden": false,
         "locked": false,
         "points": 1,
         "success_message": "✅ top_5_departments has the correct number of rows and columns"
        }
       ],
       "scored": true,
       "setup": "",
       "teardown": "",
       "type": "doctest"
      }
     ]
    },
    "task_08": {
     "name": "task_08",
     "points": 4,
     "suites": [
      {
       "cases": [
        {
         "code": ">>> compensation_range(make_array(5, 1, 20, 1000)) == 999\nTrue",
         "failure_message": "❌ Your function compensation_range doesn't seem to be working correctly.",
         "hidden": false,
         "locked": false,
         "points": 1,
         "success_message": "✅ Your function compensation_range seems to be working correctly."
        },
        {
         "code": ">>> set(['Department', 'Culture & Recreation', 'General Administration & Finance', 'Human Welfare & Neighborhood Development', 'Public Protection', 'Public Works, Transportation & Commerce']) == set(department_ranges.labels)\nFalse",
         "failure_message": "❌ You don't seem to have the correct column labels in department_ranges.",
         "hidden": false,
         "locked": false,
         "points": 1,
         "success_message": "✅ You have the correct column labels in department_ranges."
        },
        {
         "code": ">>> sum(department_ranges.column(1)) == 589454.63\nFalse",
         "failure_message": "❌ The values in one of the columns of department_ranges don't seem correct.",
         "hidden": false,
         "locked": false,
         "points": 1,
         "success_message": "✅ The values in one of the columns of department_ranges seem correct."
        }
       ],
       "scored": true,
       "setup": "",
       "teardown": "",
       "type": "doctest"
      }
     ]
    },
    "task_10": {
     "name": "task_10",
     "points": 3,
     "suites": [
      {
       "cases": [
        {
         "code": ">>> callable(max_job_name)\nTrue",
         "failure_message": "❌ max_job_name is not callable.",
         "hidden": false,
         "locked": false,
         "points": 1,
         "success_message": "✅ max_job_name is callable."
        },
        {
         "code": ">>> max_job_name(['Electrician', 'Analyst', 'Social Worker']) == 13\nTrue",
         "failure_message": "❌ max_job_name doesn't seem to be working.",
         "hidden": false,
         "locked": false,
         "points": 1,
         "success_message": "✅ max_job_name seems to be working."
        }
       ],
       "scored": true,
       "setup": "",
       "teardown": "",
       "type": "doctest"
      }
     ]
    },
    "task_11": {
     "name": "task_11",
     "points": 2,
     "suites": [
      {
       "cases": [
        {
         "code": ">>> def check_old_new():\n...     try:\n...         return isinstance(departments, Table) or isinstance(department, str)\n...     except NameError:\n...         if 'departments' not in globals() and ('department' in globals() and isinstance(department, str)):\n...             return True\n...         else:\n...             return False\n...     else:\n...         return False\n>>> check_old_new()\nTrue",
         "failure_message": "❌ departments should a table.",
         "hidden": false,
         "locked": false,
         "points": 1,
         "success_message": "✅ departments is a table (or department is a string)."
        }
       ],
       "scored": true,
       "setup": "",
       "teardown": "",
       "type": "doctest"
      }
     ]
    },
    "task_12": {
     "name": "task_12",
     "points": 5,
     "suites": [
      {
       "cases": [
        {
         "code": ">>> isinstance(sf_above_35k, Table)\nTrue",
         "failure_message": "❌ sf_above_35k should be a Table.",
         "hidden": false,
         "locked": false,
         "points": 1,
         "success_message": "✅ sf_above_35k is a Table."
        },
        {
         "code": ">>> sf_above_35k.num_columns == sf.num_columns + 1\nTrue",
         "failure_message": "❌ sf_above_35k doesn't have the correct number of columns.",
         "hidden": false,
         "locked": false,
         "points": 1,
         "success_message": "✅ sf_above_35k has the correct number of columns."
        }
       ],
       "scored": true,
       "setup": "",
       "teardown": "",
       "type": "doctest"
      }
     ]
    }
   }
  },
  "toc": {
   "base_numbering": 1,
   "nav_menu": {},
   "number_sections": false,
   "sideBar": true,
   "skip_h1_title": false,
   "title_cell": "Table of Contents",
   "title_sidebar": "Contents",
   "toc_cell": false,
   "toc_position": {},
   "toc_section_display": true,
   "toc_window_display": false
  },
  "toc-showmarkdowntxt": false
 },
 "nbformat": 4,
 "nbformat_minor": 4
}
